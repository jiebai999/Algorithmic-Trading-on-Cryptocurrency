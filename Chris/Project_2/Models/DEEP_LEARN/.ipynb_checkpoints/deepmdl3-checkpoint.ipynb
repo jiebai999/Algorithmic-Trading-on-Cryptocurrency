{
 "cells": [
  {
   "cell_type": "code",
   "execution_count": 14,
   "metadata": {},
   "outputs": [],
   "source": [
    "# Initial imports\n",
    "import numpy as np\n",
    "import pandas as pd\n",
    "from pathlib import Path\n",
    "\n",
    "%matplotlib inline"
   ]
  },
  {
   "cell_type": "code",
   "execution_count": 15,
   "metadata": {},
   "outputs": [],
   "source": [
    " # Set path to CSV and read in CSV\n",
    "csv_path = Path(\"DATA/ETH/ETH_DATA.csv\")\n",
    "eth_df=pd.read_csv(csv_path)"
   ]
  },
  {
   "cell_type": "code",
   "execution_count": 16,
   "metadata": {},
   "outputs": [
    {
     "data": {
      "text/html": [
       "<div>\n",
       "<style scoped>\n",
       "    .dataframe tbody tr th:only-of-type {\n",
       "        vertical-align: middle;\n",
       "    }\n",
       "\n",
       "    .dataframe tbody tr th {\n",
       "        vertical-align: top;\n",
       "    }\n",
       "\n",
       "    .dataframe thead th {\n",
       "        text-align: right;\n",
       "    }\n",
       "</style>\n",
       "<table border=\"1\" class=\"dataframe\">\n",
       "  <thead>\n",
       "    <tr style=\"text-align: right;\">\n",
       "      <th></th>\n",
       "      <th>Currency</th>\n",
       "      <th>Date</th>\n",
       "      <th>Closing Price (USD)</th>\n",
       "      <th>24h Open (USD)</th>\n",
       "      <th>24h High (USD)</th>\n",
       "      <th>24h Low (USD)</th>\n",
       "    </tr>\n",
       "    <tr>\n",
       "      <th>Date</th>\n",
       "      <th></th>\n",
       "      <th></th>\n",
       "      <th></th>\n",
       "      <th></th>\n",
       "      <th></th>\n",
       "      <th></th>\n",
       "    </tr>\n",
       "  </thead>\n",
       "  <tbody>\n",
       "    <tr>\n",
       "      <th>2015-08-09</th>\n",
       "      <td>ETH</td>\n",
       "      <td>2015-08-09</td>\n",
       "      <td>0.909046</td>\n",
       "      <td>1.749289</td>\n",
       "      <td>1.916540</td>\n",
       "      <td>0.794497</td>\n",
       "    </tr>\n",
       "    <tr>\n",
       "      <th>2015-08-10</th>\n",
       "      <td>ETH</td>\n",
       "      <td>2015-08-10</td>\n",
       "      <td>0.692321</td>\n",
       "      <td>0.909046</td>\n",
       "      <td>0.909046</td>\n",
       "      <td>0.692321</td>\n",
       "    </tr>\n",
       "    <tr>\n",
       "      <th>2015-08-11</th>\n",
       "      <td>ETH</td>\n",
       "      <td>2015-08-11</td>\n",
       "      <td>0.668067</td>\n",
       "      <td>0.692321</td>\n",
       "      <td>0.692321</td>\n",
       "      <td>0.654331</td>\n",
       "    </tr>\n",
       "    <tr>\n",
       "      <th>2015-08-12</th>\n",
       "      <td>ETH</td>\n",
       "      <td>2015-08-12</td>\n",
       "      <td>0.850151</td>\n",
       "      <td>0.668067</td>\n",
       "      <td>1.148621</td>\n",
       "      <td>0.668067</td>\n",
       "    </tr>\n",
       "    <tr>\n",
       "      <th>2015-08-13</th>\n",
       "      <td>ETH</td>\n",
       "      <td>2015-08-13</td>\n",
       "      <td>1.266023</td>\n",
       "      <td>0.850151</td>\n",
       "      <td>1.266023</td>\n",
       "      <td>0.850151</td>\n",
       "    </tr>\n",
       "    <tr>\n",
       "      <th>2015-08-14</th>\n",
       "      <td>ETH</td>\n",
       "      <td>2015-08-14</td>\n",
       "      <td>1.951460</td>\n",
       "      <td>1.266023</td>\n",
       "      <td>2.073329</td>\n",
       "      <td>1.149458</td>\n",
       "    </tr>\n",
       "    <tr>\n",
       "      <th>2015-08-15</th>\n",
       "      <td>ETH</td>\n",
       "      <td>2015-08-15</td>\n",
       "      <td>1.591219</td>\n",
       "      <td>1.951460</td>\n",
       "      <td>2.225695</td>\n",
       "      <td>1.591219</td>\n",
       "    </tr>\n",
       "    <tr>\n",
       "      <th>2015-08-16</th>\n",
       "      <td>ETH</td>\n",
       "      <td>2015-08-16</td>\n",
       "      <td>1.693707</td>\n",
       "      <td>1.591219</td>\n",
       "      <td>1.768860</td>\n",
       "      <td>1.591219</td>\n",
       "    </tr>\n",
       "    <tr>\n",
       "      <th>2015-08-17</th>\n",
       "      <td>ETH</td>\n",
       "      <td>2015-08-17</td>\n",
       "      <td>1.423244</td>\n",
       "      <td>1.693707</td>\n",
       "      <td>1.693707</td>\n",
       "      <td>1.099489</td>\n",
       "    </tr>\n",
       "    <tr>\n",
       "      <th>2015-08-18</th>\n",
       "      <td>ETH</td>\n",
       "      <td>2015-08-18</td>\n",
       "      <td>1.199595</td>\n",
       "      <td>1.423244</td>\n",
       "      <td>1.469168</td>\n",
       "      <td>1.193790</td>\n",
       "    </tr>\n",
       "  </tbody>\n",
       "</table>\n",
       "</div>"
      ],
      "text/plain": [
       "           Currency        Date  Closing Price (USD)  24h Open (USD)  \\\n",
       "Date                                                                   \n",
       "2015-08-09      ETH  2015-08-09             0.909046        1.749289   \n",
       "2015-08-10      ETH  2015-08-10             0.692321        0.909046   \n",
       "2015-08-11      ETH  2015-08-11             0.668067        0.692321   \n",
       "2015-08-12      ETH  2015-08-12             0.850151        0.668067   \n",
       "2015-08-13      ETH  2015-08-13             1.266023        0.850151   \n",
       "2015-08-14      ETH  2015-08-14             1.951460        1.266023   \n",
       "2015-08-15      ETH  2015-08-15             1.591219        1.951460   \n",
       "2015-08-16      ETH  2015-08-16             1.693707        1.591219   \n",
       "2015-08-17      ETH  2015-08-17             1.423244        1.693707   \n",
       "2015-08-18      ETH  2015-08-18             1.199595        1.423244   \n",
       "\n",
       "            24h High (USD)  24h Low (USD)  \n",
       "Date                                       \n",
       "2015-08-09        1.916540       0.794497  \n",
       "2015-08-10        0.909046       0.692321  \n",
       "2015-08-11        0.692321       0.654331  \n",
       "2015-08-12        1.148621       0.668067  \n",
       "2015-08-13        1.266023       0.850151  \n",
       "2015-08-14        2.073329       1.149458  \n",
       "2015-08-15        2.225695       1.591219  \n",
       "2015-08-16        1.768860       1.591219  \n",
       "2015-08-17        1.693707       1.099489  \n",
       "2015-08-18        1.469168       1.193790  "
      ]
     },
     "execution_count": 16,
     "metadata": {},
     "output_type": "execute_result"
    }
   ],
   "source": [
    " # Set index as Date\n",
    "eth_df = eth_df.set_index(pd.to_datetime(eth_df[\"Date\"], infer_datetime_format=True))\n",
    "\n",
    "# Display sample data\n",
    "eth_df.head(10)"
   ]
  },
  {
   "cell_type": "code",
   "execution_count": 17,
   "metadata": {},
   "outputs": [
    {
     "data": {
      "text/plain": [
       "False"
      ]
     },
     "execution_count": 17,
     "metadata": {},
     "output_type": "execute_result"
    }
   ],
   "source": [
    "#check for na\n",
    "eth_df.isnull().values.any()"
   ]
  },
  {
   "cell_type": "code",
   "execution_count": 18,
   "metadata": {},
   "outputs": [],
   "source": [
    "# Set the random seed to (2)\n",
    "from numpy.random import seed\n",
    "\n",
    "seed(1)\n",
    "from tensorflow import random\n",
    "\n",
    "random.set_seed(2)"
   ]
  },
  {
   "cell_type": "code",
   "execution_count": 19,
   "metadata": {},
   "outputs": [],
   "source": [
    "def window_data(df, window, feature_col_number, target_col_number):\n",
    "    X = []\n",
    "    y = []\n",
    "    for i in range(len(df) - window):\n",
    "        features = df.iloc[i : (i + window), feature_col_number]\n",
    "        target = df.iloc[(i + window), target_col_number]\n",
    "        X.append(features)\n",
    "        y.append(target)\n",
    "    return np.array(X), np.array(y).reshape(-1, 1)"
   ]
  },
  {
   "cell_type": "code",
   "execution_count": 23,
   "metadata": {},
   "outputs": [
    {
     "name": "stdout",
     "output_type": "stream",
     "text": [
      "X sample values:\n",
      "[[0.909046 0.692321 0.668067 0.850151 1.266023 1.95146  1.591219]\n",
      " [0.692321 0.668067 0.850151 1.266023 1.95146  1.591219 1.693707]\n",
      " [0.668067 0.850151 1.266023 1.95146  1.591219 1.693707 1.423244]] \n",
      "\n",
      "y sample values:\n",
      "[[1.693707]\n",
      " [1.423244]\n",
      " [1.199595]]\n"
     ]
    }
   ],
   "source": [
    "# Define the window size\n",
    "window_size = 7\n",
    "\n",
    "# Set the index of the feature and target columns\n",
    "feature_column = 2\n",
    "target_column = 2\n",
    "\n",
    "# Create the features (X) and target (y) data using the window_data() function.\n",
    "X, y = window_data(eth_df, window_size, feature_column, target_column)\n",
    "\n",
    "# Print a few sample values from X and y\n",
    "print (f\"X sample values:\\n{X[:3]} \\n\")\n",
    "print (f\"y sample values:\\n{y[:3]}\")"
   ]
  },
  {
   "cell_type": "code",
   "execution_count": 24,
   "metadata": {},
   "outputs": [],
   "source": [
    " # Manually splitting the data\n",
    "split = int(0.7 * len(X))\n",
    "\n",
    "X_train = X[: split]\n",
    "X_test = X[split:]\n",
    "\n",
    "y_train = y[: split]\n",
    "y_test = y[split:]"
   ]
  },
  {
   "cell_type": "code",
   "execution_count": 25,
   "metadata": {},
   "outputs": [],
   "source": [
    " # Importing the MinMaxScaler from sklearn\n",
    "from sklearn.preprocessing import MinMaxScaler\n",
    "\n",
    "# Create a MinMaxScaler object\n",
    "scaler = MinMaxScaler()\n",
    "\n",
    "# Fit the MinMaxScaler object with the features data X\n",
    "scaler.fit(X)\n",
    "\n",
    "# Scale the features training and testing sets\n",
    "X_train = scaler.transform(X_train)\n",
    "X_test = scaler.transform(X_test)\n",
    "\n",
    "# Fit the MinMaxScaler object with the target data Y\n",
    "scaler.fit(y)\n",
    "\n",
    "# Scale the target training and testing sets\n",
    "y_train = scaler.transform(y_train)\n",
    "y_test = scaler.transform(y_test)"
   ]
  },
  {
   "cell_type": "code",
   "execution_count": 26,
   "metadata": {},
   "outputs": [
    {
     "name": "stdout",
     "output_type": "stream",
     "text": [
      "X_train sample values:\n",
      "[[[1.16315033e-04]\n",
      "  [6.38688232e-05]\n",
      "  [5.79994940e-05]\n",
      "  [1.02062780e-04]\n",
      "  [2.02701423e-04]\n",
      "  [3.68573253e-04]\n",
      "  [2.81396994e-04]]\n",
      "\n",
      " [[6.38688232e-05]\n",
      "  [5.79994940e-05]\n",
      "  [1.02062780e-04]\n",
      "  [2.02701423e-04]\n",
      "  [3.68573253e-04]\n",
      "  [2.81396994e-04]\n",
      "  [3.06198503e-04]]\n",
      "\n",
      " [[5.79994940e-05]\n",
      "  [1.02062780e-04]\n",
      "  [2.02701423e-04]\n",
      "  [3.68573253e-04]\n",
      "  [2.81396994e-04]\n",
      "  [3.06198503e-04]\n",
      "  [2.40748005e-04]]] \n",
      "\n",
      "X_test sample values:\n",
      "[[[0.04379478]\n",
      "  [0.04364628]\n",
      "  [0.04663782]\n",
      "  [0.0464072 ]\n",
      "  [0.04369936]\n",
      "  [0.0436468 ]\n",
      "  [0.04382717]]\n",
      "\n",
      " [[0.04364628]\n",
      "  [0.04663782]\n",
      "  [0.0464072 ]\n",
      "  [0.04369936]\n",
      "  [0.0436468 ]\n",
      "  [0.04382717]\n",
      "  [0.04493723]]\n",
      "\n",
      " [[0.04663782]\n",
      "  [0.0464072 ]\n",
      "  [0.04369936]\n",
      "  [0.0436468 ]\n",
      "  [0.04382717]\n",
      "  [0.04493723]\n",
      "  [0.04359566]]]\n"
     ]
    }
   ],
   "source": [
    " # Reshape the features data\n",
    "X_train = X_train.reshape((X_train.shape[0], X_train.shape[1], 1))\n",
    "X_test = X_test.reshape((X_test.shape[0], X_test.shape[1], 1))\n",
    "\n",
    "# Print some sample data after reshaping the datasets\n",
    "print (f\"X_train sample values:\\n{X_train[:3]} \\n\")\n",
    "print (f\"X_test sample values:\\n{X_test[:3]}\")"
   ]
  },
  {
   "cell_type": "code",
   "execution_count": 27,
   "metadata": {},
   "outputs": [],
   "source": [
    " # Importing required Keras modules\n",
    "from tensorflow.keras.models import Sequential\n",
    "from tensorflow.keras.layers import LSTM, Dense, Dropout"
   ]
  },
  {
   "cell_type": "code",
   "execution_count": 28,
   "metadata": {},
   "outputs": [],
   "source": [
    "# Define the LSTM RNN model.\n",
    "model = Sequential()\n",
    "\n",
    "# Initial model setup\n",
    "number_units = 7\n",
    "dropout_fraction = 0.2\n",
    "\n",
    "# Layer 1\n",
    "model.add(LSTM(\n",
    "    units=number_units,\n",
    "    return_sequences=True,\n",
    "    input_shape=(X_train.shape[1], 1))\n",
    "    )\n",
    "model.add(Dropout(dropout_fraction))\n",
    "\n",
    "# Layer 2\n",
    "model.add(LSTM(units=number_units, return_sequences=True))\n",
    "model.add(Dropout(dropout_fraction))\n",
    "\n",
    "# Layer 3\n",
    "model.add(LSTM(units=number_units))\n",
    "model.add(Dropout(dropout_fraction))\n",
    "\n",
    "# Output layer\n",
    "model.add(Dense(1))"
   ]
  },
  {
   "cell_type": "code",
   "execution_count": 29,
   "metadata": {},
   "outputs": [],
   "source": [
    " # Compile the model\n",
    "model.compile(optimizer=\"adam\", loss=\"mean_squared_error\")"
   ]
  },
  {
   "cell_type": "code",
   "execution_count": 30,
   "metadata": {},
   "outputs": [
    {
     "name": "stdout",
     "output_type": "stream",
     "text": [
      "Model: \"sequential\"\n",
      "_________________________________________________________________\n",
      "Layer (type)                 Output Shape              Param #   \n",
      "=================================================================\n",
      "lstm (LSTM)                  (None, 7, 7)              252       \n",
      "_________________________________________________________________\n",
      "dropout (Dropout)            (None, 7, 7)              0         \n",
      "_________________________________________________________________\n",
      "lstm_1 (LSTM)                (None, 7, 7)              420       \n",
      "_________________________________________________________________\n",
      "dropout_1 (Dropout)          (None, 7, 7)              0         \n",
      "_________________________________________________________________\n",
      "lstm_2 (LSTM)                (None, 7)                 420       \n",
      "_________________________________________________________________\n",
      "dropout_2 (Dropout)          (None, 7)                 0         \n",
      "_________________________________________________________________\n",
      "dense (Dense)                (None, 1)                 8         \n",
      "=================================================================\n",
      "Total params: 1,100\n",
      "Trainable params: 1,100\n",
      "Non-trainable params: 0\n",
      "_________________________________________________________________\n"
     ]
    }
   ],
   "source": [
    "# Show the model summary\n",
    "model.summary()"
   ]
  },
  {
   "cell_type": "code",
   "execution_count": 31,
   "metadata": {},
   "outputs": [
    {
     "name": "stdout",
     "output_type": "stream",
     "text": [
      "Epoch 1/10\n",
      "17/17 [==============================] - 7s 9ms/step - loss: 0.0054\n",
      "Epoch 2/10\n",
      "17/17 [==============================] - 0s 9ms/step - loss: 0.0040\n",
      "Epoch 3/10\n",
      "17/17 [==============================] - 0s 9ms/step - loss: 0.0040\n",
      "Epoch 4/10\n",
      "17/17 [==============================] - 0s 9ms/step - loss: 0.0038\n",
      "Epoch 5/10\n",
      "17/17 [==============================] - 0s 9ms/step - loss: 0.0035\n",
      "Epoch 6/10\n",
      "17/17 [==============================] - 0s 9ms/step - loss: 0.0031\n",
      "Epoch 7/10\n",
      "17/17 [==============================] - 0s 10ms/step - loss: 0.0027\n",
      "Epoch 8/10\n",
      "17/17 [==============================] - 0s 10ms/step - loss: 0.0021\n",
      "Epoch 9/10\n",
      "17/17 [==============================] - 0s 9ms/step - loss: 0.0016\n",
      "Epoch 10/10\n",
      "17/17 [==============================] - 0s 9ms/step - loss: 8.9039e-04\n"
     ]
    },
    {
     "data": {
      "text/plain": [
       "<tensorflow.python.keras.callbacks.History at 0x1b252583700>"
      ]
     },
     "execution_count": 31,
     "metadata": {},
     "output_type": "execute_result"
    }
   ],
   "source": [
    "# Train the model\n",
    "model.fit(X_train, y_train, epochs=10, shuffle=False, batch_size=90, verbose=1)"
   ]
  },
  {
   "cell_type": "code",
   "execution_count": 32,
   "metadata": {},
   "outputs": [
    {
     "data": {
      "text/plain": [
       "0.004878683015704155"
      ]
     },
     "execution_count": 32,
     "metadata": {},
     "output_type": "execute_result"
    }
   ],
   "source": [
    " # Evaluate the model\n",
    "model.evaluate(X_test, y_test, verbose=0)"
   ]
  },
  {
   "cell_type": "code",
   "execution_count": 33,
   "metadata": {},
   "outputs": [],
   "source": [
    " # Make predictions using the testing data X_test\n",
    "predicted = model.predict(X_test)"
   ]
  },
  {
   "cell_type": "code",
   "execution_count": 34,
   "metadata": {},
   "outputs": [],
   "source": [
    "# Recover the original prices instead of the scaled version\n",
    "predicted_prices = scaler.inverse_transform(predicted)\n",
    "real_prices = scaler.inverse_transform(y_test.reshape(-1, 1))"
   ]
  },
  {
   "cell_type": "code",
   "execution_count": 35,
   "metadata": {},
   "outputs": [
    {
     "data": {
      "text/html": [
       "<div>\n",
       "<style scoped>\n",
       "    .dataframe tbody tr th:only-of-type {\n",
       "        vertical-align: middle;\n",
       "    }\n",
       "\n",
       "    .dataframe tbody tr th {\n",
       "        vertical-align: top;\n",
       "    }\n",
       "\n",
       "    .dataframe thead th {\n",
       "        text-align: right;\n",
       "    }\n",
       "</style>\n",
       "<table border=\"1\" class=\"dataframe\">\n",
       "  <thead>\n",
       "    <tr style=\"text-align: right;\">\n",
       "      <th></th>\n",
       "      <th>Actual</th>\n",
       "      <th>Predicted</th>\n",
       "    </tr>\n",
       "    <tr>\n",
       "      <th>Date</th>\n",
       "      <th></th>\n",
       "      <th></th>\n",
       "    </tr>\n",
       "  </thead>\n",
       "  <tbody>\n",
       "    <tr>\n",
       "      <th>2019-10-14</th>\n",
       "      <td>186.123827</td>\n",
       "      <td>190.845535</td>\n",
       "    </tr>\n",
       "    <tr>\n",
       "      <th>2019-10-15</th>\n",
       "      <td>180.580000</td>\n",
       "      <td>191.634140</td>\n",
       "    </tr>\n",
       "    <tr>\n",
       "      <th>2019-10-16</th>\n",
       "      <td>174.754083</td>\n",
       "      <td>192.576126</td>\n",
       "    </tr>\n",
       "    <tr>\n",
       "      <th>2019-10-17</th>\n",
       "      <td>176.390105</td>\n",
       "      <td>190.544968</td>\n",
       "    </tr>\n",
       "    <tr>\n",
       "      <th>2019-10-18</th>\n",
       "      <td>173.750089</td>\n",
       "      <td>188.236511</td>\n",
       "    </tr>\n",
       "  </tbody>\n",
       "</table>\n",
       "</div>"
      ],
      "text/plain": [
       "                Actual   Predicted\n",
       "Date                              \n",
       "2019-10-14  186.123827  190.845535\n",
       "2019-10-15  180.580000  191.634140\n",
       "2019-10-16  174.754083  192.576126\n",
       "2019-10-17  176.390105  190.544968\n",
       "2019-10-18  173.750089  188.236511"
      ]
     },
     "execution_count": 35,
     "metadata": {},
     "output_type": "execute_result"
    }
   ],
   "source": [
    " # Create a DataFrame of Real and Predicted values\n",
    "eth_eval = pd.DataFrame({\n",
    "    \"Actual\": real_prices.ravel(),\n",
    "    \"Predicted\": predicted_prices.ravel()\n",
    "}, index = eth_df.index[-len(real_prices): ]) \n",
    "\n",
    "# Show the DataFrame's head\n",
    "eth_eval.head()"
   ]
  },
  {
   "cell_type": "code",
   "execution_count": 36,
   "metadata": {},
   "outputs": [
    {
     "data": {
      "text/plain": [
       "<AxesSubplot:title={'center':'Actual Vs. Predicted ETH Prices'}, xlabel='Date'>"
      ]
     },
     "execution_count": 36,
     "metadata": {},
     "output_type": "execute_result"
    },
    {
     "data": {
      "image/png": "[encoded data removed]",
      "text/plain": [
       "<Figure size 432x288 with 1 Axes>"
      ]
     },
     "metadata": {
      "needs_background": "light"
     },
     "output_type": "display_data"
    }
   ],
   "source": [
    " # Plot the real vs predicted prices as a line chart\n",
    "eth_eval.plot(title=\"Actual Vs. Predicted ETH Prices\")"
   ]
  },
  {
   "cell_type": "code",
   "execution_count": null,
   "metadata": {},
   "outputs": [],
   "source": []
  }
 ],
 "metadata": {
  "kernelspec": {
   "display_name": "Python 3",
   "language": "python",
   "name": "python3"
  },
  "language_info": {
   "codemirror_mode": {
    "name": "ipython",
    "version": 3
   },
   "file_extension": ".py",
   "mimetype": "text/x-python",
   "name": "python",
   "nbconvert_exporter": "python",
   "pygments_lexer": "ipython3",
   "version": "3.8.5"
  }
 },
 "nbformat": 4,
 "nbformat_minor": 4
}
