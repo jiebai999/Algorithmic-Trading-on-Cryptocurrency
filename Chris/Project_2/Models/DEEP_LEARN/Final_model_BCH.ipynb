{
 "cells": [
  {
   "cell_type": "code",
   "execution_count": 32,
   "metadata": {},
   "outputs": [],
   "source": [
    "# Initial imports\n",
    "import numpy as np\n",
    "import pandas as pd\n",
    "from pathlib import Path\n",
    "\n",
    "%matplotlib inline"
   ]
  },
  {
   "cell_type": "code",
   "execution_count": 33,
   "metadata": {},
   "outputs": [],
   "source": [
    " # Set path to CSV and read in CSV\n",
    "csv_path = Path(\"DATA/BCH/BCH_DATA.csv\")\n",
    "bch_df=pd.read_csv(csv_path)"
   ]
  },
  {
   "cell_type": "code",
   "execution_count": 34,
   "metadata": {},
   "outputs": [
    {
     "data": {
      "text/html": [
       "<div>\n",
       "<style scoped>\n",
       "    .dataframe tbody tr th:only-of-type {\n",
       "        vertical-align: middle;\n",
       "    }\n",
       "\n",
       "    .dataframe tbody tr th {\n",
       "        vertical-align: top;\n",
       "    }\n",
       "\n",
       "    .dataframe thead th {\n",
       "        text-align: right;\n",
       "    }\n",
       "</style>\n",
       "<table border=\"1\" class=\"dataframe\">\n",
       "  <thead>\n",
       "    <tr style=\"text-align: right;\">\n",
       "      <th></th>\n",
       "      <th>Currency</th>\n",
       "      <th>Date</th>\n",
       "      <th>Closing Price (USD)</th>\n",
       "      <th>24h Open (USD)</th>\n",
       "      <th>24h High (USD)</th>\n",
       "      <th>24h Low (USD)</th>\n",
       "    </tr>\n",
       "    <tr>\n",
       "      <th>Date</th>\n",
       "      <th></th>\n",
       "      <th></th>\n",
       "      <th></th>\n",
       "      <th></th>\n",
       "      <th></th>\n",
       "      <th></th>\n",
       "    </tr>\n",
       "  </thead>\n",
       "  <tbody>\n",
       "    <tr>\n",
       "      <th>2018-05-31</th>\n",
       "      <td>BCH</td>\n",
       "      <td>2018-05-31</td>\n",
       "      <td>988.508185</td>\n",
       "      <td>1000.022860</td>\n",
       "      <td>1009.098005</td>\n",
       "      <td>984.241607</td>\n",
       "    </tr>\n",
       "    <tr>\n",
       "      <th>2018-06-01</th>\n",
       "      <td>BCH</td>\n",
       "      <td>2018-06-01</td>\n",
       "      <td>1004.699341</td>\n",
       "      <td>996.425004</td>\n",
       "      <td>1012.734857</td>\n",
       "      <td>979.128068</td>\n",
       "    </tr>\n",
       "    <tr>\n",
       "      <th>2018-06-02</th>\n",
       "      <td>BCH</td>\n",
       "      <td>2018-06-02</td>\n",
       "      <td>1071.102569</td>\n",
       "      <td>1002.343366</td>\n",
       "      <td>1100.516301</td>\n",
       "      <td>992.421075</td>\n",
       "    </tr>\n",
       "    <tr>\n",
       "      <th>2018-06-03</th>\n",
       "      <td>BCH</td>\n",
       "      <td>2018-06-03</td>\n",
       "      <td>1163.478967</td>\n",
       "      <td>1083.841395</td>\n",
       "      <td>1195.747117</td>\n",
       "      <td>1070.126389</td>\n",
       "    </tr>\n",
       "    <tr>\n",
       "      <th>2018-06-04</th>\n",
       "      <td>BCH</td>\n",
       "      <td>2018-06-04</td>\n",
       "      <td>1114.227267</td>\n",
       "      <td>1166.412662</td>\n",
       "      <td>1212.603625</td>\n",
       "      <td>1074.647407</td>\n",
       "    </tr>\n",
       "    <tr>\n",
       "      <th>2018-06-05</th>\n",
       "      <td>BCH</td>\n",
       "      <td>2018-06-05</td>\n",
       "      <td>1147.077272</td>\n",
       "      <td>1114.227267</td>\n",
       "      <td>1159.599472</td>\n",
       "      <td>1047.306037</td>\n",
       "    </tr>\n",
       "    <tr>\n",
       "      <th>2018-06-06</th>\n",
       "      <td>BCH</td>\n",
       "      <td>2018-06-06</td>\n",
       "      <td>1128.990000</td>\n",
       "      <td>1147.990000</td>\n",
       "      <td>1160.062100</td>\n",
       "      <td>1099.906836</td>\n",
       "    </tr>\n",
       "    <tr>\n",
       "      <th>2018-06-07</th>\n",
       "      <td>BCH</td>\n",
       "      <td>2018-06-07</td>\n",
       "      <td>1143.230000</td>\n",
       "      <td>1128.990000</td>\n",
       "      <td>1167.000000</td>\n",
       "      <td>1127.020000</td>\n",
       "    </tr>\n",
       "    <tr>\n",
       "      <th>2018-06-08</th>\n",
       "      <td>BCH</td>\n",
       "      <td>2018-06-08</td>\n",
       "      <td>1115.220000</td>\n",
       "      <td>1143.230000</td>\n",
       "      <td>1148.500000</td>\n",
       "      <td>1087.110000</td>\n",
       "    </tr>\n",
       "    <tr>\n",
       "      <th>2018-06-09</th>\n",
       "      <td>BCH</td>\n",
       "      <td>2018-06-09</td>\n",
       "      <td>1086.371506</td>\n",
       "      <td>1115.220000</td>\n",
       "      <td>1135.225840</td>\n",
       "      <td>1082.780000</td>\n",
       "    </tr>\n",
       "  </tbody>\n",
       "</table>\n",
       "</div>"
      ],
      "text/plain": [
       "           Currency        Date  Closing Price (USD)  24h Open (USD)  \\\n",
       "Date                                                                   \n",
       "2018-05-31      BCH  2018-05-31           988.508185     1000.022860   \n",
       "2018-06-01      BCH  2018-06-01          1004.699341      996.425004   \n",
       "2018-06-02      BCH  2018-06-02          1071.102569     1002.343366   \n",
       "2018-06-03      BCH  2018-06-03          1163.478967     1083.841395   \n",
       "2018-06-04      BCH  2018-06-04          1114.227267     1166.412662   \n",
       "2018-06-05      BCH  2018-06-05          1147.077272     1114.227267   \n",
       "2018-06-06      BCH  2018-06-06          1128.990000     1147.990000   \n",
       "2018-06-07      BCH  2018-06-07          1143.230000     1128.990000   \n",
       "2018-06-08      BCH  2018-06-08          1115.220000     1143.230000   \n",
       "2018-06-09      BCH  2018-06-09          1086.371506     1115.220000   \n",
       "\n",
       "            24h High (USD)  24h Low (USD)  \n",
       "Date                                       \n",
       "2018-05-31     1009.098005     984.241607  \n",
       "2018-06-01     1012.734857     979.128068  \n",
       "2018-06-02     1100.516301     992.421075  \n",
       "2018-06-03     1195.747117    1070.126389  \n",
       "2018-06-04     1212.603625    1074.647407  \n",
       "2018-06-05     1159.599472    1047.306037  \n",
       "2018-06-06     1160.062100    1099.906836  \n",
       "2018-06-07     1167.000000    1127.020000  \n",
       "2018-06-08     1148.500000    1087.110000  \n",
       "2018-06-09     1135.225840    1082.780000  "
      ]
     },
     "execution_count": 34,
     "metadata": {},
     "output_type": "execute_result"
    }
   ],
   "source": [
    " # Set index as Date\n",
    "bch_df = bch_df.set_index(pd.to_datetime(bch_df[\"Date\"], infer_datetime_format=True))\n",
    "\n",
    "# Display sample data\n",
    "bch_df.head(10)"
   ]
  },
  {
   "cell_type": "code",
   "execution_count": 35,
   "metadata": {},
   "outputs": [
    {
     "data": {
      "text/plain": [
       "False"
      ]
     },
     "execution_count": 35,
     "metadata": {},
     "output_type": "execute_result"
    }
   ],
   "source": [
    "#check for na\n",
    "bch_df.isnull().values.any()"
   ]
  },
  {
   "cell_type": "code",
   "execution_count": 36,
   "metadata": {},
   "outputs": [],
   "source": [
    "# Set the random seed to (2)\n",
    "from numpy.random import seed\n",
    "\n",
    "seed(1)\n",
    "from tensorflow import random\n",
    "\n",
    "random.set_seed(2)"
   ]
  },
  {
   "cell_type": "code",
   "execution_count": 37,
   "metadata": {},
   "outputs": [],
   "source": [
    "def window_data(df, window, feature_col_number, target_col_number):\n",
    "    X = []\n",
    "    y = []\n",
    "    for i in range(len(df) - window):\n",
    "        features = df.iloc[i : (i + window), feature_col_number]\n",
    "        target = df.iloc[(i + window), target_col_number]\n",
    "        X.append(features)\n",
    "        y.append(target)\n",
    "    return np.array(X), np.array(y).reshape(-1, 1)"
   ]
  },
  {
   "cell_type": "code",
   "execution_count": 38,
   "metadata": {},
   "outputs": [
    {
     "name": "stdout",
     "output_type": "stream",
     "text": [
      "X sample values:\n",
      "[[ 988.50818539 1004.69934074 1071.10256902 1163.47896686 1114.22726693\n",
      "  1147.07727228 1128.99       1143.23       1115.22      ]\n",
      " [1004.69934074 1071.10256902 1163.47896686 1114.22726693 1147.07727228\n",
      "  1128.99       1143.23       1115.22       1086.37150643]\n",
      " [1071.10256902 1163.47896686 1114.22726693 1147.07727228 1128.99\n",
      "  1143.23       1115.22       1086.37150643  938.364966  ]] \n",
      "\n",
      "y sample values:\n",
      "[[1086.37150643]\n",
      " [ 938.364966  ]\n",
      " [ 947.50682138]]\n"
     ]
    }
   ],
   "source": [
    "# Define the window size\n",
    "window_size = 9\n",
    "\n",
    "# Set the index of the feature and target columns\n",
    "feature_column = 2\n",
    "target_column = 2\n",
    "\n",
    "# Create the features (X) and target (y) data using the window_data() function.\n",
    "X, y = window_data(bch_df, window_size, feature_column, target_column)\n",
    "\n",
    "# Print a few sample values from X and y\n",
    "print (f\"X sample values:\\n{X[:3]} \\n\")\n",
    "print (f\"y sample values:\\n{y[:3]}\")"
   ]
  },
  {
   "cell_type": "code",
   "execution_count": 39,
   "metadata": {},
   "outputs": [],
   "source": [
    " # Manually splitting the data\n",
    "split = int(0.7 * len(X))\n",
    "\n",
    "X_train = X[: split]\n",
    "X_test = X[split:]\n",
    "\n",
    "y_train = y[: split]\n",
    "y_test = y[split:]"
   ]
  },
  {
   "cell_type": "code",
   "execution_count": 40,
   "metadata": {},
   "outputs": [],
   "source": [
    " # Importing the MinMaxScaler from sklearn\n",
    "from sklearn.preprocessing import MinMaxScaler\n",
    "\n",
    "# Create a MinMaxScaler object\n",
    "scaler = MinMaxScaler()\n",
    "\n",
    "# Fit the MinMaxScaler object with the features data X\n",
    "scaler.fit(X)\n",
    "\n",
    "# Scale the features training and testing sets\n",
    "X_train = scaler.transform(X_train)\n",
    "X_test = scaler.transform(X_test)\n",
    "\n",
    "# Fit the MinMaxScaler object with the target data Y\n",
    "scaler.fit(y)\n",
    "\n",
    "# Scale the target training and testing sets\n",
    "y_train = scaler.transform(y_train)\n",
    "y_test = scaler.transform(y_test)"
   ]
  },
  {
   "cell_type": "code",
   "execution_count": 41,
   "metadata": {},
   "outputs": [
    {
     "name": "stdout",
     "output_type": "stream",
     "text": [
      "X_train sample values:\n",
      "[[[0.62804833]\n",
      "  [0.63920264]\n",
      "  [0.68494877]\n",
      "  [0.74858817]\n",
      "  [0.71465798]\n",
      "  [0.73728881]\n",
      "  [0.72482823]\n",
      "  [0.73463837]\n",
      "  [0.71534189]]\n",
      "\n",
      " [[0.63920264]\n",
      "  [0.68494877]\n",
      "  [0.74858817]\n",
      "  [0.71465798]\n",
      "  [0.73728881]\n",
      "  [0.72482823]\n",
      "  [0.73463837]\n",
      "  [0.71534189]\n",
      "  [0.69546775]]\n",
      "\n",
      " [[0.68494877]\n",
      "  [0.74858817]\n",
      "  [0.71465798]\n",
      "  [0.73728881]\n",
      "  [0.72482823]\n",
      "  [0.73463837]\n",
      "  [0.71534189]\n",
      "  [0.69546775]\n",
      "  [0.59350396]]] \n",
      "\n",
      "X_test sample values:\n",
      "[[[0.15275536]\n",
      "  [0.15580687]\n",
      "  [0.13930414]\n",
      "  [0.14243493]\n",
      "  [0.1516816 ]\n",
      "  [0.15029933]\n",
      "  [0.1562885 ]\n",
      "  [0.15835258]\n",
      "  [0.17110851]]\n",
      "\n",
      " [[0.15580687]\n",
      "  [0.13930414]\n",
      "  [0.14243493]\n",
      "  [0.1516816 ]\n",
      "  [0.15029933]\n",
      "  [0.1562885 ]\n",
      "  [0.15835258]\n",
      "  [0.17110851]\n",
      "  [0.15918832]]\n",
      "\n",
      " [[0.13930414]\n",
      "  [0.14243493]\n",
      "  [0.1516816 ]\n",
      "  [0.15029933]\n",
      "  [0.1562885 ]\n",
      "  [0.15835258]\n",
      "  [0.17110851]\n",
      "  [0.15918832]\n",
      "  [0.14726212]]]\n"
     ]
    }
   ],
   "source": [
    " # Reshape the features data\n",
    "X_train = X_train.reshape((X_train.shape[0], X_train.shape[1], 1))\n",
    "X_test = X_test.reshape((X_test.shape[0], X_test.shape[1], 1))\n",
    "\n",
    "# Print some sample data after reshaping the datasets\n",
    "print (f\"X_train sample values:\\n{X_train[:3]} \\n\")\n",
    "print (f\"X_test sample values:\\n{X_test[:3]}\")"
   ]
  },
  {
   "cell_type": "code",
   "execution_count": 42,
   "metadata": {},
   "outputs": [],
   "source": [
    " # Importing required Keras modules\n",
    "from tensorflow.keras.models import Sequential\n",
    "from tensorflow.keras.layers import LSTM, Dense, Dropout"
   ]
  },
  {
   "cell_type": "code",
   "execution_count": 43,
   "metadata": {},
   "outputs": [],
   "source": [
    "# Define the LSTM RNN model.\n",
    "model = Sequential()\n",
    "\n",
    "# Initial model setup\n",
    "number_units = 9\n",
    "dropout_fraction = 0.2\n",
    "\n",
    "# Layer 1\n",
    "model.add(LSTM(\n",
    "    units=number_units,\n",
    "    return_sequences=True,\n",
    "    input_shape=(X_train.shape[1], 1))\n",
    "    )\n",
    "model.add(Dropout(dropout_fraction))\n",
    "\n",
    "# Layer 2\n",
    "model.add(LSTM(units=number_units, return_sequences=True))\n",
    "model.add(Dropout(dropout_fraction))\n",
    "\n",
    "# Layer 3\n",
    "model.add(LSTM(units=number_units))\n",
    "model.add(Dropout(dropout_fraction))\n",
    "\n",
    "# Output layer\n",
    "model.add(Dense(1))"
   ]
  },
  {
   "cell_type": "code",
   "execution_count": 44,
   "metadata": {},
   "outputs": [],
   "source": [
    " # Compile the model\n",
    "model.compile(optimizer=\"adam\", loss=\"mean_squared_error\")"
   ]
  },
  {
   "cell_type": "code",
   "execution_count": 45,
   "metadata": {},
   "outputs": [
    {
     "name": "stdout",
     "output_type": "stream",
     "text": [
      "Model: \"sequential_1\"\n",
      "_________________________________________________________________\n",
      "Layer (type)                 Output Shape              Param #   \n",
      "=================================================================\n",
      "lstm_3 (LSTM)                (None, 9, 9)              396       \n",
      "_________________________________________________________________\n",
      "dropout_3 (Dropout)          (None, 9, 9)              0         \n",
      "_________________________________________________________________\n",
      "lstm_4 (LSTM)                (None, 9, 9)              684       \n",
      "_________________________________________________________________\n",
      "dropout_4 (Dropout)          (None, 9, 9)              0         \n",
      "_________________________________________________________________\n",
      "lstm_5 (LSTM)                (None, 9)                 684       \n",
      "_________________________________________________________________\n",
      "dropout_5 (Dropout)          (None, 9)                 0         \n",
      "_________________________________________________________________\n",
      "dense_1 (Dense)              (None, 1)                 10        \n",
      "=================================================================\n",
      "Total params: 1,774\n",
      "Trainable params: 1,774\n",
      "Non-trainable params: 0\n",
      "_________________________________________________________________\n"
     ]
    }
   ],
   "source": [
    "# Show the model summary\n",
    "model.summary()"
   ]
  },
  {
   "cell_type": "code",
   "execution_count": 46,
   "metadata": {},
   "outputs": [
    {
     "name": "stdout",
     "output_type": "stream",
     "text": [
      "Epoch 1/10\n",
      "9/9 [==============================] - 5s 9ms/step - loss: 0.0298\n",
      "Epoch 2/10\n",
      "9/9 [==============================] - 0s 9ms/step - loss: 0.0171\n",
      "Epoch 3/10\n",
      "9/9 [==============================] - 0s 8ms/step - loss: 0.0119\n",
      "Epoch 4/10\n",
      "9/9 [==============================] - 0s 8ms/step - loss: 0.0102\n",
      "Epoch 5/10\n",
      "9/9 [==============================] - 0s 8ms/step - loss: 0.0086\n",
      "Epoch 6/10\n",
      "9/9 [==============================] - 0s 8ms/step - loss: 0.0081\n",
      "Epoch 7/10\n",
      "9/9 [==============================] - 0s 9ms/step - loss: 0.0076\n",
      "Epoch 8/10\n",
      "9/9 [==============================] - 0s 8ms/step - loss: 0.0067\n",
      "Epoch 9/10\n",
      "9/9 [==============================] - 0s 8ms/step - loss: 0.0064\n",
      "Epoch 10/10\n",
      "9/9 [==============================] - 0s 8ms/step - loss: 0.0057\n"
     ]
    },
    {
     "data": {
      "text/plain": [
       "<tensorflow.python.keras.callbacks.History at 0x195b681ef70>"
      ]
     },
     "execution_count": 46,
     "metadata": {},
     "output_type": "execute_result"
    }
   ],
   "source": [
    "# Train the model\n",
    "model.fit(X_train, y_train, epochs=10, shuffle=False, batch_size=90, verbose=1)"
   ]
  },
  {
   "cell_type": "code",
   "execution_count": 62,
   "metadata": {},
   "outputs": [],
   "source": [
    " # Make predictions using the testing data X_test\n",
    "predicted = model.predict(X_test)"
   ]
  },
  {
   "cell_type": "code",
   "execution_count": 63,
   "metadata": {},
   "outputs": [
    {
     "data": {
      "text/plain": [
       "(344, 1)"
      ]
     },
     "execution_count": 63,
     "metadata": {},
     "output_type": "execute_result"
    }
   ],
   "source": [
    "predicted.shape"
   ]
  },
  {
   "cell_type": "code",
   "execution_count": 64,
   "metadata": {},
   "outputs": [],
   "source": [
    "# Recover the original prices instead of the scaled version\n",
    "predicted_prices = scaler.inverse_transform(predicted)\n",
    "real_prices = scaler.inverse_transform(y_test.reshape(-1, 1))"
   ]
  },
  {
   "cell_type": "code",
   "execution_count": 65,
   "metadata": {},
   "outputs": [
    {
     "data": {
      "text/html": [
       "<div>\n",
       "<style scoped>\n",
       "    .dataframe tbody tr th:only-of-type {\n",
       "        vertical-align: middle;\n",
       "    }\n",
       "\n",
       "    .dataframe tbody tr th {\n",
       "        vertical-align: top;\n",
       "    }\n",
       "\n",
       "    .dataframe thead th {\n",
       "        text-align: right;\n",
       "    }\n",
       "</style>\n",
       "<table border=\"1\" class=\"dataframe\">\n",
       "  <thead>\n",
       "    <tr style=\"text-align: right;\">\n",
       "      <th></th>\n",
       "      <th>Actual</th>\n",
       "      <th>Predicted</th>\n",
       "    </tr>\n",
       "    <tr>\n",
       "      <th>Date</th>\n",
       "      <th></th>\n",
       "      <th></th>\n",
       "    </tr>\n",
       "  </thead>\n",
       "  <tbody>\n",
       "    <tr>\n",
       "      <th>2020-08-18</th>\n",
       "      <td>307.929854</td>\n",
       "      <td>302.193665</td>\n",
       "    </tr>\n",
       "    <tr>\n",
       "      <th>2020-08-19</th>\n",
       "      <td>290.618265</td>\n",
       "      <td>302.567871</td>\n",
       "    </tr>\n",
       "    <tr>\n",
       "      <th>2020-08-20</th>\n",
       "      <td>292.028089</td>\n",
       "      <td>302.648499</td>\n",
       "    </tr>\n",
       "    <tr>\n",
       "      <th>2020-08-21</th>\n",
       "      <td>285.998217</td>\n",
       "      <td>304.952118</td>\n",
       "    </tr>\n",
       "    <tr>\n",
       "      <th>2020-08-22</th>\n",
       "      <td>285.993489</td>\n",
       "      <td>306.641998</td>\n",
       "    </tr>\n",
       "  </tbody>\n",
       "</table>\n",
       "</div>"
      ],
      "text/plain": [
       "                Actual   Predicted\n",
       "Date                              \n",
       "2020-08-18  307.929854  302.193665\n",
       "2020-08-19  290.618265  302.567871\n",
       "2020-08-20  292.028089  302.648499\n",
       "2020-08-21  285.998217  304.952118\n",
       "2020-08-22  285.993489  306.641998"
      ]
     },
     "execution_count": 65,
     "metadata": {},
     "output_type": "execute_result"
    }
   ],
   "source": [
    " # Create a DataFrame of Real and Predicted values\n",
    "bch_eval = pd.DataFrame({\n",
    "    \"Actual\": real_prices.ravel(),\n",
    "    \"Predicted\": predicted_prices.ravel()\n",
    "}, index = bch_df.index[-len(real_prices): ]) \n",
    "\n",
    "# Show the DataFrame's head\n",
    "bch_eval.head()"
   ]
  },
  {
   "cell_type": "code",
   "execution_count": 66,
   "metadata": {},
   "outputs": [
    {
     "data": {
      "text/plain": [
       "<AxesSubplot:title={'center':'Actual Vs. Predicted BCH Prices'}, xlabel='Date'>"
      ]
     },
     "execution_count": 66,
     "metadata": {},
     "output_type": "execute_result"
    },
    {
     "data": {
      "image/png": "[encoded data removed]",
      "text/plain": [
       "<Figure size 432x288 with 1 Axes>"
      ]
     },
     "metadata": {
      "needs_background": "light"
     },
     "output_type": "display_data"
    }
   ],
   "source": [
    " # Plot the real vs predicted prices as a line chart\n",
    "bch_eval.plot(title=\"Actual Vs. Predicted BCH Prices\")"
   ]
  },
  {
   "cell_type": "code",
   "execution_count": 67,
   "metadata": {},
   "outputs": [
    {
     "name": "stdout",
     "output_type": "stream",
     "text": [
      "28321.666465254402\n",
      "168.29042297544564\n",
      "103.53344638512407\n"
     ]
    }
   ],
   "source": [
    "#seprate actual and pred\n",
    "Pred= bch_eval['Actual']\n",
    "act= bch_eval['Predicted']\n",
    "\n",
    "#model eval\n",
    "from sklearn.metrics import mean_absolute_error\n",
    "from sklearn.metrics import mean_squared_error\n",
    "import math\n",
    "print(mean_squared_error(act, Pred))\n",
    "print(math.sqrt(mean_squared_error(act, Pred)))\n",
    "print(mean_absolute_error(act, Pred))"
   ]
  },
  {
   "cell_type": "code",
   "execution_count": 68,
   "metadata": {},
   "outputs": [],
   "source": [
    "#create buy and sell signals \n",
    "#calculate profit and loss\n",
    "\n",
    "#create 'profit/loss' column to track trade metrics\n",
    "bch_eval['profit/loss'] = np.nan\n",
    "\n",
    "#create column to hold buy and cell signals\n",
    "bch_eval['signals'] = np.nan\n",
    "\n",
    "#create buy and sell list containers\n",
    "buy = []\n",
    "sell = []\n",
    "\n",
    "#create column that has next days price\n",
    "bch_eval['next_day'] = bch_eval[\"Predicted\"].shift(-1)"
   ]
  },
  {
   "cell_type": "code",
   "execution_count": 69,
   "metadata": {},
   "outputs": [],
   "source": [
    "#create loop that buys if next day price is higer and sells if next day price goes down\n",
    "for index, row in bch_eval.iterrows():\n",
    "\n",
    "    if row[\"Predicted\"] > row[\"next_day\"]:\n",
    "        bch_eval.loc[index, \"signals\"] = \"buy\"\n",
    "        buy.append(row[\"Actual\"])\n",
    "        bch_eval.loc[index, \"profit/loss\"] = 0\n",
    "    elif row[\"Predicted\"] < row[\"next_day\"]:\n",
    "        bch_eval.loc[index, \"signals\"] = \"sell\"\n",
    "        sell.append(row[\"Actual\"])\n",
    "        #bch_eval.loc[index, \"profit/loss\"] = sell[-1] - buy[-1]\n",
    "    else:\n",
    "        bch_eval.loc[index, \"signals\"] = \"hold\"\n"
   ]
  },
  {
   "cell_type": "code",
   "execution_count": 70,
   "metadata": {},
   "outputs": [],
   "source": [
    "#create loop that buys if next day price is higer and sells if next day price goes down\n",
    "for index, row in bch_eval.iterrows():\n",
    "\n",
    "    if row[\"Predicted\"] > row[\"next_day\"]:\n",
    "        bch_eval.loc[index, \"signals\"] = \"buy\"\n",
    "        buy.append(row[\"Actual\"])\n",
    "        bch_eval.loc[index, \"profit/loss\"] = 0\n",
    "    elif row[\"Predicted\"] < row[\"next_day\"]:\n",
    "        bch_eval.loc[index, \"signals\"] = \"sell\"\n",
    "        sell.append(row[\"Actual\"])\n",
    "        bch_eval.loc[index, \"profit/loss\"] = sell[-1] - buy[-1]\n",
    "    else:\n",
    "        bch_eval.loc[index, \"signals\"] = \"hold\"\n"
   ]
  },
  {
   "cell_type": "code",
   "execution_count": 71,
   "metadata": {},
   "outputs": [],
   "source": [
    "bch_eval.dropna(inplace= True)"
   ]
  },
  {
   "cell_type": "code",
   "execution_count": 72,
   "metadata": {},
   "outputs": [
    {
     "data": {
      "text/html": [
       "<div>\n",
       "<style scoped>\n",
       "    .dataframe tbody tr th:only-of-type {\n",
       "        vertical-align: middle;\n",
       "    }\n",
       "\n",
       "    .dataframe tbody tr th {\n",
       "        vertical-align: top;\n",
       "    }\n",
       "\n",
       "    .dataframe thead th {\n",
       "        text-align: right;\n",
       "    }\n",
       "</style>\n",
       "<table border=\"1\" class=\"dataframe\">\n",
       "  <thead>\n",
       "    <tr style=\"text-align: right;\">\n",
       "      <th></th>\n",
       "      <th>Actual</th>\n",
       "      <th>Predicted</th>\n",
       "      <th>profit/loss</th>\n",
       "      <th>signals</th>\n",
       "      <th>next_day</th>\n",
       "    </tr>\n",
       "    <tr>\n",
       "      <th>Date</th>\n",
       "      <th></th>\n",
       "      <th></th>\n",
       "      <th></th>\n",
       "      <th></th>\n",
       "      <th></th>\n",
       "    </tr>\n",
       "  </thead>\n",
       "  <tbody>\n",
       "    <tr>\n",
       "      <th>2020-08-18</th>\n",
       "      <td>307.929854</td>\n",
       "      <td>302.193665</td>\n",
       "      <td>-137.689748</td>\n",
       "      <td>sell</td>\n",
       "      <td>302.567871</td>\n",
       "    </tr>\n",
       "    <tr>\n",
       "      <th>2020-08-19</th>\n",
       "      <td>290.618265</td>\n",
       "      <td>302.567871</td>\n",
       "      <td>-155.001337</td>\n",
       "      <td>sell</td>\n",
       "      <td>302.648499</td>\n",
       "    </tr>\n",
       "    <tr>\n",
       "      <th>2020-08-20</th>\n",
       "      <td>292.028089</td>\n",
       "      <td>302.648499</td>\n",
       "      <td>-153.591513</td>\n",
       "      <td>sell</td>\n",
       "      <td>304.952118</td>\n",
       "    </tr>\n",
       "    <tr>\n",
       "      <th>2020-08-21</th>\n",
       "      <td>285.998217</td>\n",
       "      <td>304.952118</td>\n",
       "      <td>-159.621385</td>\n",
       "      <td>sell</td>\n",
       "      <td>306.641998</td>\n",
       "    </tr>\n",
       "    <tr>\n",
       "      <th>2020-08-22</th>\n",
       "      <td>285.993489</td>\n",
       "      <td>306.641998</td>\n",
       "      <td>-159.626113</td>\n",
       "      <td>sell</td>\n",
       "      <td>306.788025</td>\n",
       "    </tr>\n",
       "    <tr>\n",
       "      <th>...</th>\n",
       "      <td>...</td>\n",
       "      <td>...</td>\n",
       "      <td>...</td>\n",
       "      <td>...</td>\n",
       "      <td>...</td>\n",
       "    </tr>\n",
       "    <tr>\n",
       "      <th>2021-07-22</th>\n",
       "      <td>438.670752</td>\n",
       "      <td>386.424652</td>\n",
       "      <td>0.000000</td>\n",
       "      <td>buy</td>\n",
       "      <td>382.997742</td>\n",
       "    </tr>\n",
       "    <tr>\n",
       "      <th>2021-07-23</th>\n",
       "      <td>448.685037</td>\n",
       "      <td>382.997742</td>\n",
       "      <td>0.000000</td>\n",
       "      <td>buy</td>\n",
       "      <td>378.880035</td>\n",
       "    </tr>\n",
       "    <tr>\n",
       "      <th>2021-07-24</th>\n",
       "      <td>455.970324</td>\n",
       "      <td>378.880035</td>\n",
       "      <td>0.000000</td>\n",
       "      <td>buy</td>\n",
       "      <td>376.494354</td>\n",
       "    </tr>\n",
       "    <tr>\n",
       "      <th>2021-07-25</th>\n",
       "      <td>445.619602</td>\n",
       "      <td>376.494354</td>\n",
       "      <td>0.000000</td>\n",
       "      <td>buy</td>\n",
       "      <td>375.980560</td>\n",
       "    </tr>\n",
       "    <tr>\n",
       "      <th>2021-07-26</th>\n",
       "      <td>482.567507</td>\n",
       "      <td>375.980560</td>\n",
       "      <td>36.947905</td>\n",
       "      <td>sell</td>\n",
       "      <td>376.306213</td>\n",
       "    </tr>\n",
       "  </tbody>\n",
       "</table>\n",
       "<p>343 rows × 5 columns</p>\n",
       "</div>"
      ],
      "text/plain": [
       "                Actual   Predicted  profit/loss signals    next_day\n",
       "Date                                                               \n",
       "2020-08-18  307.929854  302.193665  -137.689748    sell  302.567871\n",
       "2020-08-19  290.618265  302.567871  -155.001337    sell  302.648499\n",
       "2020-08-20  292.028089  302.648499  -153.591513    sell  304.952118\n",
       "2020-08-21  285.998217  304.952118  -159.621385    sell  306.641998\n",
       "2020-08-22  285.993489  306.641998  -159.626113    sell  306.788025\n",
       "...                ...         ...          ...     ...         ...\n",
       "2021-07-22  438.670752  386.424652     0.000000     buy  382.997742\n",
       "2021-07-23  448.685037  382.997742     0.000000     buy  378.880035\n",
       "2021-07-24  455.970324  378.880035     0.000000     buy  376.494354\n",
       "2021-07-25  445.619602  376.494354     0.000000     buy  375.980560\n",
       "2021-07-26  482.567507  375.980560    36.947905    sell  376.306213\n",
       "\n",
       "[343 rows x 5 columns]"
      ]
     },
     "execution_count": 72,
     "metadata": {},
     "output_type": "execute_result"
    }
   ],
   "source": [
    "bch_eval"
   ]
  },
  {
   "cell_type": "code",
   "execution_count": 73,
   "metadata": {},
   "outputs": [
    {
     "name": "stdout",
     "output_type": "stream",
     "text": [
      "The total profit/loss of the trading model is $1279881.08, with the total return on investment being 1279.88%\n"
     ]
    }
   ],
   "source": [
    "# calculate total profit/loss and percent return for 1000 total coins\n",
    "\n",
    "# total amount of initial capital\n",
    "initial_capital = 100000\n",
    "\n",
    "# set total amount of coins\n",
    "coin_order = 100\n",
    "\n",
    "# calculate total profit/loss\n",
    "total_profit_loss = round(bch_eval[\"profit/loss\"].sum() * coin_order, 2)\n",
    "\n",
    "# calculate return on investemnt \n",
    "roi = round((total_profit_loss / initial_capital) * 100, 2)\n",
    "\n",
    "# display profit/loss and roi\n",
    "print(\n",
    "    f\"The total profit/loss of the trading model is ${total_profit_loss}, \"\n",
    "    f\"with the total return on investment being {roi}%\"\n",
    ")"
   ]
  },
  {
   "cell_type": "code",
   "execution_count": 79,
   "metadata": {},
   "outputs": [
    {
     "data": {
      "text/plain": [
       "<AxesSubplot:title={'center':'Actual Vs. Predicted BCH Prices'}, xlabel='Date'>"
      ]
     },
     "execution_count": 79,
     "metadata": {},
     "output_type": "execute_result"
    },
    {
     "data": {
      "image/png": "[encoded data removed]",
      "text/plain": [
       "<Figure size 432x288 with 1 Axes>"
      ]
     },
     "metadata": {
      "needs_background": "light"
     },
     "output_type": "display_data"
    }
   ],
   "source": [
    "#display plot for presentation \n",
    "bch_eval2 = bch_eval.copy()\n",
    "\n",
    "#drop next day \n",
    "bch_eval2.drop('next_day', axis=1, inplace=True)\n",
    "\n",
    "bch_eval2.plot(title=\"Actual Vs. Predicted BCH Prices\")"
   ]
  },
  {
   "cell_type": "code",
   "execution_count": null,
   "metadata": {},
   "outputs": [],
   "source": []
  }
 ],
 "metadata": {
  "kernelspec": {
   "display_name": "Python 3",
   "language": "python",
   "name": "python3"
  },
  "language_info": {
   "codemirror_mode": {
    "name": "ipython",
    "version": 3
   },
   "file_extension": ".py",
   "mimetype": "text/x-python",
   "name": "python",
   "nbconvert_exporter": "python",
   "pygments_lexer": "ipython3",
   "version": "3.8.5"
  }
 },
 "nbformat": 4,
 "nbformat_minor": 4
}
