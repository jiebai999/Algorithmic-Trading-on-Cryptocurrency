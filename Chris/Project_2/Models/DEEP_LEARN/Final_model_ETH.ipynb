{
 "cells": [
  {
   "cell_type": "code",
   "execution_count": 2,
   "metadata": {},
   "outputs": [],
   "source": [
    "# Initial imports\n",
    "import numpy as np\n",
    "import pandas as pd\n",
    "from pathlib import Path\n",
    "\n",
    "%matplotlib inline"
   ]
  },
  {
   "cell_type": "code",
   "execution_count": 3,
   "metadata": {},
   "outputs": [],
   "source": [
    " # Set path to CSV and read in CSV\n",
    "csv_path = Path(\"DATA/ETH/ETH_DATA.csv\")\n",
    "eth_df=pd.read_csv(csv_path)"
   ]
  },
  {
   "cell_type": "code",
   "execution_count": 4,
   "metadata": {},
   "outputs": [
    {
     "data": {
      "text/html": [
       "<div>\n",
       "<style scoped>\n",
       "    .dataframe tbody tr th:only-of-type {\n",
       "        vertical-align: middle;\n",
       "    }\n",
       "\n",
       "    .dataframe tbody tr th {\n",
       "        vertical-align: top;\n",
       "    }\n",
       "\n",
       "    .dataframe thead th {\n",
       "        text-align: right;\n",
       "    }\n",
       "</style>\n",
       "<table border=\"1\" class=\"dataframe\">\n",
       "  <thead>\n",
       "    <tr style=\"text-align: right;\">\n",
       "      <th></th>\n",
       "      <th>Currency</th>\n",
       "      <th>Date</th>\n",
       "      <th>Closing Price (USD)</th>\n",
       "      <th>24h Open (USD)</th>\n",
       "      <th>24h High (USD)</th>\n",
       "      <th>24h Low (USD)</th>\n",
       "    </tr>\n",
       "    <tr>\n",
       "      <th>Date</th>\n",
       "      <th></th>\n",
       "      <th></th>\n",
       "      <th></th>\n",
       "      <th></th>\n",
       "      <th></th>\n",
       "      <th></th>\n",
       "    </tr>\n",
       "  </thead>\n",
       "  <tbody>\n",
       "    <tr>\n",
       "      <th>2015-08-09</th>\n",
       "      <td>ETH</td>\n",
       "      <td>2015-08-09</td>\n",
       "      <td>0.909046</td>\n",
       "      <td>1.749289</td>\n",
       "      <td>1.916540</td>\n",
       "      <td>0.794497</td>\n",
       "    </tr>\n",
       "    <tr>\n",
       "      <th>2015-08-10</th>\n",
       "      <td>ETH</td>\n",
       "      <td>2015-08-10</td>\n",
       "      <td>0.692321</td>\n",
       "      <td>0.909046</td>\n",
       "      <td>0.909046</td>\n",
       "      <td>0.692321</td>\n",
       "    </tr>\n",
       "    <tr>\n",
       "      <th>2015-08-11</th>\n",
       "      <td>ETH</td>\n",
       "      <td>2015-08-11</td>\n",
       "      <td>0.668067</td>\n",
       "      <td>0.692321</td>\n",
       "      <td>0.692321</td>\n",
       "      <td>0.654331</td>\n",
       "    </tr>\n",
       "    <tr>\n",
       "      <th>2015-08-12</th>\n",
       "      <td>ETH</td>\n",
       "      <td>2015-08-12</td>\n",
       "      <td>0.850151</td>\n",
       "      <td>0.668067</td>\n",
       "      <td>1.148621</td>\n",
       "      <td>0.668067</td>\n",
       "    </tr>\n",
       "    <tr>\n",
       "      <th>2015-08-13</th>\n",
       "      <td>ETH</td>\n",
       "      <td>2015-08-13</td>\n",
       "      <td>1.266023</td>\n",
       "      <td>0.850151</td>\n",
       "      <td>1.266023</td>\n",
       "      <td>0.850151</td>\n",
       "    </tr>\n",
       "    <tr>\n",
       "      <th>2015-08-14</th>\n",
       "      <td>ETH</td>\n",
       "      <td>2015-08-14</td>\n",
       "      <td>1.951460</td>\n",
       "      <td>1.266023</td>\n",
       "      <td>2.073329</td>\n",
       "      <td>1.149458</td>\n",
       "    </tr>\n",
       "    <tr>\n",
       "      <th>2015-08-15</th>\n",
       "      <td>ETH</td>\n",
       "      <td>2015-08-15</td>\n",
       "      <td>1.591219</td>\n",
       "      <td>1.951460</td>\n",
       "      <td>2.225695</td>\n",
       "      <td>1.591219</td>\n",
       "    </tr>\n",
       "    <tr>\n",
       "      <th>2015-08-16</th>\n",
       "      <td>ETH</td>\n",
       "      <td>2015-08-16</td>\n",
       "      <td>1.693707</td>\n",
       "      <td>1.591219</td>\n",
       "      <td>1.768860</td>\n",
       "      <td>1.591219</td>\n",
       "    </tr>\n",
       "    <tr>\n",
       "      <th>2015-08-17</th>\n",
       "      <td>ETH</td>\n",
       "      <td>2015-08-17</td>\n",
       "      <td>1.423244</td>\n",
       "      <td>1.693707</td>\n",
       "      <td>1.693707</td>\n",
       "      <td>1.099489</td>\n",
       "    </tr>\n",
       "    <tr>\n",
       "      <th>2015-08-18</th>\n",
       "      <td>ETH</td>\n",
       "      <td>2015-08-18</td>\n",
       "      <td>1.199595</td>\n",
       "      <td>1.423244</td>\n",
       "      <td>1.469168</td>\n",
       "      <td>1.193790</td>\n",
       "    </tr>\n",
       "  </tbody>\n",
       "</table>\n",
       "</div>"
      ],
      "text/plain": [
       "           Currency        Date  Closing Price (USD)  24h Open (USD)  \\\n",
       "Date                                                                   \n",
       "2015-08-09      ETH  2015-08-09             0.909046        1.749289   \n",
       "2015-08-10      ETH  2015-08-10             0.692321        0.909046   \n",
       "2015-08-11      ETH  2015-08-11             0.668067        0.692321   \n",
       "2015-08-12      ETH  2015-08-12             0.850151        0.668067   \n",
       "2015-08-13      ETH  2015-08-13             1.266023        0.850151   \n",
       "2015-08-14      ETH  2015-08-14             1.951460        1.266023   \n",
       "2015-08-15      ETH  2015-08-15             1.591219        1.951460   \n",
       "2015-08-16      ETH  2015-08-16             1.693707        1.591219   \n",
       "2015-08-17      ETH  2015-08-17             1.423244        1.693707   \n",
       "2015-08-18      ETH  2015-08-18             1.199595        1.423244   \n",
       "\n",
       "            24h High (USD)  24h Low (USD)  \n",
       "Date                                       \n",
       "2015-08-09        1.916540       0.794497  \n",
       "2015-08-10        0.909046       0.692321  \n",
       "2015-08-11        0.692321       0.654331  \n",
       "2015-08-12        1.148621       0.668067  \n",
       "2015-08-13        1.266023       0.850151  \n",
       "2015-08-14        2.073329       1.149458  \n",
       "2015-08-15        2.225695       1.591219  \n",
       "2015-08-16        1.768860       1.591219  \n",
       "2015-08-17        1.693707       1.099489  \n",
       "2015-08-18        1.469168       1.193790  "
      ]
     },
     "execution_count": 4,
     "metadata": {},
     "output_type": "execute_result"
    }
   ],
   "source": [
    " # Set index as Date\n",
    "eth_df = eth_df.set_index(pd.to_datetime(eth_df[\"Date\"], infer_datetime_format=True))\n",
    "\n",
    "# Display sample data\n",
    "eth_df.head(10)"
   ]
  },
  {
   "cell_type": "code",
   "execution_count": 5,
   "metadata": {},
   "outputs": [
    {
     "data": {
      "text/plain": [
       "False"
      ]
     },
     "execution_count": 5,
     "metadata": {},
     "output_type": "execute_result"
    }
   ],
   "source": [
    "#check for na\n",
    "eth_df.isnull().values.any()"
   ]
  },
  {
   "cell_type": "code",
   "execution_count": 6,
   "metadata": {},
   "outputs": [],
   "source": [
    "# Set the random seed to (2)\n",
    "from numpy.random import seed\n",
    "\n",
    "seed(1)\n",
    "from tensorflow import random\n",
    "\n",
    "random.set_seed(2)"
   ]
  },
  {
   "cell_type": "code",
   "execution_count": 7,
   "metadata": {},
   "outputs": [],
   "source": [
    "def window_data(df, window, feature_col_number, target_col_number):\n",
    "    X = []\n",
    "    y = []\n",
    "    for i in range(len(df) - window):\n",
    "        features = df.iloc[i : (i + window), feature_col_number]\n",
    "        target = df.iloc[(i + window), target_col_number]\n",
    "        X.append(features)\n",
    "        y.append(target)\n",
    "    return np.array(X), np.array(y).reshape(-1, 1)"
   ]
  },
  {
   "cell_type": "code",
   "execution_count": 8,
   "metadata": {},
   "outputs": [
    {
     "name": "stdout",
     "output_type": "stream",
     "text": [
      "X sample values:\n",
      "[[0.909046 0.692321 0.668067 0.850151 1.266023 1.95146  1.591219 1.693707\n",
      "  1.423244]\n",
      " [0.692321 0.668067 0.850151 1.266023 1.95146  1.591219 1.693707 1.423244\n",
      "  1.199595]\n",
      " [0.668067 0.850151 1.266023 1.95146  1.591219 1.693707 1.423244 1.199595\n",
      "  1.182837]] \n",
      "\n",
      "y sample values:\n",
      "[[1.199595]\n",
      " [1.182837]\n",
      " [1.279549]]\n"
     ]
    }
   ],
   "source": [
    "# Define the window size\n",
    "window_size = 9\n",
    "\n",
    "# Set the index of the feature and target columns\n",
    "feature_column = 2\n",
    "target_column = 2\n",
    "\n",
    "# Create the features (X) and target (y) data using the window_data() function.\n",
    "X, y = window_data(eth_df, window_size, feature_column, target_column)\n",
    "\n",
    "# Print a few sample values from X and y\n",
    "print (f\"X sample values:\\n{X[:3]} \\n\")\n",
    "print (f\"y sample values:\\n{y[:3]}\")"
   ]
  },
  {
   "cell_type": "code",
   "execution_count": 9,
   "metadata": {},
   "outputs": [],
   "source": [
    " # Manually splitting the data\n",
    "split = int(0.7 * len(X))\n",
    "\n",
    "X_train = X[: split]\n",
    "X_test = X[split:]\n",
    "\n",
    "y_train = y[: split]\n",
    "y_test = y[split:]"
   ]
  },
  {
   "cell_type": "code",
   "execution_count": 10,
   "metadata": {},
   "outputs": [],
   "source": [
    " # Importing the MinMaxScaler from sklearn\n",
    "from sklearn.preprocessing import MinMaxScaler\n",
    "\n",
    "# Create a MinMaxScaler object\n",
    "scaler = MinMaxScaler()\n",
    "\n",
    "# Fit the MinMaxScaler object with the features data X\n",
    "scaler.fit(X)\n",
    "\n",
    "# Scale the features training and testing sets\n",
    "X_train = scaler.transform(X_train)\n",
    "X_test = scaler.transform(X_test)\n",
    "\n",
    "# Fit the MinMaxScaler object with the target data Y\n",
    "scaler.fit(y)\n",
    "\n",
    "# Scale the target training and testing sets\n",
    "y_train = scaler.transform(y_train)\n",
    "y_test = scaler.transform(y_test)"
   ]
  },
  {
   "cell_type": "code",
   "execution_count": 11,
   "metadata": {},
   "outputs": [
    {
     "name": "stdout",
     "output_type": "stream",
     "text": [
      "X_train sample values:\n",
      "[[[1.16315033e-04]\n",
      "  [6.38688232e-05]\n",
      "  [5.79994940e-05]\n",
      "  [1.02062780e-04]\n",
      "  [2.02701423e-04]\n",
      "  [3.68573253e-04]\n",
      "  [2.81396994e-04]\n",
      "  [3.06198503e-04]\n",
      "  [2.40748005e-04]]\n",
      "\n",
      " [[6.38688232e-05]\n",
      "  [5.79994940e-05]\n",
      "  [1.02062780e-04]\n",
      "  [2.02701423e-04]\n",
      "  [3.68573253e-04]\n",
      "  [2.81396994e-04]\n",
      "  [3.06198503e-04]\n",
      "  [2.40748005e-04]\n",
      "  [1.86626227e-04]]\n",
      "\n",
      " [[5.79994940e-05]\n",
      "  [1.02062780e-04]\n",
      "  [2.02701423e-04]\n",
      "  [3.68573253e-04]\n",
      "  [2.81396994e-04]\n",
      "  [3.06198503e-04]\n",
      "  [2.40748005e-04]\n",
      "  [1.86626227e-04]\n",
      "  [1.82570887e-04]]] \n",
      "\n",
      "X_test sample values:\n",
      "[[[0.04090703]\n",
      "  [0.04379478]\n",
      "  [0.04364628]\n",
      "  [0.04663782]\n",
      "  [0.0464072 ]\n",
      "  [0.04369936]\n",
      "  [0.0436468 ]\n",
      "  [0.04382717]\n",
      "  [0.04493723]]\n",
      "\n",
      " [[0.04379478]\n",
      "  [0.04364628]\n",
      "  [0.04663782]\n",
      "  [0.0464072 ]\n",
      "  [0.04369936]\n",
      "  [0.0436468 ]\n",
      "  [0.04382717]\n",
      "  [0.04493723]\n",
      "  [0.04359566]]\n",
      "\n",
      " [[0.04364628]\n",
      "  [0.04663782]\n",
      "  [0.0464072 ]\n",
      "  [0.04369936]\n",
      "  [0.0436468 ]\n",
      "  [0.04382717]\n",
      "  [0.04493723]\n",
      "  [0.04359566]\n",
      "  [0.04218582]]]\n"
     ]
    }
   ],
   "source": [
    " # Reshape the features data\n",
    "X_train = X_train.reshape((X_train.shape[0], X_train.shape[1], 1))\n",
    "X_test = X_test.reshape((X_test.shape[0], X_test.shape[1], 1))\n",
    "\n",
    "# Print some sample data after reshaping the datasets\n",
    "print (f\"X_train sample values:\\n{X_train[:3]} \\n\")\n",
    "print (f\"X_test sample values:\\n{X_test[:3]}\")"
   ]
  },
  {
   "cell_type": "code",
   "execution_count": 12,
   "metadata": {},
   "outputs": [],
   "source": [
    " # Importing required Keras modules\n",
    "from tensorflow.keras.models import Sequential\n",
    "from tensorflow.keras.layers import LSTM, Dense, Dropout"
   ]
  },
  {
   "cell_type": "code",
   "execution_count": 13,
   "metadata": {},
   "outputs": [],
   "source": [
    "# Define the LSTM RNN model.\n",
    "model = Sequential()\n",
    "\n",
    "# Initial model setup\n",
    "number_units = 9\n",
    "dropout_fraction = 0.2\n",
    "\n",
    "# Layer 1\n",
    "model.add(LSTM(\n",
    "    units=number_units,\n",
    "    return_sequences=True,\n",
    "    input_shape=(X_train.shape[1], 1))\n",
    "    )\n",
    "model.add(Dropout(dropout_fraction))\n",
    "\n",
    "# Layer 2\n",
    "model.add(LSTM(units=number_units, return_sequences=True))\n",
    "model.add(Dropout(dropout_fraction))\n",
    "\n",
    "# Layer 3\n",
    "model.add(LSTM(units=number_units))\n",
    "model.add(Dropout(dropout_fraction))\n",
    "\n",
    "# Output layer\n",
    "model.add(Dense(1))"
   ]
  },
  {
   "cell_type": "code",
   "execution_count": 14,
   "metadata": {},
   "outputs": [],
   "source": [
    " # Compile the model\n",
    "model.compile(optimizer=\"adam\", loss=\"mean_squared_error\")"
   ]
  },
  {
   "cell_type": "code",
   "execution_count": 15,
   "metadata": {},
   "outputs": [
    {
     "name": "stdout",
     "output_type": "stream",
     "text": [
      "Model: \"sequential\"\n",
      "_________________________________________________________________\n",
      "Layer (type)                 Output Shape              Param #   \n",
      "=================================================================\n",
      "lstm (LSTM)                  (None, 9, 9)              396       \n",
      "_________________________________________________________________\n",
      "dropout (Dropout)            (None, 9, 9)              0         \n",
      "_________________________________________________________________\n",
      "lstm_1 (LSTM)                (None, 9, 9)              684       \n",
      "_________________________________________________________________\n",
      "dropout_1 (Dropout)          (None, 9, 9)              0         \n",
      "_________________________________________________________________\n",
      "lstm_2 (LSTM)                (None, 9)                 684       \n",
      "_________________________________________________________________\n",
      "dropout_2 (Dropout)          (None, 9)                 0         \n",
      "_________________________________________________________________\n",
      "dense (Dense)                (None, 1)                 10        \n",
      "=================================================================\n",
      "Total params: 1,774\n",
      "Trainable params: 1,774\n",
      "Non-trainable params: 0\n",
      "_________________________________________________________________\n"
     ]
    }
   ],
   "source": [
    "# Show the model summary\n",
    "model.summary()"
   ]
  },
  {
   "cell_type": "code",
   "execution_count": 16,
   "metadata": {},
   "outputs": [
    {
     "name": "stdout",
     "output_type": "stream",
     "text": [
      "Epoch 1/10\n",
      "17/17 [==============================] - 5s 8ms/step - loss: 0.0034\n",
      "Epoch 2/10\n",
      "17/17 [==============================] - 0s 8ms/step - loss: 0.0032\n",
      "Epoch 3/10\n",
      "17/17 [==============================] - 0s 8ms/step - loss: 0.0029\n",
      "Epoch 4/10\n",
      "17/17 [==============================] - 0s 8ms/step - loss: 0.0022\n",
      "Epoch 5/10\n",
      "17/17 [==============================] - 0s 8ms/step - loss: 0.0018\n",
      "Epoch 6/10\n",
      "17/17 [==============================] - 0s 8ms/step - loss: 0.0013\n",
      "Epoch 7/10\n",
      "17/17 [==============================] - 0s 7ms/step - loss: 6.5026e-04\n",
      "Epoch 8/10\n",
      "17/17 [==============================] - 0s 8ms/step - loss: 5.0605e-04\n",
      "Epoch 9/10\n",
      "17/17 [==============================] - 0s 8ms/step - loss: 4.4086e-04\n",
      "Epoch 10/10\n",
      "17/17 [==============================] - 0s 7ms/step - loss: 4.8852e-04\n"
     ]
    },
    {
     "data": {
      "text/plain": [
       "<tensorflow.python.keras.callbacks.History at 0x23cbd8ff3a0>"
      ]
     },
     "execution_count": 16,
     "metadata": {},
     "output_type": "execute_result"
    }
   ],
   "source": [
    "# Train the model\n",
    "model.fit(X_train, y_train, epochs=10, shuffle=False, batch_size=90, verbose=1)"
   ]
  },
  {
   "cell_type": "code",
   "execution_count": 17,
   "metadata": {},
   "outputs": [],
   "source": [
    " # Make predictions using the testing data X_test\n",
    "predicted = model.predict(X_test)"
   ]
  },
  {
   "cell_type": "code",
   "execution_count": 18,
   "metadata": {},
   "outputs": [
    {
     "data": {
      "text/plain": [
       "(651, 1)"
      ]
     },
     "execution_count": 18,
     "metadata": {},
     "output_type": "execute_result"
    }
   ],
   "source": [
    "predicted.shape"
   ]
  },
  {
   "cell_type": "code",
   "execution_count": 19,
   "metadata": {},
   "outputs": [],
   "source": [
    "# Recover the original prices instead of the scaled version\n",
    "predicted_prices = scaler.inverse_transform(predicted)\n",
    "real_prices = scaler.inverse_transform(y_test.reshape(-1, 1))"
   ]
  },
  {
   "cell_type": "code",
   "execution_count": 20,
   "metadata": {},
   "outputs": [
    {
     "data": {
      "text/html": [
       "<div>\n",
       "<style scoped>\n",
       "    .dataframe tbody tr th:only-of-type {\n",
       "        vertical-align: middle;\n",
       "    }\n",
       "\n",
       "    .dataframe tbody tr th {\n",
       "        vertical-align: top;\n",
       "    }\n",
       "\n",
       "    .dataframe thead th {\n",
       "        text-align: right;\n",
       "    }\n",
       "</style>\n",
       "<table border=\"1\" class=\"dataframe\">\n",
       "  <thead>\n",
       "    <tr style=\"text-align: right;\">\n",
       "      <th></th>\n",
       "      <th>Actual</th>\n",
       "      <th>Predicted</th>\n",
       "    </tr>\n",
       "    <tr>\n",
       "      <th>Date</th>\n",
       "      <th></th>\n",
       "      <th></th>\n",
       "    </tr>\n",
       "  </thead>\n",
       "  <tbody>\n",
       "    <tr>\n",
       "      <th>2019-10-15</th>\n",
       "      <td>180.580000</td>\n",
       "      <td>197.040695</td>\n",
       "    </tr>\n",
       "    <tr>\n",
       "      <th>2019-10-16</th>\n",
       "      <td>174.754083</td>\n",
       "      <td>199.505341</td>\n",
       "    </tr>\n",
       "    <tr>\n",
       "      <th>2019-10-17</th>\n",
       "      <td>176.390105</td>\n",
       "      <td>199.829056</td>\n",
       "    </tr>\n",
       "    <tr>\n",
       "      <th>2019-10-18</th>\n",
       "      <td>173.750089</td>\n",
       "      <td>200.050232</td>\n",
       "    </tr>\n",
       "    <tr>\n",
       "      <th>2019-10-19</th>\n",
       "      <td>171.158513</td>\n",
       "      <td>197.904816</td>\n",
       "    </tr>\n",
       "  </tbody>\n",
       "</table>\n",
       "</div>"
      ],
      "text/plain": [
       "                Actual   Predicted\n",
       "Date                              \n",
       "2019-10-15  180.580000  197.040695\n",
       "2019-10-16  174.754083  199.505341\n",
       "2019-10-17  176.390105  199.829056\n",
       "2019-10-18  173.750089  200.050232\n",
       "2019-10-19  171.158513  197.904816"
      ]
     },
     "execution_count": 20,
     "metadata": {},
     "output_type": "execute_result"
    }
   ],
   "source": [
    " # Create a DataFrame of Real and Predicted values\n",
    "eth_eval = pd.DataFrame({\n",
    "    \"Actual\": real_prices.ravel(),\n",
    "    \"Predicted\": predicted_prices.ravel()\n",
    "}, index = eth_df.index[-len(real_prices): ]) \n",
    "\n",
    "# Show the DataFrame's head\n",
    "eth_eval.head()"
   ]
  },
  {
   "cell_type": "code",
   "execution_count": 21,
   "metadata": {},
   "outputs": [
    {
     "data": {
      "text/plain": [
       "<AxesSubplot:title={'center':'Actual Vs. Predicted ETH Prices'}, xlabel='Date'>"
      ]
     },
     "execution_count": 21,
     "metadata": {},
     "output_type": "execute_result"
    },
    {
     "data": {
      "image/png": "[encoded data removed]",
      "text/plain": [
       "<Figure size 432x288 with 1 Axes>"
      ]
     },
     "metadata": {
      "needs_background": "light"
     },
     "output_type": "display_data"
    }
   ],
   "source": [
    " # Plot the real vs predicted prices as a line chart\n",
    "eth_eval.plot(title=\"Actual Vs. Predicted ETH Prices\")"
   ]
  },
  {
   "cell_type": "code",
   "execution_count": 22,
   "metadata": {},
   "outputs": [
    {
     "name": "stdout",
     "output_type": "stream",
     "text": [
      "46647.24108071358\n",
      "215.97972377219483\n",
      "102.59572350824543\n"
     ]
    }
   ],
   "source": [
    "#seprate actual and pred\n",
    "Pred= eth_eval['Actual']\n",
    "act= eth_eval['Predicted']\n",
    "\n",
    "#model eval\n",
    "from sklearn.metrics import mean_absolute_error\n",
    "from sklearn.metrics import mean_squared_error\n",
    "import math\n",
    "print(mean_squared_error(act, Pred))\n",
    "print(math.sqrt(mean_squared_error(act, Pred)))\n",
    "print(mean_absolute_error(act, Pred))"
   ]
  },
  {
   "cell_type": "code",
   "execution_count": 23,
   "metadata": {},
   "outputs": [],
   "source": [
    "#create buy and sell signals \n",
    "#calculate profit and loss\n",
    "\n",
    "#create 'profit/loss' column to track trade metrics\n",
    "eth_eval['profit/loss'] = np.nan\n",
    "\n",
    "#create column to hold buy and cell signals\n",
    "eth_eval['signals'] = np.nan\n",
    "\n",
    "#create buy and sell list containers\n",
    "buy = []\n",
    "sell = []\n",
    "\n",
    "#create column that has next days price\n",
    "eth_eval['next_day'] = eth_eval[\"Predicted\"].shift(-1)"
   ]
  },
  {
   "cell_type": "code",
   "execution_count": 25,
   "metadata": {},
   "outputs": [],
   "source": [
    "#create loop that buys if next day price is higer and sells if next day price goes down\n",
    "for index, row in eth_eval.iterrows():\n",
    "\n",
    "    if row[\"Predicted\"] > row[\"next_day\"]:\n",
    "        eth_eval.loc[index, \"signals\"] = \"buy\"\n",
    "        buy.append(row[\"Actual\"])\n",
    "        eth_eval.loc[index, \"profit/loss\"] = 0\n",
    "    elif row[\"Predicted\"] < row[\"next_day\"]:\n",
    "        eth_eval.loc[index, \"signals\"] = \"sell\"\n",
    "        sell.append(row[\"Actual\"])\n",
    "        #eth_eval.loc[index, \"profit/loss\"] = sell[-1] - buy[-1]\n",
    "    else:\n",
    "        eth_eval.loc[index, \"signals\"] = \"hold\"\n"
   ]
  },
  {
   "cell_type": "code",
   "execution_count": 26,
   "metadata": {},
   "outputs": [],
   "source": [
    "#create loop that buys if next day price is higer and sells if next day price goes down\n",
    "for index, row in eth_eval.iterrows():\n",
    "\n",
    "    if row[\"Predicted\"] > row[\"next_day\"]:\n",
    "        eth_eval.loc[index, \"signals\"] = \"buy\"\n",
    "        buy.append(row[\"Actual\"])\n",
    "        eth_eval.loc[index, \"profit/loss\"] = 0\n",
    "    elif row[\"Predicted\"] < row[\"next_day\"]:\n",
    "        eth_eval.loc[index, \"signals\"] = \"sell\"\n",
    "        sell.append(row[\"Actual\"])\n",
    "        eth_eval.loc[index, \"profit/loss\"] = sell[-1] - buy[-1]\n",
    "    else:\n",
    "        eth_eval.loc[index, \"signals\"] = \"hold\"\n"
   ]
  },
  {
   "cell_type": "code",
   "execution_count": 27,
   "metadata": {},
   "outputs": [],
   "source": [
    "eth_eval.dropna(inplace= True)"
   ]
  },
  {
   "cell_type": "code",
   "execution_count": 28,
   "metadata": {},
   "outputs": [
    {
     "data": {
      "text/html": [
       "<div>\n",
       "<style scoped>\n",
       "    .dataframe tbody tr th:only-of-type {\n",
       "        vertical-align: middle;\n",
       "    }\n",
       "\n",
       "    .dataframe tbody tr th {\n",
       "        vertical-align: top;\n",
       "    }\n",
       "\n",
       "    .dataframe thead th {\n",
       "        text-align: right;\n",
       "    }\n",
       "</style>\n",
       "<table border=\"1\" class=\"dataframe\">\n",
       "  <thead>\n",
       "    <tr style=\"text-align: right;\">\n",
       "      <th></th>\n",
       "      <th>Actual</th>\n",
       "      <th>Predicted</th>\n",
       "      <th>profit/loss</th>\n",
       "      <th>signals</th>\n",
       "      <th>next_day</th>\n",
       "    </tr>\n",
       "    <tr>\n",
       "      <th>Date</th>\n",
       "      <th></th>\n",
       "      <th></th>\n",
       "      <th></th>\n",
       "      <th></th>\n",
       "      <th></th>\n",
       "    </tr>\n",
       "  </thead>\n",
       "  <tbody>\n",
       "    <tr>\n",
       "      <th>2019-10-15</th>\n",
       "      <td>180.580000</td>\n",
       "      <td>197.040695</td>\n",
       "      <td>-1899.370552</td>\n",
       "      <td>sell</td>\n",
       "      <td>199.505341</td>\n",
       "    </tr>\n",
       "    <tr>\n",
       "      <th>2019-10-16</th>\n",
       "      <td>174.754083</td>\n",
       "      <td>199.505341</td>\n",
       "      <td>-1905.196469</td>\n",
       "      <td>sell</td>\n",
       "      <td>199.829056</td>\n",
       "    </tr>\n",
       "    <tr>\n",
       "      <th>2019-10-17</th>\n",
       "      <td>176.390105</td>\n",
       "      <td>199.829056</td>\n",
       "      <td>-1903.560448</td>\n",
       "      <td>sell</td>\n",
       "      <td>200.050232</td>\n",
       "    </tr>\n",
       "    <tr>\n",
       "      <th>2019-10-18</th>\n",
       "      <td>173.750089</td>\n",
       "      <td>200.050232</td>\n",
       "      <td>0.000000</td>\n",
       "      <td>buy</td>\n",
       "      <td>197.904816</td>\n",
       "    </tr>\n",
       "    <tr>\n",
       "      <th>2019-10-19</th>\n",
       "      <td>171.158513</td>\n",
       "      <td>197.904816</td>\n",
       "      <td>0.000000</td>\n",
       "      <td>buy</td>\n",
       "      <td>195.603668</td>\n",
       "    </tr>\n",
       "    <tr>\n",
       "      <th>...</th>\n",
       "      <td>...</td>\n",
       "      <td>...</td>\n",
       "      <td>...</td>\n",
       "      <td>...</td>\n",
       "      <td>...</td>\n",
       "    </tr>\n",
       "    <tr>\n",
       "      <th>2021-07-21</th>\n",
       "      <td>1968.473899</td>\n",
       "      <td>1865.637695</td>\n",
       "      <td>0.000000</td>\n",
       "      <td>buy</td>\n",
       "      <td>1842.627808</td>\n",
       "    </tr>\n",
       "    <tr>\n",
       "      <th>2021-07-22</th>\n",
       "      <td>2005.726461</td>\n",
       "      <td>1842.627808</td>\n",
       "      <td>0.000000</td>\n",
       "      <td>buy</td>\n",
       "      <td>1835.913574</td>\n",
       "    </tr>\n",
       "    <tr>\n",
       "      <th>2021-07-23</th>\n",
       "      <td>2079.950552</td>\n",
       "      <td>1835.913574</td>\n",
       "      <td>0.000000</td>\n",
       "      <td>buy</td>\n",
       "      <td>1819.117676</td>\n",
       "    </tr>\n",
       "    <tr>\n",
       "      <th>2021-07-24</th>\n",
       "      <td>2167.821498</td>\n",
       "      <td>1819.117676</td>\n",
       "      <td>87.870946</td>\n",
       "      <td>sell</td>\n",
       "      <td>1820.709961</td>\n",
       "    </tr>\n",
       "    <tr>\n",
       "      <th>2021-07-25</th>\n",
       "      <td>2161.052224</td>\n",
       "      <td>1820.709961</td>\n",
       "      <td>81.101672</td>\n",
       "      <td>sell</td>\n",
       "      <td>1835.448120</td>\n",
       "    </tr>\n",
       "  </tbody>\n",
       "</table>\n",
       "<p>650 rows × 5 columns</p>\n",
       "</div>"
      ],
      "text/plain": [
       "                 Actual    Predicted  profit/loss signals     next_day\n",
       "Date                                                                  \n",
       "2019-10-15   180.580000   197.040695 -1899.370552    sell   199.505341\n",
       "2019-10-16   174.754083   199.505341 -1905.196469    sell   199.829056\n",
       "2019-10-17   176.390105   199.829056 -1903.560448    sell   200.050232\n",
       "2019-10-18   173.750089   200.050232     0.000000     buy   197.904816\n",
       "2019-10-19   171.158513   197.904816     0.000000     buy   195.603668\n",
       "...                 ...          ...          ...     ...          ...\n",
       "2021-07-21  1968.473899  1865.637695     0.000000     buy  1842.627808\n",
       "2021-07-22  2005.726461  1842.627808     0.000000     buy  1835.913574\n",
       "2021-07-23  2079.950552  1835.913574     0.000000     buy  1819.117676\n",
       "2021-07-24  2167.821498  1819.117676    87.870946    sell  1820.709961\n",
       "2021-07-25  2161.052224  1820.709961    81.101672    sell  1835.448120\n",
       "\n",
       "[650 rows x 5 columns]"
      ]
     },
     "execution_count": 28,
     "metadata": {},
     "output_type": "execute_result"
    }
   ],
   "source": [
    "eth_eval"
   ]
  },
  {
   "cell_type": "code",
   "execution_count": 34,
   "metadata": {},
   "outputs": [
    {
     "name": "stdout",
     "output_type": "stream",
     "text": [
      "The total profit/loss of the trading model is $3743722.57, with the total return on investment being 3743.72%\n"
     ]
    }
   ],
   "source": [
    "# calculate total profit/loss and percent return for 1000 total coins\n",
    "\n",
    "# total amount of initial capital\n",
    "initial_capital = 100000\n",
    "\n",
    "# set total amount of coins\n",
    "coin_order = 100\n",
    "\n",
    "# calculate total profit/loss\n",
    "total_profit_loss = round(eth_eval[\"profit/loss\"].sum() * coin_order, 2)\n",
    "\n",
    "# calculate return on investemnt \n",
    "roi = round((total_profit_loss / initial_capital) * 100, 2)\n",
    "\n",
    "# display profit/loss and roi\n",
    "print(\n",
    "    f\"The total profit/loss of the trading model is ${total_profit_loss}, \"\n",
    "    f\"with the total return on investment being {roi}%\"\n",
    ")"
   ]
  },
  {
   "cell_type": "code",
   "execution_count": 35,
   "metadata": {},
   "outputs": [
    {
     "data": {
      "text/plain": [
       "<AxesSubplot:title={'center':'Actual Vs. Predicted ETH Prices'}, xlabel='Date'>"
      ]
     },
     "execution_count": 35,
     "metadata": {},
     "output_type": "execute_result"
    },
    {
     "data": {
      "image/png": "[encoded data removed]",
      "text/plain": [
       "<Figure size 432x288 with 1 Axes>"
      ]
     },
     "metadata": {
      "needs_background": "light"
     },
     "output_type": "display_data"
    }
   ],
   "source": [
    "#display plot for presentation \n",
    "eth_eval2 = eth_eval.copy()\n",
    "\n",
    "#drop next day \n",
    "eth_eval2.drop('next_day', axis=1, inplace=True)\n",
    "\n",
    "eth_eval2.plot(title=\"Actual Vs. Predicted ETH Prices\")"
   ]
  },
  {
   "cell_type": "code",
   "execution_count": null,
   "metadata": {},
   "outputs": [],
   "source": []
  }
 ],
 "metadata": {
  "kernelspec": {
   "display_name": "Python 3",
   "language": "python",
   "name": "python3"
  },
  "language_info": {
   "codemirror_mode": {
    "name": "ipython",
    "version": 3
   },
   "file_extension": ".py",
   "mimetype": "text/x-python",
   "name": "python",
   "nbconvert_exporter": "python",
   "pygments_lexer": "ipython3",
   "version": "3.8.5"
  }
 },
 "nbformat": 4,
 "nbformat_minor": 4
}
