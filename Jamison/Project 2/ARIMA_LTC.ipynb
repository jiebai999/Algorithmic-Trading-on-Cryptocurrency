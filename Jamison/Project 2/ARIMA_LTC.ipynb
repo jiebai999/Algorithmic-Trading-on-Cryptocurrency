{
 "cells": [
  {
   "cell_type": "code",
   "execution_count": 1,
   "metadata": {},
   "outputs": [],
   "source": [
    "import pandas as pd\n",
    "%matplotlib inline\n",
    "\n",
    "import warnings\n",
    "warnings.filterwarnings('ignore', 'statsmodels.tsa.arima_model.ARMA',\n",
    "                        FutureWarning)\n",
    "warnings.filterwarnings('ignore', 'statsmodels.tsa.arima_model.ARIMA',\n",
    "                        FutureWarning)"
   ]
  },
  {
   "cell_type": "code",
   "execution_count": 2,
   "metadata": {},
   "outputs": [
    {
     "data": {
      "text/html": [
       "<div>\n",
       "<style scoped>\n",
       "    .dataframe tbody tr th:only-of-type {\n",
       "        vertical-align: middle;\n",
       "    }\n",
       "\n",
       "    .dataframe tbody tr th {\n",
       "        vertical-align: top;\n",
       "    }\n",
       "\n",
       "    .dataframe thead th {\n",
       "        text-align: right;\n",
       "    }\n",
       "</style>\n",
       "<table border=\"1\" class=\"dataframe\">\n",
       "  <thead>\n",
       "    <tr style=\"text-align: right;\">\n",
       "      <th></th>\n",
       "      <th>Currency</th>\n",
       "      <th>Closing Price (USD)</th>\n",
       "      <th>24h Open (USD)</th>\n",
       "      <th>24h High (USD)</th>\n",
       "      <th>24h Low (USD)</th>\n",
       "    </tr>\n",
       "    <tr>\n",
       "      <th>Date</th>\n",
       "      <th></th>\n",
       "      <th></th>\n",
       "      <th></th>\n",
       "      <th></th>\n",
       "      <th></th>\n",
       "    </tr>\n",
       "  </thead>\n",
       "  <tbody>\n",
       "    <tr>\n",
       "      <th>2021-07-20</th>\n",
       "      <td>LTC</td>\n",
       "      <td>107.272042</td>\n",
       "      <td>113.153208</td>\n",
       "      <td>115.042202</td>\n",
       "      <td>104.094588</td>\n",
       "    </tr>\n",
       "    <tr>\n",
       "      <th>2021-07-21</th>\n",
       "      <td>LTC</td>\n",
       "      <td>117.109194</td>\n",
       "      <td>107.330562</td>\n",
       "      <td>119.184707</td>\n",
       "      <td>105.153298</td>\n",
       "    </tr>\n",
       "    <tr>\n",
       "      <th>2021-07-22</th>\n",
       "      <td>LTC</td>\n",
       "      <td>119.913432</td>\n",
       "      <td>117.701875</td>\n",
       "      <td>122.081390</td>\n",
       "      <td>115.738590</td>\n",
       "    </tr>\n",
       "    <tr>\n",
       "      <th>2021-07-23</th>\n",
       "      <td>LTC</td>\n",
       "      <td>122.269072</td>\n",
       "      <td>120.707185</td>\n",
       "      <td>122.339452</td>\n",
       "      <td>117.134287</td>\n",
       "    </tr>\n",
       "    <tr>\n",
       "      <th>2021-07-24</th>\n",
       "      <td>LTC</td>\n",
       "      <td>124.637360</td>\n",
       "      <td>124.290013</td>\n",
       "      <td>127.480713</td>\n",
       "      <td>123.435597</td>\n",
       "    </tr>\n",
       "  </tbody>\n",
       "</table>\n",
       "</div>"
      ],
      "text/plain": [
       "           Currency  Closing Price (USD)  24h Open (USD)  24h High (USD)  \\\n",
       "Date                                                                       \n",
       "2021-07-20      LTC           107.272042      113.153208      115.042202   \n",
       "2021-07-21      LTC           117.109194      107.330562      119.184707   \n",
       "2021-07-22      LTC           119.913432      117.701875      122.081390   \n",
       "2021-07-23      LTC           122.269072      120.707185      122.339452   \n",
       "2021-07-24      LTC           124.637360      124.290013      127.480713   \n",
       "\n",
       "            24h Low (USD)  \n",
       "Date                       \n",
       "2021-07-20     104.094588  \n",
       "2021-07-21     105.153298  \n",
       "2021-07-22     115.738590  \n",
       "2021-07-23     117.134287  \n",
       "2021-07-24     123.435597  "
      ]
     },
     "execution_count": 2,
     "metadata": {},
     "output_type": "execute_result"
    }
   ],
   "source": [
    "from pathlib import Path\n",
    "csvpath = Path(\"../Project 2/Resources/LTC_USD.csv\")\n",
    "df = pd.read_csv(csvpath, parse_dates=True, index_col='Date')\n",
    "df.tail()"
   ]
  },
  {
   "cell_type": "code",
   "execution_count": 3,
   "metadata": {},
   "outputs": [
    {
     "data": {
      "text/plain": [
       "<AxesSubplot:xlabel='Date'>"
      ]
     },
     "execution_count": 3,
     "metadata": {},
     "output_type": "execute_result"
    },
    {
     "data": {
      "image/png": "[encoded data removed]",
      "text/plain": [
       "<Figure size 432x288 with 1 Axes>"
      ]
     },
     "metadata": {
      "needs_background": "light"
     },
     "output_type": "display_data"
    }
   ],
   "source": [
    "df[\"Closing Price (USD)\"].plot()"
   ]
  },
  {
   "cell_type": "code",
   "execution_count": 4,
   "metadata": {},
   "outputs": [
    {
     "data": {
      "text/plain": [
       "<AxesSubplot:xlabel='Date'>"
      ]
     },
     "execution_count": 4,
     "metadata": {},
     "output_type": "execute_result"
    },
    {
     "data": {
      "image/png": "[encoded data removed]",
      "text/plain": [
       "<Figure size 432x288 with 1 Axes>"
      ]
     },
     "metadata": {
      "needs_background": "light"
     },
     "output_type": "display_data"
    }
   ],
   "source": [
    "# Differencing the Settle price stationarizes the time series\n",
    "df[\"Closing Price (USD)\"].diff().plot()"
   ]
  },
  {
   "cell_type": "markdown",
   "metadata": {},
   "source": [
    "# Autocorrelation and Partial Autocorrelation Analysis"
   ]
  },
  {
   "cell_type": "code",
   "execution_count": 5,
   "metadata": {},
   "outputs": [],
   "source": [
    "from statsmodels.graphics.tsaplots import plot_acf, plot_pacf"
   ]
  },
  {
   "cell_type": "code",
   "execution_count": 6,
   "metadata": {},
   "outputs": [
    {
     "data": {
      "image/png": "[encoded data removed]",
      "text/plain": [
       "<Figure size 432x288 with 1 Axes>"
      ]
     },
     "execution_count": 6,
     "metadata": {},
     "output_type": "execute_result"
    },
    {
     "data": {
      "image/png": "[encoded data removed]",
      "text/plain": [
       "<Figure size 432x288 with 1 Axes>"
      ]
     },
     "metadata": {
      "needs_background": "light"
     },
     "output_type": "display_data"
    }
   ],
   "source": [
    "# Plot the autocorrelation of the Settle Prices\n",
    "plot_acf(df[\"Closing Price (USD)\"], zero=False, lags=35)"
   ]
  },
  {
   "cell_type": "code",
   "execution_count": 7,
   "metadata": {},
   "outputs": [
    {
     "data": {
      "image/png": "[encoded data removed]",
      "text/plain": [
       "<Figure size 432x288 with 1 Axes>"
      ]
     },
     "execution_count": 7,
     "metadata": {},
     "output_type": "execute_result"
    },
    {
     "data": {
      "image/png": "[encoded data removed]",
      "text/plain": [
       "<Figure size 432x288 with 1 Axes>"
      ]
     },
     "metadata": {
      "needs_background": "light"
     },
     "output_type": "display_data"
    }
   ],
   "source": [
    "# Plot the partial autocorrelation of the returns\n",
    "plot_pacf(df[\"Closing Price (USD)\"], zero=False, lags=35)"
   ]
  },
  {
   "cell_type": "markdown",
   "metadata": {},
   "source": [
    "# ARIMA Model"
   ]
  },
  {
   "cell_type": "code",
   "execution_count": 8,
   "metadata": {},
   "outputs": [],
   "source": [
    "from statsmodels.tsa.arima_model import ARIMA"
   ]
  },
  {
   "cell_type": "code",
   "execution_count": 9,
   "metadata": {},
   "outputs": [
    {
     "name": "stderr",
     "output_type": "stream",
     "text": [
      "C:\\Users\\Jamison\\anaconda3\\lib\\site-packages\\statsmodels\\tsa\\arima_model.py:472: FutureWarning: \n",
      "statsmodels.tsa.arima_model.ARMA and statsmodels.tsa.arima_model.ARIMA have\n",
      "been deprecated in favor of statsmodels.tsa.arima.model.ARIMA (note the .\n",
      "between arima and model) and\n",
      "statsmodels.tsa.SARIMAX. These will be removed after the 0.12 release.\n",
      "\n",
      "statsmodels.tsa.arima.model.ARIMA makes use of the statespace framework and\n",
      "is both well tested and maintained.\n",
      "\n",
      "To silence this warning and continue using ARMA and ARIMA until they are\n",
      "removed, use:\n",
      "\n",
      "import warnings\n",
      "warnings.filterwarnings('ignore', 'statsmodels.tsa.arima_model.ARMA',\n",
      "                        FutureWarning)\n",
      "warnings.filterwarnings('ignore', 'statsmodels.tsa.arima_model.ARIMA',\n",
      "                        FutureWarning)\n",
      "\n",
      "  warnings.warn(ARIMA_DEPRECATION_WARN, FutureWarning)\n"
     ]
    }
   ],
   "source": [
    "# Create an ARIMA model\n",
    "model = ARIMA(df[\"Closing Price (USD)\"].values, order=(12, 1, 0))"
   ]
  },
  {
   "cell_type": "code",
   "execution_count": 10,
   "metadata": {},
   "outputs": [],
   "source": [
    "# Fit the model to the data\n",
    "results = model.fit()"
   ]
  },
  {
   "cell_type": "code",
   "execution_count": 11,
   "metadata": {},
   "outputs": [
    {
     "data": {
      "text/html": [
       "<table class=\"simpletable\">\n",
       "<caption>ARIMA Model Results</caption>\n",
       "<tr>\n",
       "  <th>Dep. Variable:</th>        <td>D.y</td>       <th>  No. Observations:  </th>    <td>203</td>  \n",
       "</tr>\n",
       "<tr>\n",
       "  <th>Model:</th>          <td>ARIMA(12, 1, 0)</td> <th>  Log Likelihood     </th> <td>-806.899</td>\n",
       "</tr>\n",
       "<tr>\n",
       "  <th>Method:</th>             <td>css-mle</td>     <th>  S.D. of innovations</th>  <td>12.851</td> \n",
       "</tr>\n",
       "<tr>\n",
       "  <th>Date:</th>          <td>Tue, 03 Aug 2021</td> <th>  AIC                </th> <td>1641.799</td>\n",
       "</tr>\n",
       "<tr>\n",
       "  <th>Time:</th>              <td>19:35:53</td>     <th>  BIC                </th> <td>1688.184</td>\n",
       "</tr>\n",
       "<tr>\n",
       "  <th>Sample:</th>                <td>1</td>        <th>  HQIC               </th> <td>1660.564</td>\n",
       "</tr>\n",
       "<tr>\n",
       "  <th></th>                       <td> </td>        <th>                     </th>     <td> </td>   \n",
       "</tr>\n",
       "</table>\n",
       "<table class=\"simpletable\">\n",
       "<tr>\n",
       "       <td></td>         <th>coef</th>     <th>std err</th>      <th>z</th>      <th>P>|z|</th>  <th>[0.025</th>    <th>0.975]</th>  \n",
       "</tr>\n",
       "<tr>\n",
       "  <th>const</th>      <td>   -0.0207</td> <td>    0.913</td> <td>   -0.023</td> <td> 0.982</td> <td>   -1.810</td> <td>    1.769</td>\n",
       "</tr>\n",
       "<tr>\n",
       "  <th>ar.L1.D.y</th>  <td>    0.0378</td> <td>    0.069</td> <td>    0.544</td> <td> 0.587</td> <td>   -0.098</td> <td>    0.174</td>\n",
       "</tr>\n",
       "<tr>\n",
       "  <th>ar.L2.D.y</th>  <td>    0.0269</td> <td>    0.069</td> <td>    0.388</td> <td> 0.698</td> <td>   -0.109</td> <td>    0.162</td>\n",
       "</tr>\n",
       "<tr>\n",
       "  <th>ar.L3.D.y</th>  <td>   -0.0034</td> <td>    0.069</td> <td>   -0.050</td> <td> 0.960</td> <td>   -0.138</td> <td>    0.131</td>\n",
       "</tr>\n",
       "<tr>\n",
       "  <th>ar.L4.D.y</th>  <td>    0.2244</td> <td>    0.068</td> <td>    3.288</td> <td> 0.001</td> <td>    0.091</td> <td>    0.358</td>\n",
       "</tr>\n",
       "<tr>\n",
       "  <th>ar.L5.D.y</th>  <td>   -0.1247</td> <td>    0.070</td> <td>   -1.787</td> <td> 0.074</td> <td>   -0.261</td> <td>    0.012</td>\n",
       "</tr>\n",
       "<tr>\n",
       "  <th>ar.L6.D.y</th>  <td>    0.1570</td> <td>    0.070</td> <td>    2.238</td> <td> 0.025</td> <td>    0.019</td> <td>    0.295</td>\n",
       "</tr>\n",
       "<tr>\n",
       "  <th>ar.L7.D.y</th>  <td>   -0.0361</td> <td>    0.070</td> <td>   -0.519</td> <td> 0.604</td> <td>   -0.173</td> <td>    0.100</td>\n",
       "</tr>\n",
       "<tr>\n",
       "  <th>ar.L8.D.y</th>  <td>   -0.1064</td> <td>    0.069</td> <td>   -1.542</td> <td> 0.123</td> <td>   -0.242</td> <td>    0.029</td>\n",
       "</tr>\n",
       "<tr>\n",
       "  <th>ar.L9.D.y</th>  <td>    0.1235</td> <td>    0.069</td> <td>    1.801</td> <td> 0.072</td> <td>   -0.011</td> <td>    0.258</td>\n",
       "</tr>\n",
       "<tr>\n",
       "  <th>ar.L10.D.y</th> <td>   -0.1260</td> <td>    0.069</td> <td>   -1.824</td> <td> 0.068</td> <td>   -0.261</td> <td>    0.009</td>\n",
       "</tr>\n",
       "<tr>\n",
       "  <th>ar.L11.D.y</th> <td>   -0.0322</td> <td>    0.070</td> <td>   -0.461</td> <td> 0.645</td> <td>   -0.169</td> <td>    0.105</td>\n",
       "</tr>\n",
       "<tr>\n",
       "  <th>ar.L12.D.y</th> <td>   -0.1392</td> <td>    0.070</td> <td>   -2.001</td> <td> 0.045</td> <td>   -0.275</td> <td>   -0.003</td>\n",
       "</tr>\n",
       "</table>\n",
       "<table class=\"simpletable\">\n",
       "<caption>Roots</caption>\n",
       "<tr>\n",
       "    <td></td>    <th>            Real</th>  <th>         Imaginary</th> <th>         Modulus</th>  <th>        Frequency</th>\n",
       "</tr>\n",
       "<tr>\n",
       "  <th>AR.1</th>  <td>           1.0786</td> <td>          -0.2721j</td> <td>           1.1124</td> <td>          -0.0393</td>\n",
       "</tr>\n",
       "<tr>\n",
       "  <th>AR.2</th>  <td>           1.0786</td> <td>          +0.2721j</td> <td>           1.1124</td> <td>           0.0393</td>\n",
       "</tr>\n",
       "<tr>\n",
       "  <th>AR.3</th>  <td>           0.8062</td> <td>          -0.8672j</td> <td>           1.1840</td> <td>          -0.1308</td>\n",
       "</tr>\n",
       "<tr>\n",
       "  <th>AR.4</th>  <td>           0.8062</td> <td>          +0.8672j</td> <td>           1.1840</td> <td>           0.1308</td>\n",
       "</tr>\n",
       "<tr>\n",
       "  <th>AR.5</th>  <td>           0.2511</td> <td>          -1.1309j</td> <td>           1.1585</td> <td>          -0.2152</td>\n",
       "</tr>\n",
       "<tr>\n",
       "  <th>AR.6</th>  <td>           0.2511</td> <td>          +1.1309j</td> <td>           1.1585</td> <td>           0.2152</td>\n",
       "</tr>\n",
       "<tr>\n",
       "  <th>AR.7</th>  <td>          -1.0623</td> <td>          -0.2494j</td> <td>           1.0912</td> <td>          -0.4633</td>\n",
       "</tr>\n",
       "<tr>\n",
       "  <th>AR.8</th>  <td>          -1.0623</td> <td>          +0.2494j</td> <td>           1.0912</td> <td>           0.4633</td>\n",
       "</tr>\n",
       "<tr>\n",
       "  <th>AR.9</th>  <td>          -0.4331</td> <td>          -1.1289j</td> <td>           1.2092</td> <td>          -0.3083</td>\n",
       "</tr>\n",
       "<tr>\n",
       "  <th>AR.10</th> <td>          -0.4331</td> <td>          +1.1289j</td> <td>           1.2092</td> <td>           0.3083</td>\n",
       "</tr>\n",
       "<tr>\n",
       "  <th>AR.11</th> <td>          -0.7559</td> <td>          -1.0959j</td> <td>           1.3314</td> <td>          -0.3461</td>\n",
       "</tr>\n",
       "<tr>\n",
       "  <th>AR.12</th> <td>          -0.7559</td> <td>          +1.0959j</td> <td>           1.3314</td> <td>           0.3461</td>\n",
       "</tr>\n",
       "</table>"
      ],
      "text/plain": [
       "<class 'statsmodels.iolib.summary.Summary'>\n",
       "\"\"\"\n",
       "                             ARIMA Model Results                              \n",
       "==============================================================================\n",
       "Dep. Variable:                    D.y   No. Observations:                  203\n",
       "Model:                ARIMA(12, 1, 0)   Log Likelihood                -806.899\n",
       "Method:                       css-mle   S.D. of innovations             12.851\n",
       "Date:                Tue, 03 Aug 2021   AIC                           1641.799\n",
       "Time:                        19:35:53   BIC                           1688.184\n",
       "Sample:                             1   HQIC                          1660.564\n",
       "                                                                              \n",
       "==============================================================================\n",
       "                 coef    std err          z      P>|z|      [0.025      0.975]\n",
       "------------------------------------------------------------------------------\n",
       "const         -0.0207      0.913     -0.023      0.982      -1.810       1.769\n",
       "ar.L1.D.y      0.0378      0.069      0.544      0.587      -0.098       0.174\n",
       "ar.L2.D.y      0.0269      0.069      0.388      0.698      -0.109       0.162\n",
       "ar.L3.D.y     -0.0034      0.069     -0.050      0.960      -0.138       0.131\n",
       "ar.L4.D.y      0.2244      0.068      3.288      0.001       0.091       0.358\n",
       "ar.L5.D.y     -0.1247      0.070     -1.787      0.074      -0.261       0.012\n",
       "ar.L6.D.y      0.1570      0.070      2.238      0.025       0.019       0.295\n",
       "ar.L7.D.y     -0.0361      0.070     -0.519      0.604      -0.173       0.100\n",
       "ar.L8.D.y     -0.1064      0.069     -1.542      0.123      -0.242       0.029\n",
       "ar.L9.D.y      0.1235      0.069      1.801      0.072      -0.011       0.258\n",
       "ar.L10.D.y    -0.1260      0.069     -1.824      0.068      -0.261       0.009\n",
       "ar.L11.D.y    -0.0322      0.070     -0.461      0.645      -0.169       0.105\n",
       "ar.L12.D.y    -0.1392      0.070     -2.001      0.045      -0.275      -0.003\n",
       "                                    Roots                                     \n",
       "==============================================================================\n",
       "                   Real          Imaginary           Modulus         Frequency\n",
       "------------------------------------------------------------------------------\n",
       "AR.1             1.0786           -0.2721j            1.1124           -0.0393\n",
       "AR.2             1.0786           +0.2721j            1.1124            0.0393\n",
       "AR.3             0.8062           -0.8672j            1.1840           -0.1308\n",
       "AR.4             0.8062           +0.8672j            1.1840            0.1308\n",
       "AR.5             0.2511           -1.1309j            1.1585           -0.2152\n",
       "AR.6             0.2511           +1.1309j            1.1585            0.2152\n",
       "AR.7            -1.0623           -0.2494j            1.0912           -0.4633\n",
       "AR.8            -1.0623           +0.2494j            1.0912            0.4633\n",
       "AR.9            -0.4331           -1.1289j            1.2092           -0.3083\n",
       "AR.10           -0.4331           +1.1289j            1.2092            0.3083\n",
       "AR.11           -0.7559           -1.0959j            1.3314           -0.3461\n",
       "AR.12           -0.7559           +1.0959j            1.3314            0.3461\n",
       "------------------------------------------------------------------------------\n",
       "\"\"\""
      ]
     },
     "execution_count": 11,
     "metadata": {},
     "output_type": "execute_result"
    }
   ],
   "source": [
    "# Print the model summary\n",
    "results.summary()"
   ]
  },
  {
   "cell_type": "code",
   "execution_count": 12,
   "metadata": {},
   "outputs": [
    {
     "data": {
      "text/plain": [
       "<AxesSubplot:title={'center':'Futures Forecast'}>"
      ]
     },
     "execution_count": 12,
     "metadata": {},
     "output_type": "execute_result"
    },
    {
     "data": {
      "image/png": "[encoded data removed]",
      "text/plain": [
       "<Figure size 432x288 with 1 Axes>"
      ]
     },
     "metadata": {
      "needs_background": "light"
     },
     "output_type": "display_data"
    }
   ],
   "source": [
    "# Plot the Futures Price Forecast\n",
    "pd.DataFrame(results.forecast(steps=10)[0]).plot(title=\"Futures Forecast\")"
   ]
  },
  {
   "cell_type": "code",
   "execution_count": 13,
   "metadata": {},
   "outputs": [],
   "source": [
    "# save model\n",
    "results.save('ltc_model1.pkl')"
   ]
  },
  {
   "cell_type": "markdown",
   "metadata": {},
   "source": [
    "# ARIMA Model using a Lag of 2"
   ]
  },
  {
   "cell_type": "code",
   "execution_count": 34,
   "metadata": {},
   "outputs": [
    {
     "name": "stderr",
     "output_type": "stream",
     "text": [
      "C:\\Users\\Jamison\\anaconda3\\lib\\site-packages\\statsmodels\\tsa\\arima_model.py:472: FutureWarning: \n",
      "statsmodels.tsa.arima_model.ARMA and statsmodels.tsa.arima_model.ARIMA have\n",
      "been deprecated in favor of statsmodels.tsa.arima.model.ARIMA (note the .\n",
      "between arima and model) and\n",
      "statsmodels.tsa.SARIMAX. These will be removed after the 0.12 release.\n",
      "\n",
      "statsmodels.tsa.arima.model.ARIMA makes use of the statespace framework and\n",
      "is both well tested and maintained.\n",
      "\n",
      "To silence this warning and continue using ARMA and ARIMA until they are\n",
      "removed, use:\n",
      "\n",
      "import warnings\n",
      "warnings.filterwarnings('ignore', 'statsmodels.tsa.arima_model.ARMA',\n",
      "                        FutureWarning)\n",
      "warnings.filterwarnings('ignore', 'statsmodels.tsa.arima_model.ARIMA',\n",
      "                        FutureWarning)\n",
      "\n",
      "  warnings.warn(ARIMA_DEPRECATION_WARN, FutureWarning)\n",
      "C:\\Users\\Jamison\\anaconda3\\lib\\site-packages\\statsmodels\\tsa\\arima_model.py:472: FutureWarning: \n",
      "statsmodels.tsa.arima_model.ARMA and statsmodels.tsa.arima_model.ARIMA have\n",
      "been deprecated in favor of statsmodels.tsa.arima.model.ARIMA (note the .\n",
      "between arima and model) and\n",
      "statsmodels.tsa.SARIMAX. These will be removed after the 0.12 release.\n",
      "\n",
      "statsmodels.tsa.arima.model.ARIMA makes use of the statespace framework and\n",
      "is both well tested and maintained.\n",
      "\n",
      "To silence this warning and continue using ARMA and ARIMA until they are\n",
      "removed, use:\n",
      "\n",
      "import warnings\n",
      "warnings.filterwarnings('ignore', 'statsmodels.tsa.arima_model.ARMA',\n",
      "                        FutureWarning)\n",
      "warnings.filterwarnings('ignore', 'statsmodels.tsa.arima_model.ARIMA',\n",
      "                        FutureWarning)\n",
      "\n",
      "  warnings.warn(ARIMA_DEPRECATION_WARN, FutureWarning)\n"
     ]
    }
   ],
   "source": [
    "# Create an ARIMA Model and fit it to the data\n",
    "model2 = ARIMA(df[\"Closing Price (USD)\"].values, order=(10, 1, 1))\n",
    "results2 = model2.fit()"
   ]
  },
  {
   "cell_type": "code",
   "execution_count": 31,
   "metadata": {},
   "outputs": [
    {
     "data": {
      "text/html": [
       "<table class=\"simpletable\">\n",
       "<caption>ARIMA Model Results</caption>\n",
       "<tr>\n",
       "  <th>Dep. Variable:</th>        <td>D.y</td>       <th>  No. Observations:  </th>    <td>203</td>  \n",
       "</tr>\n",
       "<tr>\n",
       "  <th>Model:</th>          <td>ARIMA(9, 1, 1)</td>  <th>  Log Likelihood     </th> <td>-809.418</td>\n",
       "</tr>\n",
       "<tr>\n",
       "  <th>Method:</th>             <td>css-mle</td>     <th>  S.D. of innovations</th>  <td>13.021</td> \n",
       "</tr>\n",
       "<tr>\n",
       "  <th>Date:</th>          <td>Tue, 03 Aug 2021</td> <th>  AIC                </th> <td>1642.836</td>\n",
       "</tr>\n",
       "<tr>\n",
       "  <th>Time:</th>              <td>20:09:24</td>     <th>  BIC                </th> <td>1682.595</td>\n",
       "</tr>\n",
       "<tr>\n",
       "  <th>Sample:</th>                <td>1</td>        <th>  HQIC               </th> <td>1658.921</td>\n",
       "</tr>\n",
       "<tr>\n",
       "  <th></th>                       <td> </td>        <th>                     </th>     <td> </td>   \n",
       "</tr>\n",
       "</table>\n",
       "<table class=\"simpletable\">\n",
       "<tr>\n",
       "      <td></td>         <th>coef</th>     <th>std err</th>      <th>z</th>      <th>P>|z|</th>  <th>[0.025</th>    <th>0.975]</th>  \n",
       "</tr>\n",
       "<tr>\n",
       "  <th>const</th>     <td>   -0.0195</td> <td>    1.184</td> <td>   -0.016</td> <td> 0.987</td> <td>   -2.340</td> <td>    2.301</td>\n",
       "</tr>\n",
       "<tr>\n",
       "  <th>ar.L1.D.y</th> <td>   -0.5460</td> <td>    0.227</td> <td>   -2.405</td> <td> 0.016</td> <td>   -0.991</td> <td>   -0.101</td>\n",
       "</tr>\n",
       "<tr>\n",
       "  <th>ar.L2.D.y</th> <td>    0.0700</td> <td>    0.079</td> <td>    0.888</td> <td> 0.375</td> <td>   -0.085</td> <td>    0.224</td>\n",
       "</tr>\n",
       "<tr>\n",
       "  <th>ar.L3.D.y</th> <td>    0.0193</td> <td>    0.080</td> <td>    0.240</td> <td> 0.810</td> <td>   -0.138</td> <td>    0.177</td>\n",
       "</tr>\n",
       "<tr>\n",
       "  <th>ar.L4.D.y</th> <td>    0.2307</td> <td>    0.079</td> <td>    2.922</td> <td> 0.003</td> <td>    0.076</td> <td>    0.385</td>\n",
       "</tr>\n",
       "<tr>\n",
       "  <th>ar.L5.D.y</th> <td>    0.0107</td> <td>    0.096</td> <td>    0.111</td> <td> 0.911</td> <td>   -0.177</td> <td>    0.199</td>\n",
       "</tr>\n",
       "<tr>\n",
       "  <th>ar.L6.D.y</th> <td>    0.0596</td> <td>    0.081</td> <td>    0.740</td> <td> 0.459</td> <td>   -0.098</td> <td>    0.217</td>\n",
       "</tr>\n",
       "<tr>\n",
       "  <th>ar.L7.D.y</th> <td>    0.0352</td> <td>    0.082</td> <td>    0.429</td> <td> 0.668</td> <td>   -0.126</td> <td>    0.196</td>\n",
       "</tr>\n",
       "<tr>\n",
       "  <th>ar.L8.D.y</th> <td>   -0.1606</td> <td>    0.078</td> <td>   -2.051</td> <td> 0.040</td> <td>   -0.314</td> <td>   -0.007</td>\n",
       "</tr>\n",
       "<tr>\n",
       "  <th>ar.L9.D.y</th> <td>    0.0506</td> <td>    0.091</td> <td>    0.556</td> <td> 0.578</td> <td>   -0.128</td> <td>    0.229</td>\n",
       "</tr>\n",
       "<tr>\n",
       "  <th>ma.L1.D.y</th> <td>    0.5983</td> <td>    0.219</td> <td>    2.733</td> <td> 0.006</td> <td>    0.169</td> <td>    1.027</td>\n",
       "</tr>\n",
       "</table>\n",
       "<table class=\"simpletable\">\n",
       "<caption>Roots</caption>\n",
       "<tr>\n",
       "    <td></td>   <th>            Real</th>  <th>         Imaginary</th> <th>         Modulus</th>  <th>        Frequency</th>\n",
       "</tr>\n",
       "<tr>\n",
       "  <th>AR.1</th> <td>          -1.0716</td> <td>          -0.2467j</td> <td>           1.0996</td> <td>          -0.4640</td>\n",
       "</tr>\n",
       "<tr>\n",
       "  <th>AR.2</th> <td>          -1.0716</td> <td>          +0.2467j</td> <td>           1.0996</td> <td>           0.4640</td>\n",
       "</tr>\n",
       "<tr>\n",
       "  <th>AR.3</th> <td>          -0.5252</td> <td>          -1.0626j</td> <td>           1.1853</td> <td>          -0.3231</td>\n",
       "</tr>\n",
       "<tr>\n",
       "  <th>AR.4</th> <td>          -0.5252</td> <td>          +1.0626j</td> <td>           1.1853</td> <td>           0.3231</td>\n",
       "</tr>\n",
       "<tr>\n",
       "  <th>AR.5</th> <td>           0.3381</td> <td>          -1.2778j</td> <td>           1.3218</td> <td>          -0.2088</td>\n",
       "</tr>\n",
       "<tr>\n",
       "  <th>AR.6</th> <td>           0.3381</td> <td>          +1.2778j</td> <td>           1.3218</td> <td>           0.2088</td>\n",
       "</tr>\n",
       "<tr>\n",
       "  <th>AR.7</th> <td>           1.5183</td> <td>          -0.4506j</td> <td>           1.5838</td> <td>          -0.0459</td>\n",
       "</tr>\n",
       "<tr>\n",
       "  <th>AR.8</th> <td>           1.5183</td> <td>          +0.4506j</td> <td>           1.5838</td> <td>           0.0459</td>\n",
       "</tr>\n",
       "<tr>\n",
       "  <th>AR.9</th> <td>           2.6566</td> <td>          -0.0000j</td> <td>           2.6566</td> <td>          -0.0000</td>\n",
       "</tr>\n",
       "<tr>\n",
       "  <th>MA.1</th> <td>          -1.6714</td> <td>          +0.0000j</td> <td>           1.6714</td> <td>           0.5000</td>\n",
       "</tr>\n",
       "</table>"
      ],
      "text/plain": [
       "<class 'statsmodels.iolib.summary.Summary'>\n",
       "\"\"\"\n",
       "                             ARIMA Model Results                              \n",
       "==============================================================================\n",
       "Dep. Variable:                    D.y   No. Observations:                  203\n",
       "Model:                 ARIMA(9, 1, 1)   Log Likelihood                -809.418\n",
       "Method:                       css-mle   S.D. of innovations             13.021\n",
       "Date:                Tue, 03 Aug 2021   AIC                           1642.836\n",
       "Time:                        20:09:24   BIC                           1682.595\n",
       "Sample:                             1   HQIC                          1658.921\n",
       "                                                                              \n",
       "==============================================================================\n",
       "                 coef    std err          z      P>|z|      [0.025      0.975]\n",
       "------------------------------------------------------------------------------\n",
       "const         -0.0195      1.184     -0.016      0.987      -2.340       2.301\n",
       "ar.L1.D.y     -0.5460      0.227     -2.405      0.016      -0.991      -0.101\n",
       "ar.L2.D.y      0.0700      0.079      0.888      0.375      -0.085       0.224\n",
       "ar.L3.D.y      0.0193      0.080      0.240      0.810      -0.138       0.177\n",
       "ar.L4.D.y      0.2307      0.079      2.922      0.003       0.076       0.385\n",
       "ar.L5.D.y      0.0107      0.096      0.111      0.911      -0.177       0.199\n",
       "ar.L6.D.y      0.0596      0.081      0.740      0.459      -0.098       0.217\n",
       "ar.L7.D.y      0.0352      0.082      0.429      0.668      -0.126       0.196\n",
       "ar.L8.D.y     -0.1606      0.078     -2.051      0.040      -0.314      -0.007\n",
       "ar.L9.D.y      0.0506      0.091      0.556      0.578      -0.128       0.229\n",
       "ma.L1.D.y      0.5983      0.219      2.733      0.006       0.169       1.027\n",
       "                                    Roots                                    \n",
       "=============================================================================\n",
       "                  Real          Imaginary           Modulus         Frequency\n",
       "-----------------------------------------------------------------------------\n",
       "AR.1           -1.0716           -0.2467j            1.0996           -0.4640\n",
       "AR.2           -1.0716           +0.2467j            1.0996            0.4640\n",
       "AR.3           -0.5252           -1.0626j            1.1853           -0.3231\n",
       "AR.4           -0.5252           +1.0626j            1.1853            0.3231\n",
       "AR.5            0.3381           -1.2778j            1.3218           -0.2088\n",
       "AR.6            0.3381           +1.2778j            1.3218            0.2088\n",
       "AR.7            1.5183           -0.4506j            1.5838           -0.0459\n",
       "AR.8            1.5183           +0.4506j            1.5838            0.0459\n",
       "AR.9            2.6566           -0.0000j            2.6566           -0.0000\n",
       "MA.1           -1.6714           +0.0000j            1.6714            0.5000\n",
       "-----------------------------------------------------------------------------\n",
       "\"\"\""
      ]
     },
     "execution_count": 31,
     "metadata": {},
     "output_type": "execute_result"
    }
   ],
   "source": [
    "# print the model summary\n",
    "results2.summary()"
   ]
  },
  {
   "cell_type": "code",
   "execution_count": 32,
   "metadata": {},
   "outputs": [
    {
     "data": {
      "text/plain": [
       "<AxesSubplot:title={'center':'Futures Forecast'}>"
      ]
     },
     "execution_count": 32,
     "metadata": {},
     "output_type": "execute_result"
    },
    {
     "data": {
      "image/png": "[encoded data removed]",
      "text/plain": [
       "<Figure size 432x288 with 1 Axes>"
      ]
     },
     "metadata": {
      "needs_background": "light"
     },
     "output_type": "display_data"
    }
   ],
   "source": [
    "# Plot the Futures Price Forecast\n",
    "pd.DataFrame(results2.forecast(steps=10)[0]).plot(title=\"Futures Forecast\")"
   ]
  },
  {
   "cell_type": "code",
   "execution_count": 33,
   "metadata": {},
   "outputs": [],
   "source": [
    "# save model\n",
    "results2.save('ltc_model2.pkl')"
   ]
  }
 ],
 "metadata": {
  "kernelspec": {
   "display_name": "Python 3",
   "language": "python",
   "name": "python3"
  },
  "language_info": {
   "codemirror_mode": {
    "name": "ipython",
    "version": 3
   },
   "file_extension": ".py",
   "mimetype": "text/x-python",
   "name": "python",
   "nbconvert_exporter": "python",
   "pygments_lexer": "ipython3",
   "version": "3.8.5"
  }
 },
 "nbformat": 4,
 "nbformat_minor": 4
}
