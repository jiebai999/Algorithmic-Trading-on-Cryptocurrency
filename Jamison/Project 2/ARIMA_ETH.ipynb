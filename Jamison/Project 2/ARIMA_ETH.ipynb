{
 "cells": [
  {
   "cell_type": "code",
   "execution_count": 1,
   "metadata": {},
   "outputs": [],
   "source": [
    "import pandas as pd\n",
    "%matplotlib inline\n",
    "\n",
    "import warnings\n",
    "warnings.filterwarnings('ignore', 'statsmodels.tsa.arima_model.ARMA',\n",
    "                        FutureWarning)\n",
    "warnings.filterwarnings('ignore', 'statsmodels.tsa.arima_model.ARIMA',\n",
    "                        FutureWarning)"
   ]
  },
  {
   "cell_type": "code",
   "execution_count": 2,
   "metadata": {},
   "outputs": [
    {
     "data": {
      "text/html": [
       "<div>\n",
       "<style scoped>\n",
       "    .dataframe tbody tr th:only-of-type {\n",
       "        vertical-align: middle;\n",
       "    }\n",
       "\n",
       "    .dataframe tbody tr th {\n",
       "        vertical-align: top;\n",
       "    }\n",
       "\n",
       "    .dataframe thead th {\n",
       "        text-align: right;\n",
       "    }\n",
       "</style>\n",
       "<table border=\"1\" class=\"dataframe\">\n",
       "  <thead>\n",
       "    <tr style=\"text-align: right;\">\n",
       "      <th></th>\n",
       "      <th>Currency</th>\n",
       "      <th>Closing Price (USD)</th>\n",
       "      <th>24h Open (USD)</th>\n",
       "      <th>24h High (USD)</th>\n",
       "      <th>24h Low (USD)</th>\n",
       "    </tr>\n",
       "    <tr>\n",
       "      <th>Date</th>\n",
       "      <th></th>\n",
       "      <th></th>\n",
       "      <th></th>\n",
       "      <th></th>\n",
       "      <th></th>\n",
       "    </tr>\n",
       "  </thead>\n",
       "  <tbody>\n",
       "    <tr>\n",
       "      <th>2021-01-01</th>\n",
       "      <td>ETH</td>\n",
       "      <td>730.035168</td>\n",
       "      <td>736.709922</td>\n",
       "      <td>749.059799</td>\n",
       "      <td>721.920981</td>\n",
       "    </tr>\n",
       "    <tr>\n",
       "      <th>2021-01-02</th>\n",
       "      <td>ETH</td>\n",
       "      <td>771.475757</td>\n",
       "      <td>729.732567</td>\n",
       "      <td>784.506031</td>\n",
       "      <td>716.225886</td>\n",
       "    </tr>\n",
       "    <tr>\n",
       "      <th>2021-01-03</th>\n",
       "      <td>ETH</td>\n",
       "      <td>976.892681</td>\n",
       "      <td>771.794228</td>\n",
       "      <td>989.551795</td>\n",
       "      <td>765.723864</td>\n",
       "    </tr>\n",
       "    <tr>\n",
       "      <th>2021-01-04</th>\n",
       "      <td>ETH</td>\n",
       "      <td>1017.862399</td>\n",
       "      <td>971.642719</td>\n",
       "      <td>1151.069389</td>\n",
       "      <td>890.473806</td>\n",
       "    </tr>\n",
       "    <tr>\n",
       "      <th>2021-01-05</th>\n",
       "      <td>ETH</td>\n",
       "      <td>1123.162841</td>\n",
       "      <td>1041.496000</td>\n",
       "      <td>1126.870772</td>\n",
       "      <td>980.278064</td>\n",
       "    </tr>\n",
       "  </tbody>\n",
       "</table>\n",
       "</div>"
      ],
      "text/plain": [
       "           Currency  Closing Price (USD)  24h Open (USD)  24h High (USD)  \\\n",
       "Date                                                                       \n",
       "2021-01-01      ETH           730.035168      736.709922      749.059799   \n",
       "2021-01-02      ETH           771.475757      729.732567      784.506031   \n",
       "2021-01-03      ETH           976.892681      771.794228      989.551795   \n",
       "2021-01-04      ETH          1017.862399      971.642719     1151.069389   \n",
       "2021-01-05      ETH          1123.162841     1041.496000     1126.870772   \n",
       "\n",
       "            24h Low (USD)  \n",
       "Date                       \n",
       "2021-01-01     721.920981  \n",
       "2021-01-02     716.225886  \n",
       "2021-01-03     765.723864  \n",
       "2021-01-04     890.473806  \n",
       "2021-01-05     980.278064  "
      ]
     },
     "execution_count": 2,
     "metadata": {},
     "output_type": "execute_result"
    }
   ],
   "source": [
    "from pathlib import Path\n",
    "csvpath = Path(\"../Project 2/Resources/ETH_USD.csv\")\n",
    "df = pd.read_csv(csvpath, parse_dates=True, index_col='Date')\n",
    "df.head()"
   ]
  },
  {
   "cell_type": "code",
   "execution_count": 3,
   "metadata": {},
   "outputs": [
    {
     "data": {
      "text/plain": [
       "<AxesSubplot:xlabel='Date'>"
      ]
     },
     "execution_count": 3,
     "metadata": {},
     "output_type": "execute_result"
    },
    {
     "data": {
      "image/png": "[encoded data removed]",
      "text/plain": [
       "<Figure size 432x288 with 1 Axes>"
      ]
     },
     "metadata": {
      "needs_background": "light"
     },
     "output_type": "display_data"
    }
   ],
   "source": [
    "df[\"Closing Price (USD)\"].plot()"
   ]
  },
  {
   "cell_type": "code",
   "execution_count": 4,
   "metadata": {},
   "outputs": [
    {
     "data": {
      "text/plain": [
       "<AxesSubplot:xlabel='Date'>"
      ]
     },
     "execution_count": 4,
     "metadata": {},
     "output_type": "execute_result"
    },
    {
     "data": {
      "image/png": "[encoded data removed]",
      "text/plain": [
       "<Figure size 432x288 with 1 Axes>"
      ]
     },
     "metadata": {
      "needs_background": "light"
     },
     "output_type": "display_data"
    }
   ],
   "source": [
    "# Differencing the Settle price stationarizes the time series\n",
    "df[\"Closing Price (USD)\"].diff().plot()"
   ]
  },
  {
   "cell_type": "markdown",
   "metadata": {},
   "source": [
    "# Autocorrelation and Partial Autocorrelation Analysis"
   ]
  },
  {
   "cell_type": "code",
   "execution_count": 5,
   "metadata": {},
   "outputs": [],
   "source": [
    "from statsmodels.graphics.tsaplots import plot_acf, plot_pacf"
   ]
  },
  {
   "cell_type": "code",
   "execution_count": 6,
   "metadata": {},
   "outputs": [
    {
     "data": {
      "image/png": "[encoded data removed]",
      "text/plain": [
       "<Figure size 432x288 with 1 Axes>"
      ]
     },
     "execution_count": 6,
     "metadata": {},
     "output_type": "execute_result"
    },
    {
     "data": {
      "image/png": "[encoded data removed]",
      "text/plain": [
       "<Figure size 432x288 with 1 Axes>"
      ]
     },
     "metadata": {
      "needs_background": "light"
     },
     "output_type": "display_data"
    }
   ],
   "source": [
    "# Plot the autocorrelation of the Settle Prices\n",
    "plot_acf(df[\"Closing Price (USD)\"], zero=False, lags=35)"
   ]
  },
  {
   "cell_type": "code",
   "execution_count": 7,
   "metadata": {},
   "outputs": [
    {
     "data": {
      "image/png": "[encoded data removed]",
      "text/plain": [
       "<Figure size 432x288 with 1 Axes>"
      ]
     },
     "execution_count": 7,
     "metadata": {},
     "output_type": "execute_result"
    },
    {
     "data": {
      "image/png": "[encoded data removed]",
      "text/plain": [
       "<Figure size 432x288 with 1 Axes>"
      ]
     },
     "metadata": {
      "needs_background": "light"
     },
     "output_type": "display_data"
    }
   ],
   "source": [
    "# Plot the partial autocorrelation of the returns\n",
    "plot_pacf(df[\"Closing Price (USD)\"], zero=False, lags=35)"
   ]
  },
  {
   "cell_type": "markdown",
   "metadata": {},
   "source": [
    "# ARIMA Model"
   ]
  },
  {
   "cell_type": "code",
   "execution_count": 8,
   "metadata": {},
   "outputs": [],
   "source": [
    "from statsmodels.tsa.arima_model import ARIMA"
   ]
  },
  {
   "cell_type": "code",
   "execution_count": 9,
   "metadata": {},
   "outputs": [
    {
     "name": "stderr",
     "output_type": "stream",
     "text": [
      "C:\\Users\\Jamison\\anaconda3\\lib\\site-packages\\statsmodels\\tsa\\arima_model.py:472: FutureWarning: \n",
      "statsmodels.tsa.arima_model.ARMA and statsmodels.tsa.arima_model.ARIMA have\n",
      "been deprecated in favor of statsmodels.tsa.arima.model.ARIMA (note the .\n",
      "between arima and model) and\n",
      "statsmodels.tsa.SARIMAX. These will be removed after the 0.12 release.\n",
      "\n",
      "statsmodels.tsa.arima.model.ARIMA makes use of the statespace framework and\n",
      "is both well tested and maintained.\n",
      "\n",
      "To silence this warning and continue using ARMA and ARIMA until they are\n",
      "removed, use:\n",
      "\n",
      "import warnings\n",
      "warnings.filterwarnings('ignore', 'statsmodels.tsa.arima_model.ARMA',\n",
      "                        FutureWarning)\n",
      "warnings.filterwarnings('ignore', 'statsmodels.tsa.arima_model.ARIMA',\n",
      "                        FutureWarning)\n",
      "\n",
      "  warnings.warn(ARIMA_DEPRECATION_WARN, FutureWarning)\n"
     ]
    }
   ],
   "source": [
    "# Create an ARIMA model\n",
    "model = ARIMA(df[\"Closing Price (USD)\"].values, order=(14, 2, 0))"
   ]
  },
  {
   "cell_type": "code",
   "execution_count": 10,
   "metadata": {},
   "outputs": [],
   "source": [
    "# Fit the model to the data\n",
    "results = model.fit()"
   ]
  },
  {
   "cell_type": "code",
   "execution_count": 11,
   "metadata": {},
   "outputs": [
    {
     "data": {
      "text/html": [
       "<table class=\"simpletable\">\n",
       "<caption>ARIMA Model Results</caption>\n",
       "<tr>\n",
       "  <th>Dep. Variable:</th>       <td>D2.y</td>       <th>  No. Observations:  </th>    <td>202</td>   \n",
       "</tr>\n",
       "<tr>\n",
       "  <th>Model:</th>          <td>ARIMA(14, 2, 0)</td> <th>  Log Likelihood     </th> <td>-1275.525</td>\n",
       "</tr>\n",
       "<tr>\n",
       "  <th>Method:</th>             <td>css-mle</td>     <th>  S.D. of innovations</th>  <td>132.963</td> \n",
       "</tr>\n",
       "<tr>\n",
       "  <th>Date:</th>          <td>Tue, 03 Aug 2021</td> <th>  AIC                </th> <td>2583.051</td> \n",
       "</tr>\n",
       "<tr>\n",
       "  <th>Time:</th>              <td>20:07:04</td>     <th>  BIC                </th> <td>2635.983</td> \n",
       "</tr>\n",
       "<tr>\n",
       "  <th>Sample:</th>                <td>2</td>        <th>  HQIC               </th> <td>2604.467</td> \n",
       "</tr>\n",
       "<tr>\n",
       "  <th></th>                       <td> </td>        <th>                     </th>     <td> </td>    \n",
       "</tr>\n",
       "</table>\n",
       "<table class=\"simpletable\">\n",
       "<tr>\n",
       "       <td></td>          <th>coef</th>     <th>std err</th>      <th>z</th>      <th>P>|z|</th>  <th>[0.025</th>    <th>0.975]</th>  \n",
       "</tr>\n",
       "<tr>\n",
       "  <th>const</th>       <td>   -0.1847</td> <td>    1.599</td> <td>   -0.115</td> <td> 0.908</td> <td>   -3.319</td> <td>    2.950</td>\n",
       "</tr>\n",
       "<tr>\n",
       "  <th>ar.L1.D2.y</th>  <td>   -0.9619</td> <td>    0.070</td> <td>  -13.755</td> <td> 0.000</td> <td>   -1.099</td> <td>   -0.825</td>\n",
       "</tr>\n",
       "<tr>\n",
       "  <th>ar.L2.D2.y</th>  <td>   -0.6950</td> <td>    0.097</td> <td>   -7.147</td> <td> 0.000</td> <td>   -0.886</td> <td>   -0.504</td>\n",
       "</tr>\n",
       "<tr>\n",
       "  <th>ar.L3.D2.y</th>  <td>   -0.6240</td> <td>    0.108</td> <td>   -5.754</td> <td> 0.000</td> <td>   -0.837</td> <td>   -0.411</td>\n",
       "</tr>\n",
       "<tr>\n",
       "  <th>ar.L4.D2.y</th>  <td>   -0.5159</td> <td>    0.117</td> <td>   -4.406</td> <td> 0.000</td> <td>   -0.745</td> <td>   -0.286</td>\n",
       "</tr>\n",
       "<tr>\n",
       "  <th>ar.L5.D2.y</th>  <td>   -0.5248</td> <td>    0.123</td> <td>   -4.271</td> <td> 0.000</td> <td>   -0.766</td> <td>   -0.284</td>\n",
       "</tr>\n",
       "<tr>\n",
       "  <th>ar.L6.D2.y</th>  <td>   -0.2539</td> <td>    0.128</td> <td>   -1.989</td> <td> 0.047</td> <td>   -0.504</td> <td>   -0.004</td>\n",
       "</tr>\n",
       "<tr>\n",
       "  <th>ar.L7.D2.y</th>  <td>   -0.1032</td> <td>    0.128</td> <td>   -0.807</td> <td> 0.420</td> <td>   -0.354</td> <td>    0.147</td>\n",
       "</tr>\n",
       "<tr>\n",
       "  <th>ar.L8.D2.y</th>  <td>   -0.2465</td> <td>    0.128</td> <td>   -1.930</td> <td> 0.054</td> <td>   -0.497</td> <td>    0.004</td>\n",
       "</tr>\n",
       "<tr>\n",
       "  <th>ar.L9.D2.y</th>  <td>   -0.2785</td> <td>    0.127</td> <td>   -2.187</td> <td> 0.029</td> <td>   -0.528</td> <td>   -0.029</td>\n",
       "</tr>\n",
       "<tr>\n",
       "  <th>ar.L10.D2.y</th> <td>   -0.1437</td> <td>    0.123</td> <td>   -1.172</td> <td> 0.241</td> <td>   -0.384</td> <td>    0.097</td>\n",
       "</tr>\n",
       "<tr>\n",
       "  <th>ar.L11.D2.y</th> <td>   -0.1715</td> <td>    0.117</td> <td>   -1.468</td> <td> 0.142</td> <td>   -0.400</td> <td>    0.058</td>\n",
       "</tr>\n",
       "<tr>\n",
       "  <th>ar.L12.D2.y</th> <td>   -0.2255</td> <td>    0.108</td> <td>   -2.085</td> <td> 0.037</td> <td>   -0.437</td> <td>   -0.014</td>\n",
       "</tr>\n",
       "<tr>\n",
       "  <th>ar.L13.D2.y</th> <td>   -0.1347</td> <td>    0.097</td> <td>   -1.385</td> <td> 0.166</td> <td>   -0.325</td> <td>    0.056</td>\n",
       "</tr>\n",
       "<tr>\n",
       "  <th>ar.L14.D2.y</th> <td>   -0.0951</td> <td>    0.070</td> <td>   -1.364</td> <td> 0.172</td> <td>   -0.232</td> <td>    0.041</td>\n",
       "</tr>\n",
       "</table>\n",
       "<table class=\"simpletable\">\n",
       "<caption>Roots</caption>\n",
       "<tr>\n",
       "    <td></td>    <th>            Real</th>  <th>         Imaginary</th> <th>         Modulus</th>  <th>        Frequency</th>\n",
       "</tr>\n",
       "<tr>\n",
       "  <th>AR.1</th>  <td>           1.0791</td> <td>          -0.4407j</td> <td>           1.1656</td> <td>          -0.0617</td>\n",
       "</tr>\n",
       "<tr>\n",
       "  <th>AR.2</th>  <td>           1.0791</td> <td>          +0.4407j</td> <td>           1.1656</td> <td>           0.0617</td>\n",
       "</tr>\n",
       "<tr>\n",
       "  <th>AR.3</th>  <td>           0.7235</td> <td>          -0.8886j</td> <td>           1.1458</td> <td>          -0.1412</td>\n",
       "</tr>\n",
       "<tr>\n",
       "  <th>AR.4</th>  <td>           0.7235</td> <td>          +0.8886j</td> <td>           1.1458</td> <td>           0.1412</td>\n",
       "</tr>\n",
       "<tr>\n",
       "  <th>AR.5</th>  <td>           0.3779</td> <td>          -1.0934j</td> <td>           1.1569</td> <td>          -0.1970</td>\n",
       "</tr>\n",
       "<tr>\n",
       "  <th>AR.6</th>  <td>           0.3779</td> <td>          +1.0934j</td> <td>           1.1569</td> <td>           0.1970</td>\n",
       "</tr>\n",
       "<tr>\n",
       "  <th>AR.7</th>  <td>          -1.1024</td> <td>          -0.2007j</td> <td>           1.1206</td> <td>          -0.4713</td>\n",
       "</tr>\n",
       "<tr>\n",
       "  <th>AR.8</th>  <td>          -1.1024</td> <td>          +0.2007j</td> <td>           1.1206</td> <td>           0.4713</td>\n",
       "</tr>\n",
       "<tr>\n",
       "  <th>AR.9</th>  <td>          -0.9472</td> <td>          -0.6828j</td> <td>           1.1677</td> <td>          -0.4006</td>\n",
       "</tr>\n",
       "<tr>\n",
       "  <th>AR.10</th> <td>          -0.9472</td> <td>          +0.6828j</td> <td>           1.1677</td> <td>           0.4006</td>\n",
       "</tr>\n",
       "<tr>\n",
       "  <th>AR.11</th> <td>          -0.3989</td> <td>          -1.0286j</td> <td>           1.1033</td> <td>          -0.3089</td>\n",
       "</tr>\n",
       "<tr>\n",
       "  <th>AR.12</th> <td>          -0.3989</td> <td>          +1.0286j</td> <td>           1.1033</td> <td>           0.3089</td>\n",
       "</tr>\n",
       "<tr>\n",
       "  <th>AR.13</th> <td>          -0.4402</td> <td>          -1.3858j</td> <td>           1.4540</td> <td>          -0.2990</td>\n",
       "</tr>\n",
       "<tr>\n",
       "  <th>AR.14</th> <td>          -0.4402</td> <td>          +1.3858j</td> <td>           1.4540</td> <td>           0.2990</td>\n",
       "</tr>\n",
       "</table>"
      ],
      "text/plain": [
       "<class 'statsmodels.iolib.summary.Summary'>\n",
       "\"\"\"\n",
       "                             ARIMA Model Results                              \n",
       "==============================================================================\n",
       "Dep. Variable:                   D2.y   No. Observations:                  202\n",
       "Model:                ARIMA(14, 2, 0)   Log Likelihood               -1275.525\n",
       "Method:                       css-mle   S.D. of innovations            132.963\n",
       "Date:                Tue, 03 Aug 2021   AIC                           2583.051\n",
       "Time:                        20:07:04   BIC                           2635.983\n",
       "Sample:                             2   HQIC                          2604.467\n",
       "                                                                              \n",
       "===============================================================================\n",
       "                  coef    std err          z      P>|z|      [0.025      0.975]\n",
       "-------------------------------------------------------------------------------\n",
       "const          -0.1847      1.599     -0.115      0.908      -3.319       2.950\n",
       "ar.L1.D2.y     -0.9619      0.070    -13.755      0.000      -1.099      -0.825\n",
       "ar.L2.D2.y     -0.6950      0.097     -7.147      0.000      -0.886      -0.504\n",
       "ar.L3.D2.y     -0.6240      0.108     -5.754      0.000      -0.837      -0.411\n",
       "ar.L4.D2.y     -0.5159      0.117     -4.406      0.000      -0.745      -0.286\n",
       "ar.L5.D2.y     -0.5248      0.123     -4.271      0.000      -0.766      -0.284\n",
       "ar.L6.D2.y     -0.2539      0.128     -1.989      0.047      -0.504      -0.004\n",
       "ar.L7.D2.y     -0.1032      0.128     -0.807      0.420      -0.354       0.147\n",
       "ar.L8.D2.y     -0.2465      0.128     -1.930      0.054      -0.497       0.004\n",
       "ar.L9.D2.y     -0.2785      0.127     -2.187      0.029      -0.528      -0.029\n",
       "ar.L10.D2.y    -0.1437      0.123     -1.172      0.241      -0.384       0.097\n",
       "ar.L11.D2.y    -0.1715      0.117     -1.468      0.142      -0.400       0.058\n",
       "ar.L12.D2.y    -0.2255      0.108     -2.085      0.037      -0.437      -0.014\n",
       "ar.L13.D2.y    -0.1347      0.097     -1.385      0.166      -0.325       0.056\n",
       "ar.L14.D2.y    -0.0951      0.070     -1.364      0.172      -0.232       0.041\n",
       "                                    Roots                                     \n",
       "==============================================================================\n",
       "                   Real          Imaginary           Modulus         Frequency\n",
       "------------------------------------------------------------------------------\n",
       "AR.1             1.0791           -0.4407j            1.1656           -0.0617\n",
       "AR.2             1.0791           +0.4407j            1.1656            0.0617\n",
       "AR.3             0.7235           -0.8886j            1.1458           -0.1412\n",
       "AR.4             0.7235           +0.8886j            1.1458            0.1412\n",
       "AR.5             0.3779           -1.0934j            1.1569           -0.1970\n",
       "AR.6             0.3779           +1.0934j            1.1569            0.1970\n",
       "AR.7            -1.1024           -0.2007j            1.1206           -0.4713\n",
       "AR.8            -1.1024           +0.2007j            1.1206            0.4713\n",
       "AR.9            -0.9472           -0.6828j            1.1677           -0.4006\n",
       "AR.10           -0.9472           +0.6828j            1.1677            0.4006\n",
       "AR.11           -0.3989           -1.0286j            1.1033           -0.3089\n",
       "AR.12           -0.3989           +1.0286j            1.1033            0.3089\n",
       "AR.13           -0.4402           -1.3858j            1.4540           -0.2990\n",
       "AR.14           -0.4402           +1.3858j            1.4540            0.2990\n",
       "------------------------------------------------------------------------------\n",
       "\"\"\""
      ]
     },
     "execution_count": 11,
     "metadata": {},
     "output_type": "execute_result"
    }
   ],
   "source": [
    "# Print the model summary\n",
    "results.summary()"
   ]
  },
  {
   "cell_type": "code",
   "execution_count": 12,
   "metadata": {},
   "outputs": [
    {
     "data": {
      "text/plain": [
       "<AxesSubplot:title={'center':'Futures Forecast'}>"
      ]
     },
     "execution_count": 12,
     "metadata": {},
     "output_type": "execute_result"
    },
    {
     "data": {
      "image/png": "[encoded data removed]",
      "text/plain": [
       "<Figure size 432x288 with 1 Axes>"
      ]
     },
     "metadata": {
      "needs_background": "light"
     },
     "output_type": "display_data"
    }
   ],
   "source": [
    "# Plot the Futures Price Forecast\n",
    "pd.DataFrame(results.forecast(steps=10)[0]).plot(title=\"Futures Forecast\")"
   ]
  },
  {
   "cell_type": "code",
   "execution_count": 13,
   "metadata": {},
   "outputs": [],
   "source": [
    "# save model\n",
    "results.save('eth_model1.pkl')"
   ]
  },
  {
   "cell_type": "markdown",
   "metadata": {},
   "source": [
    "# ARIMA Model using a Lag of 2"
   ]
  },
  {
   "cell_type": "code",
   "execution_count": 14,
   "metadata": {},
   "outputs": [
    {
     "name": "stderr",
     "output_type": "stream",
     "text": [
      "C:\\Users\\Jamison\\anaconda3\\lib\\site-packages\\statsmodels\\tsa\\arima_model.py:472: FutureWarning: \n",
      "statsmodels.tsa.arima_model.ARMA and statsmodels.tsa.arima_model.ARIMA have\n",
      "been deprecated in favor of statsmodels.tsa.arima.model.ARIMA (note the .\n",
      "between arima and model) and\n",
      "statsmodels.tsa.SARIMAX. These will be removed after the 0.12 release.\n",
      "\n",
      "statsmodels.tsa.arima.model.ARIMA makes use of the statespace framework and\n",
      "is both well tested and maintained.\n",
      "\n",
      "To silence this warning and continue using ARMA and ARIMA until they are\n",
      "removed, use:\n",
      "\n",
      "import warnings\n",
      "warnings.filterwarnings('ignore', 'statsmodels.tsa.arima_model.ARMA',\n",
      "                        FutureWarning)\n",
      "warnings.filterwarnings('ignore', 'statsmodels.tsa.arima_model.ARIMA',\n",
      "                        FutureWarning)\n",
      "\n",
      "  warnings.warn(ARIMA_DEPRECATION_WARN, FutureWarning)\n"
     ]
    }
   ],
   "source": [
    "# Create an ARIMA Model and fit it to the data\n",
    "model2 = ARIMA(df[\"Closing Price (USD)\"].values, order=(6, 1, 0))\n",
    "results2 = model2.fit()"
   ]
  },
  {
   "cell_type": "code",
   "execution_count": 15,
   "metadata": {},
   "outputs": [
    {
     "data": {
      "text/html": [
       "<table class=\"simpletable\">\n",
       "<caption>ARIMA Model Results</caption>\n",
       "<tr>\n",
       "  <th>Dep. Variable:</th>        <td>D.y</td>       <th>  No. Observations:  </th>    <td>203</td>   \n",
       "</tr>\n",
       "<tr>\n",
       "  <th>Model:</th>          <td>ARIMA(6, 1, 0)</td>  <th>  Log Likelihood     </th> <td>-1279.730</td>\n",
       "</tr>\n",
       "<tr>\n",
       "  <th>Method:</th>             <td>css-mle</td>     <th>  S.D. of innovations</th>  <td>132.212</td> \n",
       "</tr>\n",
       "<tr>\n",
       "  <th>Date:</th>          <td>Tue, 03 Aug 2021</td> <th>  AIC                </th> <td>2575.460</td> \n",
       "</tr>\n",
       "<tr>\n",
       "  <th>Time:</th>              <td>20:07:16</td>     <th>  BIC                </th> <td>2601.966</td> \n",
       "</tr>\n",
       "<tr>\n",
       "  <th>Sample:</th>                <td>1</td>        <th>  HQIC               </th> <td>2586.183</td> \n",
       "</tr>\n",
       "<tr>\n",
       "  <th></th>                       <td> </td>        <th>                     </th>     <td> </td>    \n",
       "</tr>\n",
       "</table>\n",
       "<table class=\"simpletable\">\n",
       "<tr>\n",
       "      <td></td>         <th>coef</th>     <th>std err</th>      <th>z</th>      <th>P>|z|</th>  <th>[0.025</th>    <th>0.975]</th>  \n",
       "</tr>\n",
       "<tr>\n",
       "  <th>const</th>     <td>    7.4497</td> <td>   11.886</td> <td>    0.627</td> <td> 0.531</td> <td>  -15.846</td> <td>   30.746</td>\n",
       "</tr>\n",
       "<tr>\n",
       "  <th>ar.L1.D.y</th> <td>   -0.0459</td> <td>    0.069</td> <td>   -0.665</td> <td> 0.506</td> <td>   -0.181</td> <td>    0.089</td>\n",
       "</tr>\n",
       "<tr>\n",
       "  <th>ar.L2.D.y</th> <td>    0.1170</td> <td>    0.069</td> <td>    1.698</td> <td> 0.089</td> <td>   -0.018</td> <td>    0.252</td>\n",
       "</tr>\n",
       "<tr>\n",
       "  <th>ar.L3.D.y</th> <td>    0.0286</td> <td>    0.069</td> <td>    0.412</td> <td> 0.680</td> <td>   -0.107</td> <td>    0.164</td>\n",
       "</tr>\n",
       "<tr>\n",
       "  <th>ar.L4.D.y</th> <td>    0.0590</td> <td>    0.069</td> <td>    0.850</td> <td> 0.395</td> <td>   -0.077</td> <td>    0.195</td>\n",
       "</tr>\n",
       "<tr>\n",
       "  <th>ar.L5.D.y</th> <td>   -0.0998</td> <td>    0.069</td> <td>   -1.446</td> <td> 0.148</td> <td>   -0.235</td> <td>    0.035</td>\n",
       "</tr>\n",
       "<tr>\n",
       "  <th>ar.L6.D.y</th> <td>    0.1641</td> <td>    0.069</td> <td>    2.375</td> <td> 0.018</td> <td>    0.029</td> <td>    0.300</td>\n",
       "</tr>\n",
       "</table>\n",
       "<table class=\"simpletable\">\n",
       "<caption>Roots</caption>\n",
       "<tr>\n",
       "    <td></td>   <th>            Real</th>  <th>         Imaginary</th> <th>         Modulus</th>  <th>        Frequency</th>\n",
       "</tr>\n",
       "<tr>\n",
       "  <th>AR.1</th> <td>          -1.1914</td> <td>          -0.0000j</td> <td>           1.1914</td> <td>          -0.5000</td>\n",
       "</tr>\n",
       "<tr>\n",
       "  <th>AR.2</th> <td>          -0.6056</td> <td>          -1.1670j</td> <td>           1.3148</td> <td>          -0.3262</td>\n",
       "</tr>\n",
       "<tr>\n",
       "  <th>AR.3</th> <td>          -0.6056</td> <td>          +1.1670j</td> <td>           1.3148</td> <td>           0.3262</td>\n",
       "</tr>\n",
       "<tr>\n",
       "  <th>AR.4</th> <td>           1.3596</td> <td>          -0.0000j</td> <td>           1.3596</td> <td>          -0.0000</td>\n",
       "</tr>\n",
       "<tr>\n",
       "  <th>AR.5</th> <td>           0.8256</td> <td>          -1.2227j</td> <td>           1.4753</td> <td>          -0.1555</td>\n",
       "</tr>\n",
       "<tr>\n",
       "  <th>AR.6</th> <td>           0.8256</td> <td>          +1.2227j</td> <td>           1.4753</td> <td>           0.1555</td>\n",
       "</tr>\n",
       "</table>"
      ],
      "text/plain": [
       "<class 'statsmodels.iolib.summary.Summary'>\n",
       "\"\"\"\n",
       "                             ARIMA Model Results                              \n",
       "==============================================================================\n",
       "Dep. Variable:                    D.y   No. Observations:                  203\n",
       "Model:                 ARIMA(6, 1, 0)   Log Likelihood               -1279.730\n",
       "Method:                       css-mle   S.D. of innovations            132.212\n",
       "Date:                Tue, 03 Aug 2021   AIC                           2575.460\n",
       "Time:                        20:07:16   BIC                           2601.966\n",
       "Sample:                             1   HQIC                          2586.183\n",
       "                                                                              \n",
       "==============================================================================\n",
       "                 coef    std err          z      P>|z|      [0.025      0.975]\n",
       "------------------------------------------------------------------------------\n",
       "const          7.4497     11.886      0.627      0.531     -15.846      30.746\n",
       "ar.L1.D.y     -0.0459      0.069     -0.665      0.506      -0.181       0.089\n",
       "ar.L2.D.y      0.1170      0.069      1.698      0.089      -0.018       0.252\n",
       "ar.L3.D.y      0.0286      0.069      0.412      0.680      -0.107       0.164\n",
       "ar.L4.D.y      0.0590      0.069      0.850      0.395      -0.077       0.195\n",
       "ar.L5.D.y     -0.0998      0.069     -1.446      0.148      -0.235       0.035\n",
       "ar.L6.D.y      0.1641      0.069      2.375      0.018       0.029       0.300\n",
       "                                    Roots                                    \n",
       "=============================================================================\n",
       "                  Real          Imaginary           Modulus         Frequency\n",
       "-----------------------------------------------------------------------------\n",
       "AR.1           -1.1914           -0.0000j            1.1914           -0.5000\n",
       "AR.2           -0.6056           -1.1670j            1.3148           -0.3262\n",
       "AR.3           -0.6056           +1.1670j            1.3148            0.3262\n",
       "AR.4            1.3596           -0.0000j            1.3596           -0.0000\n",
       "AR.5            0.8256           -1.2227j            1.4753           -0.1555\n",
       "AR.6            0.8256           +1.2227j            1.4753            0.1555\n",
       "-----------------------------------------------------------------------------\n",
       "\"\"\""
      ]
     },
     "execution_count": 15,
     "metadata": {},
     "output_type": "execute_result"
    }
   ],
   "source": [
    "# print the model summary\n",
    "results2.summary()"
   ]
  },
  {
   "cell_type": "code",
   "execution_count": 16,
   "metadata": {},
   "outputs": [
    {
     "data": {
      "text/plain": [
       "<AxesSubplot:title={'center':'Futures Forecast'}>"
      ]
     },
     "execution_count": 16,
     "metadata": {},
     "output_type": "execute_result"
    },
    {
     "data": {
      "image/png": "[encoded data removed]",
      "text/plain": [
       "<Figure size 432x288 with 1 Axes>"
      ]
     },
     "metadata": {
      "needs_background": "light"
     },
     "output_type": "display_data"
    }
   ],
   "source": [
    "# Plot the Futures Price Forecast\n",
    "pd.DataFrame(results2.forecast(steps=10)[0]).plot(title=\"Futures Forecast\")"
   ]
  },
  {
   "cell_type": "code",
   "execution_count": 17,
   "metadata": {},
   "outputs": [],
   "source": [
    "# save model\n",
    "results2.save('eth_model2.pkl')"
   ]
  },
  {
   "cell_type": "code",
   "execution_count": null,
   "metadata": {},
   "outputs": [],
   "source": []
  }
 ],
 "metadata": {
  "kernelspec": {
   "display_name": "Python 3",
   "language": "python",
   "name": "python3"
  },
  "language_info": {
   "codemirror_mode": {
    "name": "ipython",
    "version": 3
   },
   "file_extension": ".py",
   "mimetype": "text/x-python",
   "name": "python",
   "nbconvert_exporter": "python",
   "pygments_lexer": "ipython3",
   "version": "3.8.5"
  }
 },
 "nbformat": 4,
 "nbformat_minor": 4
}
