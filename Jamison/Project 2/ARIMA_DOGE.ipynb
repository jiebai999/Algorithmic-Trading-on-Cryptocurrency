{
 "cells": [
  {
   "cell_type": "code",
   "execution_count": 1,
   "metadata": {},
   "outputs": [],
   "source": [
    "import pandas as pd\n",
    "%matplotlib inline\n",
    "\n",
    "import warnings\n",
    "warnings.filterwarnings('ignore', 'statsmodels.tsa.arima_model.ARMA',\n",
    "                        FutureWarning)\n",
    "warnings.filterwarnings('ignore', 'statsmodels.tsa.arima_model.ARIMA',\n",
    "                        FutureWarning)"
   ]
  },
  {
   "cell_type": "code",
   "execution_count": 2,
   "metadata": {},
   "outputs": [
    {
     "data": {
      "text/html": [
       "<div>\n",
       "<style scoped>\n",
       "    .dataframe tbody tr th:only-of-type {\n",
       "        vertical-align: middle;\n",
       "    }\n",
       "\n",
       "    .dataframe tbody tr th {\n",
       "        vertical-align: top;\n",
       "    }\n",
       "\n",
       "    .dataframe thead th {\n",
       "        text-align: right;\n",
       "    }\n",
       "</style>\n",
       "<table border=\"1\" class=\"dataframe\">\n",
       "  <thead>\n",
       "    <tr style=\"text-align: right;\">\n",
       "      <th></th>\n",
       "      <th>Currency</th>\n",
       "      <th>Closing Price (USD)</th>\n",
       "      <th>24h Open (USD)</th>\n",
       "      <th>24h High (USD)</th>\n",
       "      <th>24h Low (USD)</th>\n",
       "    </tr>\n",
       "    <tr>\n",
       "      <th>Date</th>\n",
       "      <th></th>\n",
       "      <th></th>\n",
       "      <th></th>\n",
       "      <th></th>\n",
       "      <th></th>\n",
       "    </tr>\n",
       "  </thead>\n",
       "  <tbody>\n",
       "    <tr>\n",
       "      <th>2021-07-19</th>\n",
       "      <td>DOGE</td>\n",
       "      <td>0.175495</td>\n",
       "      <td>0.181572</td>\n",
       "      <td>0.184161</td>\n",
       "      <td>0.170533</td>\n",
       "    </tr>\n",
       "    <tr>\n",
       "      <th>2021-07-20</th>\n",
       "      <td>DOGE</td>\n",
       "      <td>0.169323</td>\n",
       "      <td>0.173637</td>\n",
       "      <td>0.180560</td>\n",
       "      <td>0.160012</td>\n",
       "    </tr>\n",
       "    <tr>\n",
       "      <th>2021-07-21</th>\n",
       "      <td>DOGE</td>\n",
       "      <td>0.190550</td>\n",
       "      <td>0.170544</td>\n",
       "      <td>0.214442</td>\n",
       "      <td>0.168499</td>\n",
       "    </tr>\n",
       "    <tr>\n",
       "      <th>2021-07-22</th>\n",
       "      <td>DOGE</td>\n",
       "      <td>0.190272</td>\n",
       "      <td>0.190489</td>\n",
       "      <td>0.196412</td>\n",
       "      <td>0.186712</td>\n",
       "    </tr>\n",
       "    <tr>\n",
       "      <th>2021-07-23</th>\n",
       "      <td>DOGE</td>\n",
       "      <td>0.192075</td>\n",
       "      <td>0.191305</td>\n",
       "      <td>0.199786</td>\n",
       "      <td>0.183192</td>\n",
       "    </tr>\n",
       "  </tbody>\n",
       "</table>\n",
       "</div>"
      ],
      "text/plain": [
       "           Currency  Closing Price (USD)  24h Open (USD)  24h High (USD)  \\\n",
       "Date                                                                       \n",
       "2021-07-19     DOGE             0.175495        0.181572        0.184161   \n",
       "2021-07-20     DOGE             0.169323        0.173637        0.180560   \n",
       "2021-07-21     DOGE             0.190550        0.170544        0.214442   \n",
       "2021-07-22     DOGE             0.190272        0.190489        0.196412   \n",
       "2021-07-23     DOGE             0.192075        0.191305        0.199786   \n",
       "\n",
       "            24h Low (USD)  \n",
       "Date                       \n",
       "2021-07-19       0.170533  \n",
       "2021-07-20       0.160012  \n",
       "2021-07-21       0.168499  \n",
       "2021-07-22       0.186712  \n",
       "2021-07-23       0.183192  "
      ]
     },
     "execution_count": 2,
     "metadata": {},
     "output_type": "execute_result"
    }
   ],
   "source": [
    "from pathlib import Path\n",
    "csvpath = Path(\"../Project 2/Resources/DOGE_USD.csv\")\n",
    "df = pd.read_csv(csvpath, parse_dates=True, index_col='Date')\n",
    "df.tail()"
   ]
  },
  {
   "cell_type": "code",
   "execution_count": 3,
   "metadata": {},
   "outputs": [
    {
     "data": {
      "text/plain": [
       "<AxesSubplot:xlabel='Date'>"
      ]
     },
     "execution_count": 3,
     "metadata": {},
     "output_type": "execute_result"
    },
    {
     "data": {
      "image/png": "[encoded data removed]",
      "text/plain": [
       "<Figure size 432x288 with 1 Axes>"
      ]
     },
     "metadata": {
      "needs_background": "light"
     },
     "output_type": "display_data"
    }
   ],
   "source": [
    "df[\"Closing Price (USD)\"].plot()"
   ]
  },
  {
   "cell_type": "code",
   "execution_count": 4,
   "metadata": {},
   "outputs": [
    {
     "data": {
      "text/plain": [
       "<AxesSubplot:xlabel='Date'>"
      ]
     },
     "execution_count": 4,
     "metadata": {},
     "output_type": "execute_result"
    },
    {
     "data": {
      "image/png": "[encoded data removed]",
      "text/plain": [
       "<Figure size 432x288 with 1 Axes>"
      ]
     },
     "metadata": {
      "needs_background": "light"
     },
     "output_type": "display_data"
    }
   ],
   "source": [
    "# Differencing the Settle price stationarizes the time series\n",
    "df[\"Closing Price (USD)\"].diff().plot()"
   ]
  },
  {
   "cell_type": "markdown",
   "metadata": {},
   "source": [
    "# Autocorrelation and Partial Autocorrelation Analysis"
   ]
  },
  {
   "cell_type": "code",
   "execution_count": 5,
   "metadata": {},
   "outputs": [],
   "source": [
    "from statsmodels.graphics.tsaplots import plot_acf, plot_pacf"
   ]
  },
  {
   "cell_type": "code",
   "execution_count": 6,
   "metadata": {},
   "outputs": [
    {
     "data": {
      "image/png": "[encoded data removed]",
      "text/plain": [
       "<Figure size 432x288 with 1 Axes>"
      ]
     },
     "execution_count": 6,
     "metadata": {},
     "output_type": "execute_result"
    },
    {
     "data": {
      "image/png": "[encoded data removed]",
      "text/plain": [
       "<Figure size 432x288 with 1 Axes>"
      ]
     },
     "metadata": {
      "needs_background": "light"
     },
     "output_type": "display_data"
    }
   ],
   "source": [
    "# Plot the autocorrelation of the Settle Prices\n",
    "plot_acf(df[\"Closing Price (USD)\"], zero=False, lags=35)"
   ]
  },
  {
   "cell_type": "code",
   "execution_count": 7,
   "metadata": {},
   "outputs": [
    {
     "data": {
      "image/png": "[encoded data removed]",
      "text/plain": [
       "<Figure size 432x288 with 1 Axes>"
      ]
     },
     "execution_count": 7,
     "metadata": {},
     "output_type": "execute_result"
    },
    {
     "data": {
      "image/png": "[encoded data removed]",
      "text/plain": [
       "<Figure size 432x288 with 1 Axes>"
      ]
     },
     "metadata": {
      "needs_background": "light"
     },
     "output_type": "display_data"
    }
   ],
   "source": [
    "# Plot the partial autocorrelation of the returns\n",
    "plot_pacf(df[\"Closing Price (USD)\"], zero=False, lags=35)"
   ]
  },
  {
   "cell_type": "markdown",
   "metadata": {},
   "source": [
    "# ARIMA Model"
   ]
  },
  {
   "cell_type": "code",
   "execution_count": 8,
   "metadata": {},
   "outputs": [],
   "source": [
    "from statsmodels.tsa.arima_model import ARIMA"
   ]
  },
  {
   "cell_type": "code",
   "execution_count": 9,
   "metadata": {},
   "outputs": [
    {
     "name": "stderr",
     "output_type": "stream",
     "text": [
      "C:\\Users\\Jamison\\anaconda3\\lib\\site-packages\\statsmodels\\tsa\\arima_model.py:472: FutureWarning: \n",
      "statsmodels.tsa.arima_model.ARMA and statsmodels.tsa.arima_model.ARIMA have\n",
      "been deprecated in favor of statsmodels.tsa.arima.model.ARIMA (note the .\n",
      "between arima and model) and\n",
      "statsmodels.tsa.SARIMAX. These will be removed after the 0.12 release.\n",
      "\n",
      "statsmodels.tsa.arima.model.ARIMA makes use of the statespace framework and\n",
      "is both well tested and maintained.\n",
      "\n",
      "To silence this warning and continue using ARMA and ARIMA until they are\n",
      "removed, use:\n",
      "\n",
      "import warnings\n",
      "warnings.filterwarnings('ignore', 'statsmodels.tsa.arima_model.ARMA',\n",
      "                        FutureWarning)\n",
      "warnings.filterwarnings('ignore', 'statsmodels.tsa.arima_model.ARIMA',\n",
      "                        FutureWarning)\n",
      "\n",
      "  warnings.warn(ARIMA_DEPRECATION_WARN, FutureWarning)\n"
     ]
    }
   ],
   "source": [
    "# Create an ARIMA model\n",
    "model = ARIMA(df[\"Closing Price (USD)\"].values, order=(18, 1, 0))"
   ]
  },
  {
   "cell_type": "code",
   "execution_count": 10,
   "metadata": {},
   "outputs": [],
   "source": [
    "# Fit the model to the data\n",
    "results = model.fit()"
   ]
  },
  {
   "cell_type": "code",
   "execution_count": 11,
   "metadata": {},
   "outputs": [
    {
     "data": {
      "text/html": [
       "<table class=\"simpletable\">\n",
       "<caption>ARIMA Model Results</caption>\n",
       "<tr>\n",
       "  <th>Dep. Variable:</th>        <td>D.y</td>       <th>  No. Observations:  </th>    <td>203</td>  \n",
       "</tr>\n",
       "<tr>\n",
       "  <th>Model:</th>          <td>ARIMA(18, 1, 0)</td> <th>  Log Likelihood     </th>  <td>428.646</td>\n",
       "</tr>\n",
       "<tr>\n",
       "  <th>Method:</th>             <td>css-mle</td>     <th>  S.D. of innovations</th>   <td>0.029</td> \n",
       "</tr>\n",
       "<tr>\n",
       "  <th>Date:</th>          <td>Tue, 03 Aug 2021</td> <th>  AIC                </th> <td>-817.291</td>\n",
       "</tr>\n",
       "<tr>\n",
       "  <th>Time:</th>              <td>19:39:14</td>     <th>  BIC                </th> <td>-751.027</td>\n",
       "</tr>\n",
       "<tr>\n",
       "  <th>Sample:</th>                <td>1</td>        <th>  HQIC               </th> <td>-790.484</td>\n",
       "</tr>\n",
       "<tr>\n",
       "  <th></th>                       <td> </td>        <th>                     </th>     <td> </td>   \n",
       "</tr>\n",
       "</table>\n",
       "<table class=\"simpletable\">\n",
       "<tr>\n",
       "       <td></td>         <th>coef</th>     <th>std err</th>      <th>z</th>      <th>P>|z|</th>  <th>[0.025</th>    <th>0.975]</th>  \n",
       "</tr>\n",
       "<tr>\n",
       "  <th>const</th>      <td>    0.0009</td> <td>    0.002</td> <td>    0.432</td> <td> 0.666</td> <td>   -0.003</td> <td>    0.005</td>\n",
       "</tr>\n",
       "<tr>\n",
       "  <th>ar.L1.D.y</th>  <td>   -0.0988</td> <td>    0.069</td> <td>   -1.424</td> <td> 0.154</td> <td>   -0.235</td> <td>    0.037</td>\n",
       "</tr>\n",
       "<tr>\n",
       "  <th>ar.L2.D.y</th>  <td>    0.1461</td> <td>    0.070</td> <td>    2.103</td> <td> 0.036</td> <td>    0.010</td> <td>    0.282</td>\n",
       "</tr>\n",
       "<tr>\n",
       "  <th>ar.L3.D.y</th>  <td>    0.2304</td> <td>    0.070</td> <td>    3.275</td> <td> 0.001</td> <td>    0.093</td> <td>    0.368</td>\n",
       "</tr>\n",
       "<tr>\n",
       "  <th>ar.L4.D.y</th>  <td>    0.0083</td> <td>    0.072</td> <td>    0.116</td> <td> 0.907</td> <td>   -0.132</td> <td>    0.149</td>\n",
       "</tr>\n",
       "<tr>\n",
       "  <th>ar.L5.D.y</th>  <td>   -0.2683</td> <td>    0.071</td> <td>   -3.769</td> <td> 0.000</td> <td>   -0.408</td> <td>   -0.129</td>\n",
       "</tr>\n",
       "<tr>\n",
       "  <th>ar.L6.D.y</th>  <td>   -0.1527</td> <td>    0.074</td> <td>   -2.065</td> <td> 0.039</td> <td>   -0.298</td> <td>   -0.008</td>\n",
       "</tr>\n",
       "<tr>\n",
       "  <th>ar.L7.D.y</th>  <td>    0.0588</td> <td>    0.074</td> <td>    0.799</td> <td> 0.425</td> <td>   -0.085</td> <td>    0.203</td>\n",
       "</tr>\n",
       "<tr>\n",
       "  <th>ar.L8.D.y</th>  <td>   -0.0096</td> <td>    0.073</td> <td>   -0.131</td> <td> 0.896</td> <td>   -0.153</td> <td>    0.134</td>\n",
       "</tr>\n",
       "<tr>\n",
       "  <th>ar.L9.D.y</th>  <td>    0.0817</td> <td>    0.073</td> <td>    1.121</td> <td> 0.262</td> <td>   -0.061</td> <td>    0.225</td>\n",
       "</tr>\n",
       "<tr>\n",
       "  <th>ar.L10.D.y</th> <td>    0.0399</td> <td>    0.073</td> <td>    0.547</td> <td> 0.585</td> <td>   -0.103</td> <td>    0.183</td>\n",
       "</tr>\n",
       "<tr>\n",
       "  <th>ar.L11.D.y</th> <td>   -0.0045</td> <td>    0.073</td> <td>   -0.062</td> <td> 0.951</td> <td>   -0.147</td> <td>    0.138</td>\n",
       "</tr>\n",
       "<tr>\n",
       "  <th>ar.L12.D.y</th> <td>   -0.1537</td> <td>    0.073</td> <td>   -2.117</td> <td> 0.034</td> <td>   -0.296</td> <td>   -0.011</td>\n",
       "</tr>\n",
       "<tr>\n",
       "  <th>ar.L13.D.y</th> <td>    0.0258</td> <td>    0.073</td> <td>    0.356</td> <td> 0.722</td> <td>   -0.116</td> <td>    0.168</td>\n",
       "</tr>\n",
       "<tr>\n",
       "  <th>ar.L14.D.y</th> <td>   -0.0925</td> <td>    0.070</td> <td>   -1.323</td> <td> 0.186</td> <td>   -0.229</td> <td>    0.045</td>\n",
       "</tr>\n",
       "<tr>\n",
       "  <th>ar.L15.D.y</th> <td>    0.0678</td> <td>    0.070</td> <td>    0.968</td> <td> 0.333</td> <td>   -0.070</td> <td>    0.205</td>\n",
       "</tr>\n",
       "<tr>\n",
       "  <th>ar.L16.D.y</th> <td>    0.0036</td> <td>    0.068</td> <td>    0.053</td> <td> 0.958</td> <td>   -0.131</td> <td>    0.138</td>\n",
       "</tr>\n",
       "<tr>\n",
       "  <th>ar.L17.D.y</th> <td>    0.0306</td> <td>    0.068</td> <td>    0.453</td> <td> 0.650</td> <td>   -0.102</td> <td>    0.163</td>\n",
       "</tr>\n",
       "<tr>\n",
       "  <th>ar.L18.D.y</th> <td>    0.1224</td> <td>    0.067</td> <td>    1.824</td> <td> 0.068</td> <td>   -0.009</td> <td>    0.254</td>\n",
       "</tr>\n",
       "</table>\n",
       "<table class=\"simpletable\">\n",
       "<caption>Roots</caption>\n",
       "<tr>\n",
       "    <td></td>    <th>            Real</th>  <th>         Imaginary</th> <th>         Modulus</th>  <th>        Frequency</th>\n",
       "</tr>\n",
       "<tr>\n",
       "  <th>AR.1</th>  <td>           1.1395</td> <td>          -0.0000j</td> <td>           1.1395</td> <td>          -0.0000</td>\n",
       "</tr>\n",
       "<tr>\n",
       "  <th>AR.2</th>  <td>           1.0229</td> <td>          -0.3657j</td> <td>           1.0863</td> <td>          -0.0547</td>\n",
       "</tr>\n",
       "<tr>\n",
       "  <th>AR.3</th>  <td>           1.0229</td> <td>          +0.3657j</td> <td>           1.0863</td> <td>           0.0547</td>\n",
       "</tr>\n",
       "<tr>\n",
       "  <th>AR.4</th>  <td>           0.8236</td> <td>          -0.6671j</td> <td>           1.0598</td> <td>          -0.1084</td>\n",
       "</tr>\n",
       "<tr>\n",
       "  <th>AR.5</th>  <td>           0.8236</td> <td>          +0.6671j</td> <td>           1.0598</td> <td>           0.1084</td>\n",
       "</tr>\n",
       "<tr>\n",
       "  <th>AR.6</th>  <td>           0.5839</td> <td>          -1.0702j</td> <td>           1.2191</td> <td>          -0.1705</td>\n",
       "</tr>\n",
       "<tr>\n",
       "  <th>AR.7</th>  <td>           0.5839</td> <td>          +1.0702j</td> <td>           1.2191</td> <td>           0.1705</td>\n",
       "</tr>\n",
       "<tr>\n",
       "  <th>AR.8</th>  <td>           0.1777</td> <td>          -1.1466j</td> <td>           1.1603</td> <td>          -0.2255</td>\n",
       "</tr>\n",
       "<tr>\n",
       "  <th>AR.9</th>  <td>           0.1777</td> <td>          +1.1466j</td> <td>           1.1603</td> <td>           0.2255</td>\n",
       "</tr>\n",
       "<tr>\n",
       "  <th>AR.10</th> <td>          -0.2578</td> <td>          -1.0754j</td> <td>           1.1059</td> <td>          -0.2874</td>\n",
       "</tr>\n",
       "<tr>\n",
       "  <th>AR.11</th> <td>          -0.2578</td> <td>          +1.0754j</td> <td>           1.1059</td> <td>           0.2874</td>\n",
       "</tr>\n",
       "<tr>\n",
       "  <th>AR.12</th> <td>          -0.5084</td> <td>          -0.9858j</td> <td>           1.1091</td> <td>          -0.3258</td>\n",
       "</tr>\n",
       "<tr>\n",
       "  <th>AR.13</th> <td>          -0.5084</td> <td>          +0.9858j</td> <td>           1.1091</td> <td>           0.3258</td>\n",
       "</tr>\n",
       "<tr>\n",
       "  <th>AR.14</th> <td>          -0.8428</td> <td>          -0.6859j</td> <td>           1.0867</td> <td>          -0.3913</td>\n",
       "</tr>\n",
       "<tr>\n",
       "  <th>AR.15</th> <td>          -0.8428</td> <td>          +0.6859j</td> <td>           1.0867</td> <td>           0.3913</td>\n",
       "</tr>\n",
       "<tr>\n",
       "  <th>AR.16</th> <td>          -1.0281</td> <td>          -0.2927j</td> <td>           1.0690</td> <td>          -0.4559</td>\n",
       "</tr>\n",
       "<tr>\n",
       "  <th>AR.17</th> <td>          -1.0281</td> <td>          +0.2927j</td> <td>           1.0690</td> <td>           0.4559</td>\n",
       "</tr>\n",
       "<tr>\n",
       "  <th>AR.18</th> <td>          -1.3315</td> <td>          -0.0000j</td> <td>           1.3315</td> <td>          -0.5000</td>\n",
       "</tr>\n",
       "</table>"
      ],
      "text/plain": [
       "<class 'statsmodels.iolib.summary.Summary'>\n",
       "\"\"\"\n",
       "                             ARIMA Model Results                              \n",
       "==============================================================================\n",
       "Dep. Variable:                    D.y   No. Observations:                  203\n",
       "Model:                ARIMA(18, 1, 0)   Log Likelihood                 428.646\n",
       "Method:                       css-mle   S.D. of innovations              0.029\n",
       "Date:                Tue, 03 Aug 2021   AIC                           -817.291\n",
       "Time:                        19:39:14   BIC                           -751.027\n",
       "Sample:                             1   HQIC                          -790.484\n",
       "                                                                              \n",
       "==============================================================================\n",
       "                 coef    std err          z      P>|z|      [0.025      0.975]\n",
       "------------------------------------------------------------------------------\n",
       "const          0.0009      0.002      0.432      0.666      -0.003       0.005\n",
       "ar.L1.D.y     -0.0988      0.069     -1.424      0.154      -0.235       0.037\n",
       "ar.L2.D.y      0.1461      0.070      2.103      0.036       0.010       0.282\n",
       "ar.L3.D.y      0.2304      0.070      3.275      0.001       0.093       0.368\n",
       "ar.L4.D.y      0.0083      0.072      0.116      0.907      -0.132       0.149\n",
       "ar.L5.D.y     -0.2683      0.071     -3.769      0.000      -0.408      -0.129\n",
       "ar.L6.D.y     -0.1527      0.074     -2.065      0.039      -0.298      -0.008\n",
       "ar.L7.D.y      0.0588      0.074      0.799      0.425      -0.085       0.203\n",
       "ar.L8.D.y     -0.0096      0.073     -0.131      0.896      -0.153       0.134\n",
       "ar.L9.D.y      0.0817      0.073      1.121      0.262      -0.061       0.225\n",
       "ar.L10.D.y     0.0399      0.073      0.547      0.585      -0.103       0.183\n",
       "ar.L11.D.y    -0.0045      0.073     -0.062      0.951      -0.147       0.138\n",
       "ar.L12.D.y    -0.1537      0.073     -2.117      0.034      -0.296      -0.011\n",
       "ar.L13.D.y     0.0258      0.073      0.356      0.722      -0.116       0.168\n",
       "ar.L14.D.y    -0.0925      0.070     -1.323      0.186      -0.229       0.045\n",
       "ar.L15.D.y     0.0678      0.070      0.968      0.333      -0.070       0.205\n",
       "ar.L16.D.y     0.0036      0.068      0.053      0.958      -0.131       0.138\n",
       "ar.L17.D.y     0.0306      0.068      0.453      0.650      -0.102       0.163\n",
       "ar.L18.D.y     0.1224      0.067      1.824      0.068      -0.009       0.254\n",
       "                                    Roots                                     \n",
       "==============================================================================\n",
       "                   Real          Imaginary           Modulus         Frequency\n",
       "------------------------------------------------------------------------------\n",
       "AR.1             1.1395           -0.0000j            1.1395           -0.0000\n",
       "AR.2             1.0229           -0.3657j            1.0863           -0.0547\n",
       "AR.3             1.0229           +0.3657j            1.0863            0.0547\n",
       "AR.4             0.8236           -0.6671j            1.0598           -0.1084\n",
       "AR.5             0.8236           +0.6671j            1.0598            0.1084\n",
       "AR.6             0.5839           -1.0702j            1.2191           -0.1705\n",
       "AR.7             0.5839           +1.0702j            1.2191            0.1705\n",
       "AR.8             0.1777           -1.1466j            1.1603           -0.2255\n",
       "AR.9             0.1777           +1.1466j            1.1603            0.2255\n",
       "AR.10           -0.2578           -1.0754j            1.1059           -0.2874\n",
       "AR.11           -0.2578           +1.0754j            1.1059            0.2874\n",
       "AR.12           -0.5084           -0.9858j            1.1091           -0.3258\n",
       "AR.13           -0.5084           +0.9858j            1.1091            0.3258\n",
       "AR.14           -0.8428           -0.6859j            1.0867           -0.3913\n",
       "AR.15           -0.8428           +0.6859j            1.0867            0.3913\n",
       "AR.16           -1.0281           -0.2927j            1.0690           -0.4559\n",
       "AR.17           -1.0281           +0.2927j            1.0690            0.4559\n",
       "AR.18           -1.3315           -0.0000j            1.3315           -0.5000\n",
       "------------------------------------------------------------------------------\n",
       "\"\"\""
      ]
     },
     "execution_count": 11,
     "metadata": {},
     "output_type": "execute_result"
    }
   ],
   "source": [
    "# Print the model summary\n",
    "results.summary()"
   ]
  },
  {
   "cell_type": "code",
   "execution_count": 12,
   "metadata": {},
   "outputs": [
    {
     "data": {
      "text/plain": [
       "<AxesSubplot:title={'center':'Futures Forecast'}>"
      ]
     },
     "execution_count": 12,
     "metadata": {},
     "output_type": "execute_result"
    },
    {
     "data": {
      "image/png": "[encoded data removed]",
      "text/plain": [
       "<Figure size 432x288 with 1 Axes>"
      ]
     },
     "metadata": {
      "needs_background": "light"
     },
     "output_type": "display_data"
    }
   ],
   "source": [
    "# Plot the Futures Price Forecast\n",
    "pd.DataFrame(results.forecast(steps=10)[0]).plot(title=\"Futures Forecast\")"
   ]
  },
  {
   "cell_type": "code",
   "execution_count": 13,
   "metadata": {},
   "outputs": [],
   "source": [
    "# save model\n",
    "results.save('doge_model1.pkl')"
   ]
  },
  {
   "cell_type": "markdown",
   "metadata": {},
   "source": [
    "# ARIMA Model using a Lag of 2"
   ]
  },
  {
   "cell_type": "code",
   "execution_count": 14,
   "metadata": {},
   "outputs": [
    {
     "name": "stderr",
     "output_type": "stream",
     "text": [
      "C:\\Users\\Jamison\\anaconda3\\lib\\site-packages\\statsmodels\\tsa\\arima_model.py:472: FutureWarning: \n",
      "statsmodels.tsa.arima_model.ARMA and statsmodels.tsa.arima_model.ARIMA have\n",
      "been deprecated in favor of statsmodels.tsa.arima.model.ARIMA (note the .\n",
      "between arima and model) and\n",
      "statsmodels.tsa.SARIMAX. These will be removed after the 0.12 release.\n",
      "\n",
      "statsmodels.tsa.arima.model.ARIMA makes use of the statespace framework and\n",
      "is both well tested and maintained.\n",
      "\n",
      "To silence this warning and continue using ARMA and ARIMA until they are\n",
      "removed, use:\n",
      "\n",
      "import warnings\n",
      "warnings.filterwarnings('ignore', 'statsmodels.tsa.arima_model.ARMA',\n",
      "                        FutureWarning)\n",
      "warnings.filterwarnings('ignore', 'statsmodels.tsa.arima_model.ARIMA',\n",
      "                        FutureWarning)\n",
      "\n",
      "  warnings.warn(ARIMA_DEPRECATION_WARN, FutureWarning)\n"
     ]
    }
   ],
   "source": [
    "# Create an ARIMA Model and fit it to the data\n",
    "model2 = ARIMA(df[\"Closing Price (USD)\"].values, order=(20, 1, 0))\n",
    "results2 = model2.fit()"
   ]
  },
  {
   "cell_type": "code",
   "execution_count": 15,
   "metadata": {},
   "outputs": [
    {
     "data": {
      "text/html": [
       "<table class=\"simpletable\">\n",
       "<caption>ARIMA Model Results</caption>\n",
       "<tr>\n",
       "  <th>Dep. Variable:</th>        <td>D.y</td>       <th>  No. Observations:  </th>    <td>203</td>  \n",
       "</tr>\n",
       "<tr>\n",
       "  <th>Model:</th>          <td>ARIMA(20, 1, 0)</td> <th>  Log Likelihood     </th>  <td>432.157</td>\n",
       "</tr>\n",
       "<tr>\n",
       "  <th>Method:</th>             <td>css-mle</td>     <th>  S.D. of innovations</th>   <td>0.029</td> \n",
       "</tr>\n",
       "<tr>\n",
       "  <th>Date:</th>          <td>Tue, 03 Aug 2021</td> <th>  AIC                </th> <td>-820.314</td>\n",
       "</tr>\n",
       "<tr>\n",
       "  <th>Time:</th>              <td>19:51:10</td>     <th>  BIC                </th> <td>-747.424</td>\n",
       "</tr>\n",
       "<tr>\n",
       "  <th>Sample:</th>                <td>1</td>        <th>  HQIC               </th> <td>-790.826</td>\n",
       "</tr>\n",
       "<tr>\n",
       "  <th></th>                       <td> </td>        <th>                     </th>     <td> </td>   \n",
       "</tr>\n",
       "</table>\n",
       "<table class=\"simpletable\">\n",
       "<tr>\n",
       "       <td></td>         <th>coef</th>     <th>std err</th>      <th>z</th>      <th>P>|z|</th>  <th>[0.025</th>    <th>0.975]</th>  \n",
       "</tr>\n",
       "<tr>\n",
       "  <th>const</th>      <td>    0.0009</td> <td>    0.002</td> <td>    0.406</td> <td> 0.685</td> <td>   -0.003</td> <td>    0.005</td>\n",
       "</tr>\n",
       "<tr>\n",
       "  <th>ar.L1.D.y</th>  <td>   -0.1021</td> <td>    0.070</td> <td>   -1.468</td> <td> 0.142</td> <td>   -0.238</td> <td>    0.034</td>\n",
       "</tr>\n",
       "<tr>\n",
       "  <th>ar.L2.D.y</th>  <td>    0.1571</td> <td>    0.069</td> <td>    2.277</td> <td> 0.023</td> <td>    0.022</td> <td>    0.292</td>\n",
       "</tr>\n",
       "<tr>\n",
       "  <th>ar.L3.D.y</th>  <td>    0.2308</td> <td>    0.069</td> <td>    3.347</td> <td> 0.001</td> <td>    0.096</td> <td>    0.366</td>\n",
       "</tr>\n",
       "<tr>\n",
       "  <th>ar.L4.D.y</th>  <td>   -0.0065</td> <td>    0.071</td> <td>   -0.093</td> <td> 0.926</td> <td>   -0.145</td> <td>    0.132</td>\n",
       "</tr>\n",
       "<tr>\n",
       "  <th>ar.L5.D.y</th>  <td>   -0.2455</td> <td>    0.070</td> <td>   -3.490</td> <td> 0.000</td> <td>   -0.383</td> <td>   -0.108</td>\n",
       "</tr>\n",
       "<tr>\n",
       "  <th>ar.L6.D.y</th>  <td>   -0.1630</td> <td>    0.073</td> <td>   -2.244</td> <td> 0.025</td> <td>   -0.305</td> <td>   -0.021</td>\n",
       "</tr>\n",
       "<tr>\n",
       "  <th>ar.L7.D.y</th>  <td>    0.0899</td> <td>    0.073</td> <td>    1.230</td> <td> 0.219</td> <td>   -0.053</td> <td>    0.233</td>\n",
       "</tr>\n",
       "<tr>\n",
       "  <th>ar.L8.D.y</th>  <td>   -0.0276</td> <td>    0.073</td> <td>   -0.378</td> <td> 0.706</td> <td>   -0.171</td> <td>    0.116</td>\n",
       "</tr>\n",
       "<tr>\n",
       "  <th>ar.L9.D.y</th>  <td>    0.0751</td> <td>    0.071</td> <td>    1.052</td> <td> 0.293</td> <td>   -0.065</td> <td>    0.215</td>\n",
       "</tr>\n",
       "<tr>\n",
       "  <th>ar.L10.D.y</th> <td>    0.0297</td> <td>    0.072</td> <td>    0.411</td> <td> 0.681</td> <td>   -0.112</td> <td>    0.171</td>\n",
       "</tr>\n",
       "<tr>\n",
       "  <th>ar.L11.D.y</th> <td>    0.0060</td> <td>    0.072</td> <td>    0.084</td> <td> 0.933</td> <td>   -0.135</td> <td>    0.147</td>\n",
       "</tr>\n",
       "<tr>\n",
       "  <th>ar.L12.D.y</th> <td>   -0.1638</td> <td>    0.071</td> <td>   -2.301</td> <td> 0.021</td> <td>   -0.303</td> <td>   -0.024</td>\n",
       "</tr>\n",
       "<tr>\n",
       "  <th>ar.L13.D.y</th> <td>    0.0581</td> <td>    0.072</td> <td>    0.805</td> <td> 0.421</td> <td>   -0.083</td> <td>    0.200</td>\n",
       "</tr>\n",
       "<tr>\n",
       "  <th>ar.L14.D.y</th> <td>   -0.0683</td> <td>    0.072</td> <td>   -0.950</td> <td> 0.342</td> <td>   -0.209</td> <td>    0.073</td>\n",
       "</tr>\n",
       "<tr>\n",
       "  <th>ar.L15.D.y</th> <td>    0.0397</td> <td>    0.071</td> <td>    0.560</td> <td> 0.576</td> <td>   -0.099</td> <td>    0.179</td>\n",
       "</tr>\n",
       "<tr>\n",
       "  <th>ar.L16.D.y</th> <td>   -0.0312</td> <td>    0.069</td> <td>   -0.453</td> <td> 0.651</td> <td>   -0.166</td> <td>    0.104</td>\n",
       "</tr>\n",
       "<tr>\n",
       "  <th>ar.L17.D.y</th> <td>    0.0331</td> <td>    0.069</td> <td>    0.481</td> <td> 0.631</td> <td>   -0.102</td> <td>    0.168</td>\n",
       "</tr>\n",
       "<tr>\n",
       "  <th>ar.L18.D.y</th> <td>    0.1514</td> <td>    0.067</td> <td>    2.267</td> <td> 0.023</td> <td>    0.020</td> <td>    0.282</td>\n",
       "</tr>\n",
       "<tr>\n",
       "  <th>ar.L19.D.y</th> <td>    0.1340</td> <td>    0.067</td> <td>    2.007</td> <td> 0.045</td> <td>    0.003</td> <td>    0.265</td>\n",
       "</tr>\n",
       "<tr>\n",
       "  <th>ar.L20.D.y</th> <td>   -0.1020</td> <td>    0.067</td> <td>   -1.522</td> <td> 0.128</td> <td>   -0.233</td> <td>    0.029</td>\n",
       "</tr>\n",
       "</table>\n",
       "<table class=\"simpletable\">\n",
       "<caption>Roots</caption>\n",
       "<tr>\n",
       "    <td></td>    <th>            Real</th>  <th>         Imaginary</th> <th>         Modulus</th>  <th>        Frequency</th>\n",
       "</tr>\n",
       "<tr>\n",
       "  <th>AR.1</th>  <td>          -1.0363</td> <td>          -0.2335j</td> <td>           1.0623</td> <td>          -0.4647</td>\n",
       "</tr>\n",
       "<tr>\n",
       "  <th>AR.2</th>  <td>          -1.0363</td> <td>          +0.2335j</td> <td>           1.0623</td> <td>           0.4647</td>\n",
       "</tr>\n",
       "<tr>\n",
       "  <th>AR.3</th>  <td>          -1.0348</td> <td>          -0.4995j</td> <td>           1.1491</td> <td>          -0.4284</td>\n",
       "</tr>\n",
       "<tr>\n",
       "  <th>AR.4</th>  <td>          -1.0348</td> <td>          +0.4995j</td> <td>           1.1491</td> <td>           0.4284</td>\n",
       "</tr>\n",
       "<tr>\n",
       "  <th>AR.5</th>  <td>          -0.7922</td> <td>          -0.7368j</td> <td>           1.0819</td> <td>          -0.3808</td>\n",
       "</tr>\n",
       "<tr>\n",
       "  <th>AR.6</th>  <td>          -0.7922</td> <td>          +0.7368j</td> <td>           1.0819</td> <td>           0.3808</td>\n",
       "</tr>\n",
       "<tr>\n",
       "  <th>AR.7</th>  <td>          -0.4560</td> <td>          -0.9566j</td> <td>           1.0597</td> <td>          -0.3208</td>\n",
       "</tr>\n",
       "<tr>\n",
       "  <th>AR.8</th>  <td>          -0.4560</td> <td>          +0.9566j</td> <td>           1.0597</td> <td>           0.3208</td>\n",
       "</tr>\n",
       "<tr>\n",
       "  <th>AR.9</th>  <td>          -0.2083</td> <td>          -1.0447j</td> <td>           1.0652</td> <td>          -0.2813</td>\n",
       "</tr>\n",
       "<tr>\n",
       "  <th>AR.10</th> <td>          -0.2083</td> <td>          +1.0447j</td> <td>           1.0652</td> <td>           0.2813</td>\n",
       "</tr>\n",
       "<tr>\n",
       "  <th>AR.11</th> <td>           0.1850</td> <td>          -1.0702j</td> <td>           1.0860</td> <td>          -0.2228</td>\n",
       "</tr>\n",
       "<tr>\n",
       "  <th>AR.12</th> <td>           0.1850</td> <td>          +1.0702j</td> <td>           1.0860</td> <td>           0.2228</td>\n",
       "</tr>\n",
       "<tr>\n",
       "  <th>AR.13</th> <td>           0.5781</td> <td>          -0.9701j</td> <td>           1.1293</td> <td>          -0.1645</td>\n",
       "</tr>\n",
       "<tr>\n",
       "  <th>AR.14</th> <td>           0.5781</td> <td>          +0.9701j</td> <td>           1.1293</td> <td>           0.1645</td>\n",
       "</tr>\n",
       "<tr>\n",
       "  <th>AR.15</th> <td>           0.8157</td> <td>          -0.6562j</td> <td>           1.0469</td> <td>          -0.1078</td>\n",
       "</tr>\n",
       "<tr>\n",
       "  <th>AR.16</th> <td>           0.8157</td> <td>          +0.6562j</td> <td>           1.0469</td> <td>           0.1078</td>\n",
       "</tr>\n",
       "<tr>\n",
       "  <th>AR.17</th> <td>           1.0081</td> <td>          -0.3664j</td> <td>           1.0726</td> <td>          -0.0555</td>\n",
       "</tr>\n",
       "<tr>\n",
       "  <th>AR.18</th> <td>           1.0081</td> <td>          +0.3664j</td> <td>           1.0726</td> <td>           0.0555</td>\n",
       "</tr>\n",
       "<tr>\n",
       "  <th>AR.19</th> <td>           1.1221</td> <td>          -0.0000j</td> <td>           1.1221</td> <td>          -0.0000</td>\n",
       "</tr>\n",
       "<tr>\n",
       "  <th>AR.20</th> <td>           2.0720</td> <td>          -0.0000j</td> <td>           2.0720</td> <td>          -0.0000</td>\n",
       "</tr>\n",
       "</table>"
      ],
      "text/plain": [
       "<class 'statsmodels.iolib.summary.Summary'>\n",
       "\"\"\"\n",
       "                             ARIMA Model Results                              \n",
       "==============================================================================\n",
       "Dep. Variable:                    D.y   No. Observations:                  203\n",
       "Model:                ARIMA(20, 1, 0)   Log Likelihood                 432.157\n",
       "Method:                       css-mle   S.D. of innovations              0.029\n",
       "Date:                Tue, 03 Aug 2021   AIC                           -820.314\n",
       "Time:                        19:51:10   BIC                           -747.424\n",
       "Sample:                             1   HQIC                          -790.826\n",
       "                                                                              \n",
       "==============================================================================\n",
       "                 coef    std err          z      P>|z|      [0.025      0.975]\n",
       "------------------------------------------------------------------------------\n",
       "const          0.0009      0.002      0.406      0.685      -0.003       0.005\n",
       "ar.L1.D.y     -0.1021      0.070     -1.468      0.142      -0.238       0.034\n",
       "ar.L2.D.y      0.1571      0.069      2.277      0.023       0.022       0.292\n",
       "ar.L3.D.y      0.2308      0.069      3.347      0.001       0.096       0.366\n",
       "ar.L4.D.y     -0.0065      0.071     -0.093      0.926      -0.145       0.132\n",
       "ar.L5.D.y     -0.2455      0.070     -3.490      0.000      -0.383      -0.108\n",
       "ar.L6.D.y     -0.1630      0.073     -2.244      0.025      -0.305      -0.021\n",
       "ar.L7.D.y      0.0899      0.073      1.230      0.219      -0.053       0.233\n",
       "ar.L8.D.y     -0.0276      0.073     -0.378      0.706      -0.171       0.116\n",
       "ar.L9.D.y      0.0751      0.071      1.052      0.293      -0.065       0.215\n",
       "ar.L10.D.y     0.0297      0.072      0.411      0.681      -0.112       0.171\n",
       "ar.L11.D.y     0.0060      0.072      0.084      0.933      -0.135       0.147\n",
       "ar.L12.D.y    -0.1638      0.071     -2.301      0.021      -0.303      -0.024\n",
       "ar.L13.D.y     0.0581      0.072      0.805      0.421      -0.083       0.200\n",
       "ar.L14.D.y    -0.0683      0.072     -0.950      0.342      -0.209       0.073\n",
       "ar.L15.D.y     0.0397      0.071      0.560      0.576      -0.099       0.179\n",
       "ar.L16.D.y    -0.0312      0.069     -0.453      0.651      -0.166       0.104\n",
       "ar.L17.D.y     0.0331      0.069      0.481      0.631      -0.102       0.168\n",
       "ar.L18.D.y     0.1514      0.067      2.267      0.023       0.020       0.282\n",
       "ar.L19.D.y     0.1340      0.067      2.007      0.045       0.003       0.265\n",
       "ar.L20.D.y    -0.1020      0.067     -1.522      0.128      -0.233       0.029\n",
       "                                    Roots                                     \n",
       "==============================================================================\n",
       "                   Real          Imaginary           Modulus         Frequency\n",
       "------------------------------------------------------------------------------\n",
       "AR.1            -1.0363           -0.2335j            1.0623           -0.4647\n",
       "AR.2            -1.0363           +0.2335j            1.0623            0.4647\n",
       "AR.3            -1.0348           -0.4995j            1.1491           -0.4284\n",
       "AR.4            -1.0348           +0.4995j            1.1491            0.4284\n",
       "AR.5            -0.7922           -0.7368j            1.0819           -0.3808\n",
       "AR.6            -0.7922           +0.7368j            1.0819            0.3808\n",
       "AR.7            -0.4560           -0.9566j            1.0597           -0.3208\n",
       "AR.8            -0.4560           +0.9566j            1.0597            0.3208\n",
       "AR.9            -0.2083           -1.0447j            1.0652           -0.2813\n",
       "AR.10           -0.2083           +1.0447j            1.0652            0.2813\n",
       "AR.11            0.1850           -1.0702j            1.0860           -0.2228\n",
       "AR.12            0.1850           +1.0702j            1.0860            0.2228\n",
       "AR.13            0.5781           -0.9701j            1.1293           -0.1645\n",
       "AR.14            0.5781           +0.9701j            1.1293            0.1645\n",
       "AR.15            0.8157           -0.6562j            1.0469           -0.1078\n",
       "AR.16            0.8157           +0.6562j            1.0469            0.1078\n",
       "AR.17            1.0081           -0.3664j            1.0726           -0.0555\n",
       "AR.18            1.0081           +0.3664j            1.0726            0.0555\n",
       "AR.19            1.1221           -0.0000j            1.1221           -0.0000\n",
       "AR.20            2.0720           -0.0000j            2.0720           -0.0000\n",
       "------------------------------------------------------------------------------\n",
       "\"\"\""
      ]
     },
     "execution_count": 15,
     "metadata": {},
     "output_type": "execute_result"
    }
   ],
   "source": [
    "# print the model summary\n",
    "results2.summary()"
   ]
  },
  {
   "cell_type": "code",
   "execution_count": 16,
   "metadata": {},
   "outputs": [
    {
     "data": {
      "text/plain": [
       "<AxesSubplot:title={'center':'Futures Forecast'}>"
      ]
     },
     "execution_count": 16,
     "metadata": {},
     "output_type": "execute_result"
    },
    {
     "data": {
      "image/png": "[encoded data removed]",
      "text/plain": [
       "<Figure size 432x288 with 1 Axes>"
      ]
     },
     "metadata": {
      "needs_background": "light"
     },
     "output_type": "display_data"
    }
   ],
   "source": [
    "# Plot the Futures Price Forecast\n",
    "pd.DataFrame(results2.forecast(steps=10)[0]).plot(title=\"Futures Forecast\")"
   ]
  },
  {
   "cell_type": "code",
   "execution_count": 17,
   "metadata": {},
   "outputs": [],
   "source": [
    "# save model\n",
    "results2.save('doge_model2.pkl')"
   ]
  },
  {
   "cell_type": "code",
   "execution_count": null,
   "metadata": {},
   "outputs": [],
   "source": []
  }
 ],
 "metadata": {
  "kernelspec": {
   "display_name": "Python 3",
   "language": "python",
   "name": "python3"
  },
  "language_info": {
   "codemirror_mode": {
    "name": "ipython",
    "version": 3
   },
   "file_extension": ".py",
   "mimetype": "text/x-python",
   "name": "python",
   "nbconvert_exporter": "python",
   "pygments_lexer": "ipython3",
   "version": "3.8.5"
  }
 },
 "nbformat": 4,
 "nbformat_minor": 4
}
